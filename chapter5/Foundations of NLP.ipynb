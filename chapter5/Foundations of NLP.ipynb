{
 "cells": [
  {
   "cell_type": "markdown",
   "id": "7f3ff6e5",
   "metadata": {},
   "source": [
    "# Foundations of NLP"
   ]
  },
  {
   "cell_type": "markdown",
   "id": "6dfe9834",
   "metadata": {},
   "source": [
    "#### Imports"
   ]
  },
  {
   "cell_type": "code",
   "execution_count": 1,
   "id": "ed114762",
   "metadata": {},
   "outputs": [],
   "source": [
    "import torch\n",
    "from torchtext import datasets\n",
    "from collections import Counter"
   ]
  },
  {
   "cell_type": "code",
   "execution_count": 6,
   "id": "d353c51d",
   "metadata": {},
   "outputs": [],
   "source": [
    "train_data = datasets.IMDB('./', split=\"train\")\n",
    "test_data = datasets.IMDB(\"./\", split=\"test\") "
   ]
  },
  {
   "cell_type": "code",
   "execution_count": 7,
   "id": "6c517686",
   "metadata": {},
   "outputs": [],
   "source": [
    "def foo(data):\n",
    "    out = []\n",
    "    for i in data:\n",
    "        out.append(i)\n",
    "    return out"
   ]
  },
  {
   "cell_type": "code",
   "execution_count": 8,
   "id": "e9765f7e",
   "metadata": {},
   "outputs": [],
   "source": [
    "out = foo(train_data)"
   ]
  },
  {
   "cell_type": "code",
   "execution_count": 9,
   "id": "7d57b079",
   "metadata": {},
   "outputs": [
    {
     "data": {
      "text/plain": [
       "Counter({1: 12500, 2: 12500})"
      ]
     },
     "execution_count": 9,
     "metadata": {},
     "output_type": "execute_result"
    }
   ],
   "source": [
    "Counter([_[0] for _ in out])"
   ]
  },
  {
   "cell_type": "code",
   "execution_count": 14,
   "id": "3a7ad539",
   "metadata": {},
   "outputs": [
    {
     "data": {
      "text/plain": [
       "(2,\n",
       " \"Because of the depth of his character studies and complexity of story lines, James Joyce's works do not easily translate into film. Yet John Huston, in his last film before his death, achieved a perfect translation of Joyce's story. He received great support from his son, as writer, and daughter, as actress.\")"
      ]
     },
     "execution_count": 14,
     "metadata": {},
     "output_type": "execute_result"
    }
   ],
   "source": [
    "out[-101]"
   ]
  },
  {
   "cell_type": "code",
   "execution_count": null,
   "id": "b46456a9",
   "metadata": {},
   "outputs": [],
   "source": []
  }
 ],
 "metadata": {
  "kernelspec": {
   "display_name": "torch",
   "language": "python",
   "name": "torch"
  },
  "language_info": {
   "codemirror_mode": {
    "name": "ipython",
    "version": 3
   },
   "file_extension": ".py",
   "mimetype": "text/x-python",
   "name": "python",
   "nbconvert_exporter": "python",
   "pygments_lexer": "ipython3",
   "version": "3.10.4"
  }
 },
 "nbformat": 4,
 "nbformat_minor": 5
}
