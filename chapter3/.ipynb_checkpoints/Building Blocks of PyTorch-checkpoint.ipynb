{
 "cells": [
  {
   "cell_type": "markdown",
   "id": "089abfb7",
   "metadata": {},
   "source": [
    "# Building Blocks of PyTorch"
   ]
  },
  {
   "cell_type": "markdown",
   "id": "d8fd7272",
   "metadata": {},
   "source": [
    "#### System Imports"
   ]
  },
  {
   "cell_type": "code",
   "execution_count": 1,
   "id": "dd05ac7e",
   "metadata": {},
   "outputs": [],
   "source": [
    "import os\n",
    "import matplotlib.pyplot as plt"
   ]
  },
  {
   "cell_type": "markdown",
   "id": "18be7474",
   "metadata": {},
   "source": [
    "#### PyTorch Imports"
   ]
  },
  {
   "cell_type": "code",
   "execution_count": 2,
   "id": "e8fad9a9",
   "metadata": {},
   "outputs": [],
   "source": [
    "import torch\n",
    "from torchvision.io import read_image\n",
    "from torch.utils.data import Dataset\n",
    "from torchvision import transforms as T\n",
    "from torch.nn import functional as F \n",
    "from torch import optim\n",
    "from torch.nn import functional as F"
   ]
  },
  {
   "cell_type": "markdown",
   "id": "a0e963af",
   "metadata": {},
   "source": [
    "#### Loading MNIST Dataset using Custom Dataset"
   ]
  },
  {
   "cell_type": "code",
   "execution_count": 3,
   "id": "fcb7dabc",
   "metadata": {},
   "outputs": [],
   "source": [
    "class CustomMNISTDataset(Dataset):\n",
    "\tdef __init__(self, dataset_path):\n",
    "\t\tself.dataset_path = dataset_path\n",
    "\t\tself.imgs, self.labels = [], []\n",
    "\t\tfor dirpath, _, filenames in os.walk(self.dataset_path):\n",
    "\t\t\tself.imgs.extend([f\"{dirpath}/{i}\" for i in filenames])\n",
    "\t\t\tself.labels.extend([f\"{dirpath.split('/')[-1]}\" for _ in filenames])\n",
    "\t\t\tself.transform = T.Compose([T.Lambda(torch.flatten)])\n",
    "\t\t\tself.target_transform = T.Compose([T.Lambda(lambda x: torch.LongTensor([x])), T.Lambda(lambda x: F.one_hot(x, 10))])\n",
    "\n",
    "\tdef __len__(self):\n",
    "\t\t# Returns the Size of the Dataset\n",
    "\t\treturn len(self.imgs)\n",
    "\n",
    "\tdef __getitem__(self, idx):\n",
    "\t\t# Returns a Sample from the data\n",
    "\t\timage = read_image(self.imgs[idx])\n",
    "\t\tlabel = int(self.labels[idx]) # Converting String Label to Integer\n",
    "\t\timage = self.transform(image)\n",
    "\t\timage = image / 255.0\n",
    "\t\tlabel = self.target_transform(label)\n",
    "\t\treturn image, label"
   ]
  },
  {
   "cell_type": "code",
   "execution_count": 4,
   "id": "efcd3d43",
   "metadata": {},
   "outputs": [],
   "source": [
    "from torch.utils.data import DataLoader\n",
    "\n",
    "train_dataloader = DataLoader(CustomMNISTDataset('/Users/atifadib/Deep_Learning_with_PyTorch/chapter3/output/'),\n",
    "                              batch_size=64, shuffle=True)"
   ]
  },
  {
   "cell_type": "markdown",
   "id": "8df7af0c",
   "metadata": {},
   "source": [
    "#### Single Sample from MNIST Dataset"
   ]
  },
  {
   "cell_type": "code",
   "execution_count": 5,
   "id": "3873841a",
   "metadata": {},
   "outputs": [
    {
     "data": {
      "image/png": "[encoded data removed]",
      "text/plain": [
       "<Figure size 640x480 with 1 Axes>"
      ]
     },
     "metadata": {},
     "output_type": "display_data"
    }
   ],
   "source": [
    "train_features, train_labels = next(iter(train_dataloader))\n",
    "img = train_features[0].squeeze()\n",
    "label = train_labels[0]\n",
    "plt.title(f\"Sample Image: Label->{label}\")\n",
    "plt.imshow(img.reshape(28,28), cmap=\"gray\")\n",
    "plt.show()"
   ]
  },
  {
   "cell_type": "code",
   "execution_count": 6,
   "id": "ad678500",
   "metadata": {},
   "outputs": [
    {
     "name": "stdout",
     "output_type": "stream",
     "text": [
      "Feature batch shape: torch.Size([64, 784])\n",
      "Labels batch shape: torch.Size([64, 1, 10])\n"
     ]
    }
   ],
   "source": [
    "print(f\"Feature batch shape: {train_features.size()}\")\n",
    "print(f\"Labels batch shape: {train_labels.size()}\")"
   ]
  },
  {
   "cell_type": "markdown",
   "id": "8fed589d",
   "metadata": {},
   "source": [
    "#### Simple Neural Network for Predicting Class of HandWritten Digits"
   ]
  },
  {
   "cell_type": "code",
   "execution_count": 7,
   "id": "8361b5dc",
   "metadata": {},
   "outputs": [],
   "source": [
    "from torch import nn\n",
    "from torch.nn import functional as F\n",
    "\n",
    "class NeuralNet(nn.Module):\n",
    "    def __init__(self, h1, h2):\n",
    "        super(NeuralNet, self).__init__() #Initializing superclass\n",
    "        self.layer1 = nn.Linear(784, h1) #784 is the number of input features\n",
    "        self.layer2 = nn.Linear(h1, h2)\n",
    "        self.layer3 = nn.Linear(h2, 10)\n",
    "\n",
    "    def forward(self, x):\n",
    "        x = self.layer1(x)\n",
    "        x = self.layer2(x)\n",
    "        x = self.layer3(x)\n",
    "        out = F.log_softmax(x, dim=1)\n",
    "        return x"
   ]
  },
  {
   "cell_type": "markdown",
   "id": "14225387",
   "metadata": {},
   "source": [
    "### Training Loop in PyTorch"
   ]
  },
  {
   "cell_type": "code",
   "execution_count": 8,
   "id": "f5e6cdc2",
   "metadata": {},
   "outputs": [
    {
     "name": "stdout",
     "output_type": "stream",
     "text": [
      "0: 1.8479397296905518\n",
      "1: 0.9750990271568298\n",
      "2: 0.6475524306297302\n",
      "3: 0.5225962996482849\n",
      "4: 0.45880556106567383\n",
      "5: 0.4211426377296448\n",
      "6: 0.3965868055820465\n",
      "7: 0.37958985567092896\n",
      "8: 0.3659931421279907\n",
      "9: 0.3560301959514618\n"
     ]
    }
   ],
   "source": [
    "# Constants\n",
    "lr = 0.005\n",
    "epochs = 10\n",
    "\n",
    "# Loading Dataset\n",
    "train_dataset = CustomMNISTDataset('./output/training/')\n",
    "train_dataloader = DataLoader(train_dataset, batch_size=64, shuffle=True)\n",
    "\n",
    "# Initialize Model\n",
    "model = NeuralNet(512, 128)\n",
    "# Initialize Optimizer\n",
    "optimizer = optim.Adadelta(model.parameters(), lr=0.005)\n",
    "# Loss function\n",
    "loss_fn = nn.CrossEntropyLoss()\n",
    "\n",
    "# set model to train mode\n",
    "losses = []\n",
    "model.train()\n",
    "for epoch in range(epochs):\n",
    "\tbatch_losses = []    \n",
    "\tfor batch_idx, (data, targets) in enumerate(train_dataloader):\n",
    "\t\toptimizer.zero_grad()\n",
    "\t\toutputs = model(data)\n",
    "\t\tloss = loss_fn(outputs, targets.squeeze(1).float())\n",
    "\t\tloss.backward() # Backpropagation of loss\n",
    "\t\toptimizer.step() # Updating Weights based on Gradients\n",
    "\t\tbatch_losses.append(loss.item())\n",
    "\tfinal_epoch_loss = torch.mean(torch.Tensor(batch_losses))\n",
    "\tlosses.append(final_epoch_loss)\n",
    "\tprint(f\"{epoch}: {final_epoch_loss}\")"
   ]
  },
  {
   "cell_type": "markdown",
   "id": "2c4ac119",
   "metadata": {},
   "source": [
    "#### Plotting Training Loss and Epoch"
   ]
  },
  {
   "cell_type": "code",
   "execution_count": 9,
   "id": "152696c0",
   "metadata": {},
   "outputs": [
    {
     "data": {
      "image/png": "[encoded data removed]",
      "text/plain": [
       "<Figure size 640x480 with 1 Axes>"
      ]
     },
     "metadata": {},
     "output_type": "display_data"
    }
   ],
   "source": [
    "plt.title(\"Training Loss vs Epoch\")\n",
    "plt.xlabel(\"Epoch\")\n",
    "plt.ylabel(\"Training Loss\")\n",
    "plt.plot(range(epochs), losses)\n",
    "plt.show()"
   ]
  },
  {
   "cell_type": "markdown",
   "id": "1622a99c",
   "metadata": {},
   "source": [
    "#### Calculating Accuracy"
   ]
  },
  {
   "cell_type": "code",
   "execution_count": 11,
   "id": "5fd4c189",
   "metadata": {},
   "outputs": [
    {
     "name": "stdout",
     "output_type": "stream",
     "text": [
      "Accuracy: 0.9028\n"
     ]
    }
   ],
   "source": [
    "# Load the test data\n",
    "test_dataset = CustomMNISTDataset('./output/testing/')\n",
    "test_dataloader = DataLoader(test_dataset, batch_size=64, shuffle=True)\n",
    "\n",
    "# Set model to eval mode\n",
    "model.eval()\n",
    "\n",
    "# Loop over dataset to compute accuracy\n",
    "correct = 0\n",
    "for batch_idx, (data, targets) in enumerate(test_dataloader):\n",
    "    outputs = model(data)\n",
    "    pred = outputs.argmax(dim=1, keepdim=True) \n",
    "    correct += pred.eq(targets.argmax(dim=2).view_as(pred)).sum().item()\n",
    "accuracy = correct / test_dataset.__len__()\n",
    "print(f\"Accuracy: {accuracy}\")"
   ]
  },
  {
   "cell_type": "markdown",
   "id": "4b97e779",
   "metadata": {},
   "source": [
    "#### Encapsulating Entire Training and Validation into one Function\n",
    "#### Trainer Function"
   ]
  },
  {
   "cell_type": "code",
   "execution_count": 12,
   "id": "ba11be43",
   "metadata": {},
   "outputs": [],
   "source": [
    "def trainer(config, epochs=10, data_dir=None):\n",
    "    # Loading Dataset\n",
    "    train_dataset = CustomMNISTDataset(data_dir+'/training/')\n",
    "    train_dataloader = DataLoader(train_dataset, batch_size=config[\"batch_size\"], shuffle=True)\n",
    "\n",
    "    # Initialize Model\n",
    "    model = NeuralNet(config[\"hidden_layer_1\"], config[\"hidden_layer_2\"])\n",
    "    # Initialize Optimizer\n",
    "    optimizer = optim.Adadelta(model.parameters(), lr=config[\"lr\"])\n",
    "    # Loss function\n",
    "    loss_fn = nn.CrossEntropyLoss()\n",
    "    \n",
    "    checkpoint = session.get_checkpoint()\n",
    "\n",
    "    if checkpoint:\n",
    "        checkpoint_state = checkpoint.to_dict()\n",
    "        start_epoch = checkpoint_state[\"epoch\"]\n",
    "        net.load_state_dict(checkpoint_state[\"net_state_dict\"])\n",
    "        optimizer.load_state_dict(checkpoint_state[\"optimizer_state_dict\"])\n",
    "    else:\n",
    "        start_epoch = 0\n",
    "\n",
    "    # set model to train mode\n",
    "    losses = []\n",
    "    model.train()\n",
    "    for epoch in range(epochs):\n",
    "        batch_losses = []    \n",
    "        for batch_idx, (data, targets) in enumerate(train_dataloader):\n",
    "            optimizer.zero_grad()\n",
    "            outputs = model(data)\n",
    "            loss = loss_fn(outputs, targets.squeeze(1).float())\n",
    "            loss.backward() # Backpropagation of loss\n",
    "            optimizer.step() # Updating Weights based on Gradients\n",
    "            batch_losses.append(loss.item())\n",
    "        final_epoch_loss = torch.mean(torch.Tensor(batch_losses))\n",
    "        losses.append(final_epoch_loss.item())\n",
    "        \n",
    "    # Load the test data\n",
    "    test_dataset = CustomMNISTDataset(data_dir+'/testing/')\n",
    "    test_dataloader = DataLoader(test_dataset, batch_size=64, shuffle=True)\n",
    "\n",
    "    # Set model to eval mode\n",
    "    model.eval()\n",
    "\n",
    "    # Loop over dataset to compute accuracy\n",
    "    correct = 0\n",
    "    for batch_idx, (data, targets) in enumerate(test_dataloader):\n",
    "        outputs = model(data)\n",
    "        pred = outputs.argmax(dim=1, keepdim=True) \n",
    "        correct += pred.eq(targets.argmax(dim=2).view_as(pred)).sum().item()\n",
    "    accuracy = correct / test_dataset.__len__()\n",
    "    session.report({\"loss\": sum(losses) / len(losses), \"accuracy\": accuracy})"
   ]
  },
  {
   "cell_type": "markdown",
   "id": "e47ebfdd",
   "metadata": {},
   "source": [
    "#### Setting Up Ray Tune Configs and Scheduler"
   ]
  },
  {
   "cell_type": "code",
   "execution_count": 13,
   "id": "64cc1f17",
   "metadata": {},
   "outputs": [],
   "source": [
    "from functools import partial\n",
    "from ray import tune\n",
    "from ray.air import Checkpoint, session\n",
    "from ray.tune.schedulers import ASHAScheduler\n",
    "\n",
    "max_num_epochs = 10\n",
    "num_samples = 10\n",
    "\n",
    "config = {\n",
    "\t\"hidden_layer_1\": tune.choice([512, 256]),\n",
    "\t\"hidden_layer_2\": tune.choice([128, 64]),\n",
    "\t\"lr\": tune.loguniform(1e-4, 1e-1),\n",
    "\t\"batch_size\": tune.choice([32, 48, 64])}\n",
    "\n",
    "scheduler = ASHAScheduler(\n",
    "        metric=\"loss\",\n",
    "        mode=\"min\",\n",
    "        max_t=max_num_epochs,\n",
    "        grace_period=1,\n",
    "        reduction_factor=2,\n",
    "    )"
   ]
  },
  {
   "cell_type": "code",
   "execution_count": 14,
   "id": "b67b9997",
   "metadata": {},
   "outputs": [
    {
     "name": "stderr",
     "output_type": "stream",
     "text": [
      "2023-10-18 21:39:56,322\tINFO worker.py:1642 -- Started a local Ray instance.\n",
      "2023-10-18 21:39:57,151\tINFO tune.py:228 -- Initializing Ray automatically. For cluster usage or custom Ray initialization, call `ray.init(...)` before `tune.run(...)`.\n",
      "2023-10-18 21:39:57,153\tINFO tune.py:645 -- [output] This uses the legacy output and progress reporter, as Jupyter notebooks are not supported by the new engine, yet. For more information, please see https://github.com/ray-project/ray/issues/36949\n"
     ]
    },
    {
     "data": {
      "text/html": [
       "<div class=\"tuneStatus\">\n",
       "  <div style=\"display: flex;flex-direction: row\">\n",
       "    <div style=\"display: flex;flex-direction: column;\">\n",
       "      <h3>Tune Status</h3>\n",
       "      <table>\n",
       "<tbody>\n",
       "<tr><td>Current time:</td><td>2023-10-18 21:42:44</td></tr>\n",
       "<tr><td>Running for: </td><td>00:02:46.98        </td></tr>\n",
       "<tr><td>Memory:      </td><td>7.6/8.0 GiB        </td></tr>\n",
       "</tbody>\n",
       "</table>\n",
       "    </div>\n",
       "    <div class=\"vDivider\"></div>\n",
       "    <div class=\"systemInfo\">\n",
       "      <h3>System Info</h3>\n",
       "      Using AsyncHyperBand: num_stopped=3<br>Bracket: Iter 8.000: None | Iter 4.000: None | Iter 2.000: None | Iter 1.000: -1.4415028870105742<br>Logical resource usage: 1.0/8 CPUs, 0/0 GPUs\n",
       "    </div>\n",
       "    <div class=\"vDivider\"></div>\n",
       "<div class=\"messages\">\n",
       "  <h3>Messages</h3>\n",
       "  : ***LOW MEMORY*** less than 10% of the memory on this node is available for use. This can cause unexpected crashes. Consider reducing the memory used by your application or reducing the Ray object store size by setting `object_store_memory` when calling `ray.init`.\n",
       "  \n",
       "  \n",
       "</div>\n",
       "<style>\n",
       ".messages {\n",
       "  color: var(--jp-ui-font-color1);\n",
       "  display: flex;\n",
       "  flex-direction: column;\n",
       "  padding-left: 1em;\n",
       "  overflow-y: auto;\n",
       "}\n",
       ".messages h3 {\n",
       "  font-weight: bold;\n",
       "}\n",
       ".vDivider {\n",
       "  border-left-width: var(--jp-border-width);\n",
       "  border-left-color: var(--jp-border-color0);\n",
       "  border-left-style: solid;\n",
       "  margin: 0.5em 1em 0.5em 1em;\n",
       "}\n",
       "</style>\n",
       "\n",
       "  </div>\n",
       "  <div class=\"hDivider\"></div>\n",
       "  <div class=\"trialStatus\">\n",
       "    <h3>Trial Status</h3>\n",
       "    <table>\n",
       "<thead>\n",
       "<tr><th>Trial name         </th><th>status    </th><th>loc            </th><th style=\"text-align: right;\">  batch_size</th><th style=\"text-align: right;\">  hidden_layer_1</th><th style=\"text-align: right;\">  hidden_layer_2</th><th style=\"text-align: right;\">         lr</th><th style=\"text-align: right;\">  iter</th><th style=\"text-align: right;\">  total time (s)</th><th style=\"text-align: right;\">    loss</th><th style=\"text-align: right;\">  accuracy</th></tr>\n",
       "</thead>\n",
       "<tbody>\n",
       "<tr><td>trainer_8e1f6_00000</td><td>TERMINATED</td><td>127.0.0.1:25814</td><td style=\"text-align: right;\">          48</td><td style=\"text-align: right;\">             512</td><td style=\"text-align: right;\">              64</td><td style=\"text-align: right;\">0.0131781  </td><td style=\"text-align: right;\">     1</td><td style=\"text-align: right;\">         97.118 </td><td style=\"text-align: right;\">0.538548</td><td style=\"text-align: right;\">    0.9109</td></tr>\n",
       "<tr><td>trainer_8e1f6_00001</td><td>TERMINATED</td><td>127.0.0.1:25815</td><td style=\"text-align: right;\">          64</td><td style=\"text-align: right;\">             512</td><td style=\"text-align: right;\">              64</td><td style=\"text-align: right;\">0.00214634 </td><td style=\"text-align: right;\">     1</td><td style=\"text-align: right;\">         91.3011</td><td style=\"text-align: right;\">1.47806 </td><td style=\"text-align: right;\">    0.8061</td></tr>\n",
       "<tr><td>trainer_8e1f6_00002</td><td>TERMINATED</td><td>127.0.0.1:25816</td><td style=\"text-align: right;\">          32</td><td style=\"text-align: right;\">             512</td><td style=\"text-align: right;\">              64</td><td style=\"text-align: right;\">0.00129984 </td><td style=\"text-align: right;\">     1</td><td style=\"text-align: right;\">        103.354 </td><td style=\"text-align: right;\">1.40495 </td><td style=\"text-align: right;\">    0.8321</td></tr>\n",
       "<tr><td>trainer_8e1f6_00003</td><td>TERMINATED</td><td>127.0.0.1:25817</td><td style=\"text-align: right;\">          32</td><td style=\"text-align: right;\">             256</td><td style=\"text-align: right;\">             128</td><td style=\"text-align: right;\">0.000242174</td><td style=\"text-align: right;\">     1</td><td style=\"text-align: right;\">         90.0152</td><td style=\"text-align: right;\">2.16802 </td><td style=\"text-align: right;\">    0.6958</td></tr>\n",
       "<tr><td>trainer_8e1f6_00004</td><td>TERMINATED</td><td>127.0.0.1:25818</td><td style=\"text-align: right;\">          48</td><td style=\"text-align: right;\">             512</td><td style=\"text-align: right;\">              64</td><td style=\"text-align: right;\">0.0013529  </td><td style=\"text-align: right;\">     1</td><td style=\"text-align: right;\">         97.2941</td><td style=\"text-align: right;\">1.5946  </td><td style=\"text-align: right;\">    0.8054</td></tr>\n",
       "<tr><td>trainer_8e1f6_00005</td><td>TERMINATED</td><td>127.0.0.1:25819</td><td style=\"text-align: right;\">          32</td><td style=\"text-align: right;\">             512</td><td style=\"text-align: right;\">              64</td><td style=\"text-align: right;\">0.012783   </td><td style=\"text-align: right;\">     1</td><td style=\"text-align: right;\">        103.176 </td><td style=\"text-align: right;\">0.482466</td><td style=\"text-align: right;\">    0.9141</td></tr>\n",
       "<tr><td>trainer_8e1f6_00006</td><td>TERMINATED</td><td>127.0.0.1:25820</td><td style=\"text-align: right;\">          48</td><td style=\"text-align: right;\">             512</td><td style=\"text-align: right;\">             128</td><td style=\"text-align: right;\">0.000110933</td><td style=\"text-align: right;\">     1</td><td style=\"text-align: right;\">         99.5073</td><td style=\"text-align: right;\">2.24629 </td><td style=\"text-align: right;\">    0.5104</td></tr>\n",
       "<tr><td>trainer_8e1f6_00007</td><td>TERMINATED</td><td>127.0.0.1:25821</td><td style=\"text-align: right;\">          48</td><td style=\"text-align: right;\">             512</td><td style=\"text-align: right;\">              64</td><td style=\"text-align: right;\">0.00190065 </td><td style=\"text-align: right;\">     1</td><td style=\"text-align: right;\">         97.4514</td><td style=\"text-align: right;\">1.34412 </td><td style=\"text-align: right;\">    0.8383</td></tr>\n",
       "<tr><td>trainer_8e1f6_00008</td><td>TERMINATED</td><td>127.0.0.1:25817</td><td style=\"text-align: right;\">          64</td><td style=\"text-align: right;\">             256</td><td style=\"text-align: right;\">             128</td><td style=\"text-align: right;\">0.000187373</td><td style=\"text-align: right;\">     1</td><td style=\"text-align: right;\">         40.9069</td><td style=\"text-align: right;\">2.25873 </td><td style=\"text-align: right;\">    0.415 </td></tr>\n",
       "<tr><td>trainer_8e1f6_00009</td><td>TERMINATED</td><td>127.0.0.1:25815</td><td style=\"text-align: right;\">          32</td><td style=\"text-align: right;\">             512</td><td style=\"text-align: right;\">             128</td><td style=\"text-align: right;\">0.0127463  </td><td style=\"text-align: right;\">     1</td><td style=\"text-align: right;\">         71.4595</td><td style=\"text-align: right;\">0.468081</td><td style=\"text-align: right;\">    0.917 </td></tr>\n",
       "</tbody>\n",
       "</table>\n",
       "  </div>\n",
       "</div>\n",
       "<style>\n",
       ".tuneStatus {\n",
       "  color: var(--jp-ui-font-color1);\n",
       "}\n",
       ".tuneStatus .systemInfo {\n",
       "  display: flex;\n",
       "  flex-direction: column;\n",
       "}\n",
       ".tuneStatus td {\n",
       "  white-space: nowrap;\n",
       "}\n",
       ".tuneStatus .trialStatus {\n",
       "  display: flex;\n",
       "  flex-direction: column;\n",
       "}\n",
       ".tuneStatus h3 {\n",
       "  font-weight: bold;\n",
       "}\n",
       ".tuneStatus .hDivider {\n",
       "  border-bottom-width: var(--jp-border-width);\n",
       "  border-bottom-color: var(--jp-border-color0);\n",
       "  border-bottom-style: solid;\n",
       "}\n",
       ".tuneStatus .vDivider {\n",
       "  border-left-width: var(--jp-border-width);\n",
       "  border-left-color: var(--jp-border-color0);\n",
       "  border-left-style: solid;\n",
       "  margin: 0.5em 1em 0.5em 1em;\n",
       "}\n",
       "</style>\n"
      ],
      "text/plain": [
       "<IPython.core.display.HTML object>"
      ]
     },
     "metadata": {},
     "output_type": "display_data"
    },
    {
     "data": {
      "text/html": [
       "<div class=\"trialProgress\">\n",
       "  <h3>Trial Progress</h3>\n",
       "  <table>\n",
       "<thead>\n",
       "<tr><th>Trial name         </th><th style=\"text-align: right;\">  accuracy</th><th style=\"text-align: right;\">    loss</th></tr>\n",
       "</thead>\n",
       "<tbody>\n",
       "<tr><td>trainer_8e1f6_00000</td><td style=\"text-align: right;\">    0.9109</td><td style=\"text-align: right;\">0.538548</td></tr>\n",
       "<tr><td>trainer_8e1f6_00001</td><td style=\"text-align: right;\">    0.8061</td><td style=\"text-align: right;\">1.47806 </td></tr>\n",
       "<tr><td>trainer_8e1f6_00002</td><td style=\"text-align: right;\">    0.8321</td><td style=\"text-align: right;\">1.40495 </td></tr>\n",
       "<tr><td>trainer_8e1f6_00003</td><td style=\"text-align: right;\">    0.6958</td><td style=\"text-align: right;\">2.16802 </td></tr>\n",
       "<tr><td>trainer_8e1f6_00004</td><td style=\"text-align: right;\">    0.8054</td><td style=\"text-align: right;\">1.5946  </td></tr>\n",
       "<tr><td>trainer_8e1f6_00005</td><td style=\"text-align: right;\">    0.9141</td><td style=\"text-align: right;\">0.482466</td></tr>\n",
       "<tr><td>trainer_8e1f6_00006</td><td style=\"text-align: right;\">    0.5104</td><td style=\"text-align: right;\">2.24629 </td></tr>\n",
       "<tr><td>trainer_8e1f6_00007</td><td style=\"text-align: right;\">    0.8383</td><td style=\"text-align: right;\">1.34412 </td></tr>\n",
       "<tr><td>trainer_8e1f6_00008</td><td style=\"text-align: right;\">    0.415 </td><td style=\"text-align: right;\">2.25873 </td></tr>\n",
       "<tr><td>trainer_8e1f6_00009</td><td style=\"text-align: right;\">    0.917 </td><td style=\"text-align: right;\">0.468081</td></tr>\n",
       "</tbody>\n",
       "</table>\n",
       "</div>\n",
       "<style>\n",
       ".trialProgress {\n",
       "  display: flex;\n",
       "  flex-direction: column;\n",
       "  color: var(--jp-ui-font-color1);\n",
       "}\n",
       ".trialProgress h3 {\n",
       "  font-weight: bold;\n",
       "}\n",
       ".trialProgress td {\n",
       "  white-space: nowrap;\n",
       "}\n",
       "</style>\n"
      ],
      "text/plain": [
       "<IPython.core.display.HTML object>"
      ]
     },
     "metadata": {},
     "output_type": "display_data"
    },
    {
     "name": "stderr",
     "output_type": "stream",
     "text": [
      "2023-10-18 21:42:44,171\tINFO tune.py:1143 -- Total run time: 167.02 seconds (166.98 seconds for the tuning loop).\n"
     ]
    },
    {
     "name": "stdout",
     "output_type": "stream",
     "text": [
      "Best trial config: {'hidden_layer_1': 512, 'hidden_layer_2': 128, 'lr': 0.012746297610971511, 'batch_size': 32}\n",
      "Best trial final validation loss:  0.46808149814605715\n",
      "Best trial final validation loss:  0.917\n"
     ]
    }
   ],
   "source": [
    "result = tune.run(\n",
    "        partial(trainer,epochs=5, data_dir='/Users/atifadib/Deep_Learning_with_PyTorch/chapter3/output'),\n",
    "        resources_per_trial={\"cpu\": 1, \"gpus_per_trial\": 0},\n",
    "        config=config,\n",
    "        num_samples=num_samples,\n",
    "        scheduler=scheduler,\n",
    "    )\n",
    "\n",
    "best_trial = result.get_best_trial(\"loss\", \"min\", \"last\")\n",
    "print(f\"Best trial config: {best_trial.config}\")\n",
    "print(f\"Best trial final validation loss:  {best_trial.last_result['loss']}\")\n",
    "print(f\"Best trial final validation loss:  {best_trial.last_result['accuracy']}\")"
   ]
  },
  {
   "cell_type": "markdown",
   "id": "3798fe4d",
   "metadata": {},
   "source": [
    "#### Saving and Reloading a Model"
   ]
  },
  {
   "cell_type": "code",
   "execution_count": 17,
   "id": "4f1bac40",
   "metadata": {},
   "outputs": [],
   "source": [
    "torch.save(model.state_dict(), 'model.pth')"
   ]
  },
  {
   "cell_type": "code",
   "execution_count": 20,
   "id": "2f62cd20",
   "metadata": {},
   "outputs": [],
   "source": [
    "model_new = NeuralNet(512, 128)"
   ]
  },
  {
   "cell_type": "code",
   "execution_count": 21,
   "id": "024c5690",
   "metadata": {},
   "outputs": [
    {
     "data": {
      "text/plain": [
       "<All keys matched successfully>"
      ]
     },
     "execution_count": 21,
     "metadata": {},
     "output_type": "execute_result"
    }
   ],
   "source": [
    "model_new.load_state_dict(torch.load('model.pth'))"
   ]
  },
  {
   "cell_type": "code",
   "execution_count": null,
   "id": "eebdeba2",
   "metadata": {},
   "outputs": [],
   "source": []
  }
 ],
 "metadata": {
  "kernelspec": {
   "display_name": "torch",
   "language": "python",
   "name": "torch"
  },
  "language_info": {
   "codemirror_mode": {
    "name": "ipython",
    "version": 3
   },
   "file_extension": ".py",
   "mimetype": "text/x-python",
   "name": "python",
   "nbconvert_exporter": "python",
   "pygments_lexer": "ipython3",
   "version": "3.10.4"
  }
 },
 "nbformat": 4,
 "nbformat_minor": 5
}
