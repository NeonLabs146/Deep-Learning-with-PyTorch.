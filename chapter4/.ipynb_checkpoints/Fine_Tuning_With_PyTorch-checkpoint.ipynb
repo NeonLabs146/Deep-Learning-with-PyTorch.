{
 "cells": [
  {
   "cell_type": "markdown",
   "id": "81300cce",
   "metadata": {
    "id": "81300cce"
   },
   "source": [
    "# Fine Tuning with PyTorch\n",
    "- Using CIFAR-10 Dataset to first train a model from scratch\n",
    "- then train a model by Fine Tuning a pretrained VGG11 model\n",
    "- and then compare the results"
   ]
  },
  {
   "cell_type": "code",
   "execution_count": 81,
   "id": "80688c50",
   "metadata": {
    "id": "80688c50"
   },
   "outputs": [],
   "source": [
    "import torch\n",
    "import torchvision\n",
    "import torchvision.transforms as transforms\n",
    "from collections import defaultdict"
   ]
  },
  {
   "cell_type": "code",
   "execution_count": 71,
   "id": "uAuSPLa1lh4E",
   "metadata": {
    "colab": {
     "base_uri": "https://localhost:8080/"
    },
    "id": "uAuSPLa1lh4E",
    "outputId": "b9a57b75-b00c-4775-db0b-cc2f1f28e256"
   },
   "outputs": [
    {
     "data": {
      "text/plain": [
       "True"
      ]
     },
     "execution_count": 71,
     "metadata": {},
     "output_type": "execute_result"
    }
   ],
   "source": [
    "torch.cuda.is_available()"
   ]
  },
  {
   "cell_type": "code",
   "execution_count": 72,
   "id": "sZt60TqQllVw",
   "metadata": {
    "colab": {
     "base_uri": "https://localhost:8080/"
    },
    "id": "sZt60TqQllVw",
    "outputId": "53ae5403-294f-49a9-fcaa-3583e31e41ae"
   },
   "outputs": [
    {
     "data": {
      "text/plain": [
       "device(type='cuda', index=0)"
      ]
     },
     "execution_count": 72,
     "metadata": {},
     "output_type": "execute_result"
    }
   ],
   "source": [
    "device = torch.device('cuda:0' if torch.cuda.is_available() else 'cpu')\n",
    "device"
   ]
  },
  {
   "cell_type": "code",
   "execution_count": 82,
   "id": "4n24U4hniz3j",
   "metadata": {
    "id": "4n24U4hniz3j"
   },
   "outputs": [],
   "source": [
    "ACCURACY_COMPARE = defaultdict(dict)"
   ]
  },
  {
   "cell_type": "markdown",
   "id": "8ad3484f",
   "metadata": {
    "id": "8ad3484f"
   },
   "source": [
    "#### Define Transforms and Load Dataset"
   ]
  },
  {
   "cell_type": "code",
   "execution_count": 74,
   "id": "48c15d77",
   "metadata": {
    "colab": {
     "base_uri": "https://localhost:8080/"
    },
    "id": "48c15d77",
    "outputId": "2add4b6f-277c-4773-d88b-0eb8e51ee55f"
   },
   "outputs": [
    {
     "name": "stdout",
     "output_type": "stream",
     "text": [
      "Files already downloaded and verified\n",
      "Files already downloaded and verified\n"
     ]
    }
   ],
   "source": [
    "transform = transforms.Compose(\n",
    "    [transforms.ToTensor(),\n",
    "     transforms.Normalize(mean=(0.485, 0.456, 0.406), std=(0.229, 0.224, 0.225))])\n",
    "\n",
    "batch_size = 256\n",
    "\n",
    "trainset = torchvision.datasets.CIFAR10(root='./data', train=True,\n",
    "                                        download=True, transform=transform)\n",
    "trainloader = torch.utils.data.DataLoader(trainset, batch_size=batch_size,\n",
    "                                          shuffle=True, num_workers=2)\n",
    "\n",
    "testset = torchvision.datasets.CIFAR10(root='./data', train=False,\n",
    "                                       download=True, transform=transform)\n",
    "testloader = torch.utils.data.DataLoader(testset, batch_size=batch_size,\n",
    "                                         shuffle=False, num_workers=2)\n",
    "\n",
    "classes = ('plane', 'car', 'bird', 'cat',\n",
    "           'deer', 'dog', 'frog', 'horse', 'ship', 'truck')"
   ]
  },
  {
   "cell_type": "markdown",
   "id": "778b3ce7",
   "metadata": {
    "id": "778b3ce7"
   },
   "source": [
    "#### Image Samples"
   ]
  },
  {
   "cell_type": "code",
   "execution_count": 77,
   "id": "de7df48b",
   "metadata": {
    "colab": {
     "base_uri": "https://localhost:8080/",
     "height": 248
    },
    "id": "de7df48b",
    "outputId": "1978fa1f-3878-4109-851d-9dbef76a6475"
   },
   "outputs": [
    {
     "name": "stderr",
     "output_type": "stream",
     "text": [
      "WARNING:matplotlib.image:Clipping input data to the valid range for imshow with RGB data ([0..1] for floats or [0..255] for integers).\n"
     ]
    },
    {
     "data": {
      "image/png": "[encoded data removed]",
      "text/plain": [
       "<Figure size 640x480 with 1 Axes>"
      ]
     },
     "metadata": {},
     "output_type": "display_data"
    },
    {
     "name": "stdout",
     "output_type": "stream",
     "text": [
      "plane plane plane car  \n"
     ]
    }
   ],
   "source": [
    "import matplotlib.pyplot as plt\n",
    "import numpy as np\n",
    "\n",
    "# functions to show an image\n",
    "def imshow(img):\n",
    "    img = img / 2 + 0.5 # un-normalize\n",
    "    np_img = img.numpy()\n",
    "    plt.imshow(np.transpose(np_img, (1, 2, 0)))\n",
    "    plt.show()\n",
    "\n",
    "# get some random training images\n",
    "dataiter = iter(trainloader)\n",
    "images, labels = next(dataiter)\n",
    "images = images[:4]\n",
    "labels = labels[:4]\n",
    "\n",
    "# show images\n",
    "imshow(torchvision.utils.make_grid(images))\n",
    "# print labels\n",
    "print(' '.join(f'{classes[labels[j]]:5s}' for j in range(4)))"
   ]
  },
  {
   "cell_type": "markdown",
   "id": "4a7e5af5",
   "metadata": {
    "id": "4a7e5af5"
   },
   "source": [
    "## Model Class"
   ]
  },
  {
   "cell_type": "code",
   "execution_count": 78,
   "id": "8483d0f3",
   "metadata": {
    "colab": {
     "base_uri": "https://localhost:8080/"
    },
    "id": "8483d0f3",
    "outputId": "17919148-abd2-4614-8a89-f1585cf44414"
   },
   "outputs": [
    {
     "name": "stdout",
     "output_type": "stream",
     "text": [
      "Resetting Layer:  Conv2d(3, 64, kernel_size=(3, 3), stride=(1, 1), padding=(1, 1))\n",
      "Resetting Layer:  Conv2d(64, 128, kernel_size=(3, 3), stride=(1, 1), padding=(1, 1))\n",
      "Resetting Layer:  Conv2d(128, 256, kernel_size=(3, 3), stride=(1, 1), padding=(1, 1))\n",
      "Resetting Layer:  Conv2d(256, 256, kernel_size=(3, 3), stride=(1, 1), padding=(1, 1))\n",
      "Resetting Layer:  Conv2d(256, 512, kernel_size=(3, 3), stride=(1, 1), padding=(1, 1))\n",
      "Resetting Layer:  Conv2d(512, 512, kernel_size=(3, 3), stride=(1, 1), padding=(1, 1))\n",
      "Resetting Layer:  Conv2d(512, 512, kernel_size=(3, 3), stride=(1, 1), padding=(1, 1))\n",
      "Resetting Layer:  Conv2d(512, 512, kernel_size=(3, 3), stride=(1, 1), padding=(1, 1))\n",
      "Resetting Layer:  Linear(in_features=25088, out_features=4096, bias=True)\n",
      "Resetting Layer:  Linear(in_features=4096, out_features=4096, bias=True)\n",
      "Resetting Layer:  Linear(in_features=4096, out_features=10, bias=True)\n"
     ]
    }
   ],
   "source": [
    "import torch.nn as nn\n",
    "import torch.nn.functional as F\n",
    "import torchvision\n",
    "\n",
    "class PreTrainedNet(nn.Module):\n",
    "    def __init__(self):\n",
    "        super().__init__()\n",
    "        self.pretrained_vgg11 = torchvision.models.vgg11(weights=\"DEFAULT\")\n",
    "        self.pretrained_vgg11.classifier[6] = nn.Linear(4096, 10)\n",
    "\n",
    "    def forward(self, x):\n",
    "        return self.pretrained_vgg11(x)\n",
    "\n",
    "    @staticmethod\n",
    "    def reset_model_weights(layer):\n",
    "      if hasattr(layer, 'reset_parameters'):\n",
    "        print('Resetting Layer: ',layer)\n",
    "        layer.reset_parameters()\n",
    "      elif hasattr(layer, 'children'):\n",
    "        for child in layer.children():\n",
    "          PreTrainedNet.reset_model_weights(child)\n",
    "\n",
    "    def reset_weights(self):\n",
    "      for child in self.children():\n",
    "        PreTrainedNet.reset_model_weights(child)\n",
    "\n",
    "model_with_reset_weights = PreTrainedNet()\n",
    "model_with_reset_weights.reset_weights()\n",
    "model_with_reset_weights.train()\n",
    "\n",
    "model_with_reset_weights = model_with_reset_weights.to(device)"
   ]
  },
  {
   "cell_type": "code",
   "execution_count": 79,
   "id": "f599310f",
   "metadata": {
    "id": "f599310f"
   },
   "outputs": [],
   "source": [
    "import torch.optim as optim\n",
    "\n",
    "criterion_new = nn.CrossEntropyLoss()\n",
    "optimizer_new = optim.SGD(model_with_reset_weights.parameters(),\n",
    "                          lr=0.05, momentum=0.9)"
   ]
  },
  {
   "cell_type": "markdown",
   "id": "078e8c85",
   "metadata": {
    "id": "078e8c85"
   },
   "source": [
    "### Training Loop (with Reset Weights Model)\n"
   ]
  },
  {
   "cell_type": "code",
   "execution_count": 80,
   "id": "473c5c44",
   "metadata": {
    "colab": {
     "base_uri": "https://localhost:8080/"
    },
    "id": "473c5c44",
    "outputId": "8e38161d-08df-4f69-8b31-1d9683b12c30"
   },
   "outputs": [
    {
     "name": "stdout",
     "output_type": "stream",
     "text": [
      "[1,   100] loss: 2.303\n",
      "[2,   100] loss: 2.295\n",
      "[3,   100] loss: 2.303\n",
      "[4,   100] loss: 2.217\n",
      "[5,   100] loss: 1.845\n",
      "[6,   100] loss: 1.545\n",
      "[7,   100] loss: 1.221\n",
      "[8,   100] loss: 0.970\n",
      "[9,   100] loss: 0.767\n",
      "[10,   100] loss: 0.623\n",
      "Finished Training\n"
     ]
    }
   ],
   "source": [
    "# Set model to train mode\n",
    "model_with_reset_weights.train()\n",
    "\n",
    "for epoch in range(10):  # loop over the dataset multiple times\n",
    "    running_loss = 0.0\n",
    "    for i, data in enumerate(trainloader, 0):\n",
    "        # get the inputs; data is a list of [inputs, labels]\n",
    "        inputs, labels = data[0].to(device), data[1].to(device)\n",
    "\n",
    "        # zero the parameter gradients\n",
    "        optimizer_new.zero_grad()\n",
    "\n",
    "        # forward + backward + optimize\n",
    "        outputs = model_with_reset_weights(inputs)\n",
    "        loss = criterion_new(outputs, labels)\n",
    "        loss.backward()\n",
    "        optimizer_new.step()\n",
    "\n",
    "        # print statistics\n",
    "        running_loss += loss.item()\n",
    "        if i % 100 == 99:    # print every 2000 mini-batches\n",
    "            print(f'[{epoch + 1}, {i + 1:5d}] loss: {running_loss / 100:.3f}')\n",
    "            running_loss = 0.0\n",
    "\n",
    "print('Finished Training')"
   ]
  },
  {
   "cell_type": "markdown",
   "id": "b0772505",
   "metadata": {
    "id": "b0772505"
   },
   "source": [
    "### Accuracy per Class (Training Model from Scratch)"
   ]
  },
  {
   "cell_type": "code",
   "execution_count": 83,
   "id": "1bb43a13",
   "metadata": {
    "colab": {
     "base_uri": "https://localhost:8080/"
    },
    "id": "1bb43a13",
    "outputId": "8a1c27be-c408-48d9-daf1-722cd317903f"
   },
   "outputs": [
    {
     "name": "stdout",
     "output_type": "stream",
     "text": [
      "Accuracy for class: plane is 88.7 %\n",
      "Accuracy for class: car   is 89.2 %\n",
      "Accuracy for class: bird  is 55.4 %\n",
      "Accuracy for class: cat   is 43.6 %\n",
      "Accuracy for class: deer  is 76.5 %\n",
      "Accuracy for class: dog   is 65.5 %\n",
      "Accuracy for class: frog  is 84.1 %\n",
      "Accuracy for class: horse is 90.7 %\n",
      "Accuracy for class: ship  is 76.8 %\n",
      "Accuracy for class: truck is 77.8 %\n"
     ]
    }
   ],
   "source": [
    "# prepare to count predictions for each class\n",
    "correct_pred = {classname: 0 for classname in classes}\n",
    "total_pred = {classname: 0 for classname in classes}\n",
    "\n",
    "# set model to eval mode\n",
    "model_with_reset_weights.eval()\n",
    "\n",
    "# again no gradients needed\n",
    "with torch.no_grad():\n",
    "    for data in testloader:\n",
    "        images, labels = data[0].to(device), data[1].to(device)\n",
    "        outputs = model_with_reset_weights(images)\n",
    "        _, predictions = torch.max(outputs, 1)\n",
    "        # collect the correct predictions for each class\n",
    "        for label, prediction in zip(labels, predictions):\n",
    "            if label == prediction:\n",
    "                correct_pred[classes[label]] += 1\n",
    "            total_pred[classes[label]] += 1\n",
    "\n",
    "\n",
    "# print accuracy for each class\n",
    "for classname, correct_count in correct_pred.items():\n",
    "    accuracy = 100 * float(correct_count) / total_pred[classname]\n",
    "    print(f'Accuracy for class: {classname:5s} is {accuracy:.1f} %')\n",
    "    ACCURACY_COMPARE[classname].update({'from_scratch': accuracy})"
   ]
  },
  {
   "cell_type": "code",
   "execution_count": null,
   "id": "HLxXVFeqmY9Z",
   "metadata": {
    "id": "HLxXVFeqmY9Z"
   },
   "outputs": [],
   "source": []
  },
  {
   "cell_type": "markdown",
   "id": "8gtYS-k6mV4r",
   "metadata": {
    "id": "8gtYS-k6mV4r"
   },
   "source": [
    "# Model with Pretrained Weights"
   ]
  },
  {
   "cell_type": "code",
   "execution_count": 84,
   "id": "D8yZf7wcHYbW",
   "metadata": {
    "id": "D8yZf7wcHYbW"
   },
   "outputs": [],
   "source": [
    "model_with_pretrained_weights = PreTrainedNet()\n",
    "# Not resetting the weights\n",
    "model_with_pretrained_weights.train()\n",
    "\n",
    "model_with_pretrained_weights = model_with_pretrained_weights.to(device)"
   ]
  },
  {
   "cell_type": "markdown",
   "id": "8DuWTPVsmarb",
   "metadata": {
    "id": "8DuWTPVsmarb"
   },
   "source": [
    "#### Optimizer has Learning Rate 50x smaller than the previous model"
   ]
  },
  {
   "cell_type": "code",
   "execution_count": 85,
   "id": "eEInwU8-dIpo",
   "metadata": {
    "id": "eEInwU8-dIpo"
   },
   "outputs": [],
   "source": [
    "import torch.optim as optim\n",
    "\n",
    "criterion_new = nn.CrossEntropyLoss()\n",
    "optimizer_new = optim.SGD(model_with_pretrained_weights.parameters(),\n",
    "                          lr=0.001, momentum=0.9)"
   ]
  },
  {
   "cell_type": "code",
   "execution_count": 86,
   "id": "I01uLWr-dpG_",
   "metadata": {
    "colab": {
     "base_uri": "https://localhost:8080/"
    },
    "id": "I01uLWr-dpG_",
    "outputId": "5716f9cd-7d9b-4a70-9c56-7494d754edcb"
   },
   "outputs": [
    {
     "name": "stdout",
     "output_type": "stream",
     "text": [
      "[1,   100] loss: 1.303\n",
      "[2,   100] loss: 0.675\n",
      "[3,   100] loss: 0.550\n",
      "[4,   100] loss: 0.473\n",
      "[5,   100] loss: 0.418\n",
      "[6,   100] loss: 0.361\n",
      "[7,   100] loss: 0.307\n",
      "[8,   100] loss: 0.262\n",
      "[9,   100] loss: 0.231\n",
      "[10,   100] loss: 0.200\n",
      "Finished Training\n"
     ]
    }
   ],
   "source": [
    "# Set model to train model\n",
    "model_with_pretrained_weights.train()\n",
    "\n",
    "for epoch in range(10):  # loop over the dataset multiple times\n",
    "    running_loss = 0.0\n",
    "    for i, data in enumerate(trainloader, 0):\n",
    "        # get the inputs; data is a list of [inputs, labels]\n",
    "        inputs, labels = data[0].to(device), data[1].to(device)\n",
    "\n",
    "        # zero the parameter gradients\n",
    "        optimizer_new.zero_grad()\n",
    "\n",
    "        # forward + backward + optimize\n",
    "        outputs = model_with_pretrained_weights(inputs)\n",
    "        loss = criterion_new(outputs, labels)\n",
    "        loss.backward()\n",
    "        optimizer_new.step()\n",
    "\n",
    "        # print statistics\n",
    "        running_loss += loss.item()\n",
    "        if i % 100 == 99:    # print every 2000 mini-batches\n",
    "            print(f'[{epoch + 1}, {i + 1:5d}] loss: {running_loss / 100:.3f}')\n",
    "            running_loss = 0.0\n",
    "\n",
    "print('Finished Training')"
   ]
  },
  {
   "cell_type": "code",
   "execution_count": 87,
   "id": "dsEyIzsgdp-M",
   "metadata": {
    "colab": {
     "base_uri": "https://localhost:8080/"
    },
    "id": "dsEyIzsgdp-M",
    "outputId": "4e092c35-952c-4953-9313-e31a8f53257a"
   },
   "outputs": [
    {
     "name": "stdout",
     "output_type": "stream",
     "text": [
      "Accuracy for class: plane is 88.2 %\n",
      "Accuracy for class: car   is 92.7 %\n",
      "Accuracy for class: bird  is 76.0 %\n",
      "Accuracy for class: cat   is 69.5 %\n",
      "Accuracy for class: deer  is 85.3 %\n",
      "Accuracy for class: dog   is 75.2 %\n",
      "Accuracy for class: frog  is 90.8 %\n",
      "Accuracy for class: horse is 87.0 %\n",
      "Accuracy for class: ship  is 90.7 %\n",
      "Accuracy for class: truck is 90.8 %\n"
     ]
    }
   ],
   "source": [
    "# prepare to count predictions for each class\n",
    "correct_pred = {classname: 0 for classname in classes}\n",
    "total_pred = {classname: 0 for classname in classes}\n",
    "\n",
    "# set model to eval mode\n",
    "model_with_pretrained_weights.eval()\n",
    "\n",
    "# again no gradients needed\n",
    "with torch.no_grad():\n",
    "    for data in testloader:\n",
    "        images, labels = data[0].to(device), data[1].to(device)\n",
    "        outputs = model_with_pretrained_weights(images)\n",
    "        _, predictions = torch.max(outputs, 1)\n",
    "        # collect the correct predictions for each class\n",
    "        for label, prediction in zip(labels, predictions):\n",
    "            if label == prediction:\n",
    "                correct_pred[classes[label]] += 1\n",
    "            total_pred[classes[label]] += 1\n",
    "\n",
    "\n",
    "# print accuracy for each class\n",
    "for classname, correct_count in correct_pred.items():\n",
    "    accuracy = 100 * float(correct_count) / total_pred[classname]\n",
    "    print(f'Accuracy for class: {classname:5s} is {accuracy:.1f} %')\n",
    "    ACCURACY_COMPARE[classname].update({'fine-tuned': accuracy})"
   ]
  },
  {
   "cell_type": "code",
   "execution_count": 88,
   "id": "XtEy4gbSfr00",
   "metadata": {
    "colab": {
     "base_uri": "https://localhost:8080/"
    },
    "id": "XtEy4gbSfr00",
    "outputId": "ecc768ac-6875-442d-8f0d-24daff4103c5"
   },
   "outputs": [
    {
     "data": {
      "text/plain": [
       "defaultdict(dict,\n",
       "            {'plane': {'from_scratch': 88.7, 'fine-tuned': 88.2},\n",
       "             'car': {'from_scratch': 89.2, 'fine-tuned': 92.7},\n",
       "             'bird': {'from_scratch': 55.4, 'fine-tuned': 76.0},\n",
       "             'cat': {'from_scratch': 43.6, 'fine-tuned': 69.5},\n",
       "             'deer': {'from_scratch': 76.5, 'fine-tuned': 85.3},\n",
       "             'dog': {'from_scratch': 65.5, 'fine-tuned': 75.2},\n",
       "             'frog': {'from_scratch': 84.1, 'fine-tuned': 90.8},\n",
       "             'horse': {'from_scratch': 90.7, 'fine-tuned': 87.0},\n",
       "             'ship': {'from_scratch': 76.8, 'fine-tuned': 90.7},\n",
       "             'truck': {'from_scratch': 77.8, 'fine-tuned': 90.8}})"
      ]
     },
     "execution_count": 88,
     "metadata": {},
     "output_type": "execute_result"
    }
   ],
   "source": [
    "ACCURACY_COMPARE"
   ]
  },
  {
   "cell_type": "code",
   "execution_count": 89,
   "id": "4DsTmJFWkpQG",
   "metadata": {
    "id": "4DsTmJFWkpQG"
   },
   "outputs": [],
   "source": [
    "import pandas as pd\n",
    "\n",
    "accuracy_df = pd.DataFrame(ACCURACY_COMPARE)"
   ]
  },
  {
   "cell_type": "markdown",
   "id": "qV6DZgXcmjfw",
   "metadata": {
    "id": "qV6DZgXcmjfw"
   },
   "source": [
    "# Comparison of Accuracy by Class"
   ]
  },
  {
   "cell_type": "code",
   "execution_count": 95,
   "id": "eyWw61ZEllW5",
   "metadata": {
    "colab": {
     "base_uri": "https://localhost:8080/",
     "height": 492
    },
    "id": "eyWw61ZEllW5",
    "outputId": "d4b09a31-82f2-45b2-b2e3-d2e938207ec2"
   },
   "outputs": [
    {
     "data": {
      "text/plain": [
       "<Axes: >"
      ]
     },
     "execution_count": 95,
     "metadata": {},
     "output_type": "execute_result"
    },
    {
     "data": {
      "image/png": "[encoded data removed]",
      "text/plain": [
       "<Figure size 640x480 with 1 Axes>"
      ]
     },
     "metadata": {},
     "output_type": "display_data"
    }
   ],
   "source": [
    "accuracy_df.T.plot(kind='bar')"
   ]
  },
  {
   "cell_type": "code",
   "execution_count": null,
   "id": "ulw9vOrTll_N",
   "metadata": {
    "id": "ulw9vOrTll_N"
   },
   "outputs": [],
   "source": []
  }
 ],
 "metadata": {
  "accelerator": "GPU",
  "colab": {
   "provenance": []
  },
  "kernelspec": {
   "display_name": "torch",
   "language": "python",
   "name": "torch"
  },
  "language_info": {
   "codemirror_mode": {
    "name": "ipython",
    "version": 3
   },
   "file_extension": ".py",
   "mimetype": "text/x-python",
   "name": "python",
   "nbconvert_exporter": "python",
   "pygments_lexer": "ipython3",
   "version": "3.10.4"
  }
 },
 "nbformat": 4,
 "nbformat_minor": 5
}
