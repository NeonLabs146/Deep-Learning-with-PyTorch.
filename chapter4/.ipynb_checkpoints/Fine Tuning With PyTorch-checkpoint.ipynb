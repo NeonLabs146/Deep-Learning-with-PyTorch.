{
 "cells": [
  {
   "cell_type": "markdown",
   "id": "81300cce",
   "metadata": {},
   "source": [
    "# Fine Tuning with PyTorch\n",
    "- Using CIFAR-10 Dataset to first train a model from scratch\n",
    "- then train a model by Fine Tuning a pretrained RESNET model\n",
    "- and then compare the results"
   ]
  },
  {
   "cell_type": "code",
   "execution_count": 1,
   "id": "80688c50",
   "metadata": {},
   "outputs": [],
   "source": [
    "import torch\n",
    "import torchvision\n",
    "import torchvision.transforms as transforms"
   ]
  },
  {
   "cell_type": "markdown",
   "id": "8ad3484f",
   "metadata": {},
   "source": [
    "#### Define Transforms and Load Dataset"
   ]
  },
  {
   "cell_type": "code",
   "execution_count": 2,
   "id": "48c15d77",
   "metadata": {},
   "outputs": [
    {
     "name": "stdout",
     "output_type": "stream",
     "text": [
      "Downloading https://www.cs.toronto.edu/~kriz/cifar-10-python.tar.gz to ./data/cifar-10-python.tar.gz\n"
     ]
    },
    {
     "name": "stderr",
     "output_type": "stream",
     "text": [
      "57.7%IOPub message rate exceeded.\n",
      "The notebook server will temporarily stop sending output\n",
      "to the client in order to avoid crashing it.\n",
      "To change this limit, set the config variable\n",
      "`--NotebookApp.iopub_msg_rate_limit`.\n",
      "\n",
      "Current values:\n",
      "NotebookApp.iopub_msg_rate_limit=1000.0 (msgs/sec)\n",
      "NotebookApp.rate_limit_window=3.0 (secs)\n",
      "\n",
      "100.0%\n"
     ]
    },
    {
     "name": "stdout",
     "output_type": "stream",
     "text": [
      "Extracting ./data/cifar-10-python.tar.gz to ./data\n",
      "Files already downloaded and verified\n"
     ]
    }
   ],
   "source": [
    "transform = transforms.Compose(\n",
    "    [transforms.ToTensor(),\n",
    "     transforms.Normalize((0.5, 0.5, 0.5), (0.5, 0.5, 0.5))])\n",
    "\n",
    "batch_size = 4\n",
    "\n",
    "trainset = torchvision.datasets.CIFAR10(root='./data', train=True,\n",
    "                                        download=True, transform=transform)\n",
    "trainloader = torch.utils.data.DataLoader(trainset, batch_size=batch_size,\n",
    "                                          shuffle=True, num_workers=2)\n",
    "\n",
    "testset = torchvision.datasets.CIFAR10(root='./data', train=False,\n",
    "                                       download=True, transform=transform)\n",
    "testloader = torch.utils.data.DataLoader(testset, batch_size=batch_size,\n",
    "                                         shuffle=False, num_workers=2)\n",
    "\n",
    "classes = ('plane', 'car', 'bird', 'cat',\n",
    "           'deer', 'dog', 'frog', 'horse', 'ship', 'truck')"
   ]
  },
  {
   "cell_type": "markdown",
   "id": "778b3ce7",
   "metadata": {},
   "source": [
    "#### Image Samples"
   ]
  },
  {
   "cell_type": "code",
   "execution_count": 3,
   "id": "de7df48b",
   "metadata": {},
   "outputs": [
    {
     "data": {
      "image/png": "[encoded data removed]",
      "text/plain": [
       "<Figure size 640x480 with 1 Axes>"
      ]
     },
     "metadata": {},
     "output_type": "display_data"
    },
    {
     "name": "stdout",
     "output_type": "stream",
     "text": [
      "bird  car   dog   bird \n"
     ]
    }
   ],
   "source": [
    "import matplotlib.pyplot as plt\n",
    "import numpy as np\n",
    "\n",
    "# functions to show an image\n",
    "\n",
    "\n",
    "def imshow(img):\n",
    "    img = img / 2 + 0.5     # unnormalize\n",
    "    npimg = img.numpy()\n",
    "    plt.imshow(np.transpose(npimg, (1, 2, 0)))\n",
    "    plt.show()\n",
    "\n",
    "\n",
    "# get some random training images\n",
    "dataiter = iter(trainloader)\n",
    "images, labels = next(dataiter)\n",
    "\n",
    "# show images\n",
    "imshow(torchvision.utils.make_grid(images))\n",
    "# print labels\n",
    "print(' '.join(f'{classes[labels[j]]:5s}' for j in range(batch_size)))"
   ]
  },
  {
   "cell_type": "markdown",
   "id": "7c57692c",
   "metadata": {},
   "source": [
    "## Model Definition (from scratch)"
   ]
  },
  {
   "cell_type": "code",
   "execution_count": 4,
   "id": "1a4081fd",
   "metadata": {},
   "outputs": [],
   "source": [
    "import torch.nn as nn\n",
    "import torch.nn.functional as F\n",
    "\n",
    "\n",
    "class Net(nn.Module):\n",
    "    def __init__(self):\n",
    "        super().__init__()\n",
    "        self.conv1 = nn.Conv2d(3, 6, 5)\n",
    "        self.pool = nn.MaxPool2d(2, 2)\n",
    "        self.conv2 = nn.Conv2d(6, 16, 5)\n",
    "        self.fc1 = nn.Linear(16 * 5 * 5, 120)\n",
    "        self.fc2 = nn.Linear(120, 84)\n",
    "        self.fc3 = nn.Linear(84, 10)\n",
    "\n",
    "    def forward(self, x):\n",
    "        x = self.pool(F.relu(self.conv1(x)))\n",
    "        x = self.pool(F.relu(self.conv2(x)))\n",
    "        x = torch.flatten(x, 1) # flatten all dimensions except batch\n",
    "        x = F.relu(self.fc1(x))\n",
    "        x = F.relu(self.fc2(x))\n",
    "        x = self.fc3(x)\n",
    "        return x\n",
    "\n",
    "\n",
    "net = Net()"
   ]
  },
  {
   "cell_type": "markdown",
   "id": "9f19aa3d",
   "metadata": {},
   "source": [
    "#### Optimizer and Loss Function"
   ]
  },
  {
   "cell_type": "code",
   "execution_count": 5,
   "id": "6b6cf3c2",
   "metadata": {},
   "outputs": [],
   "source": [
    "import torch.optim as optim\n",
    "\n",
    "criterion = nn.CrossEntropyLoss()\n",
    "optimizer = optim.SGD(net.parameters(), lr=0.001, momentum=0.9)"
   ]
  },
  {
   "cell_type": "markdown",
   "id": "32f244e3",
   "metadata": {},
   "source": [
    "## Training Loop"
   ]
  },
  {
   "cell_type": "code",
   "execution_count": 6,
   "id": "d1d516a6",
   "metadata": {},
   "outputs": [
    {
     "name": "stdout",
     "output_type": "stream",
     "text": [
      "[1,  2000] loss: 2.179\n",
      "[1,  4000] loss: 1.854\n",
      "[1,  6000] loss: 1.713\n",
      "[1,  8000] loss: 1.601\n",
      "[1, 10000] loss: 1.533\n",
      "[1, 12000] loss: 1.488\n",
      "[2,  2000] loss: 1.400\n",
      "[2,  4000] loss: 1.371\n",
      "[2,  6000] loss: 1.333\n",
      "[2,  8000] loss: 1.312\n",
      "[2, 10000] loss: 1.291\n",
      "[2, 12000] loss: 1.260\n",
      "[3,  2000] loss: 1.196\n",
      "[3,  4000] loss: 1.185\n",
      "[3,  6000] loss: 1.192\n",
      "[3,  8000] loss: 1.163\n",
      "[3, 10000] loss: 1.152\n",
      "[3, 12000] loss: 1.158\n",
      "[4,  2000] loss: 1.084\n",
      "[4,  4000] loss: 1.100\n",
      "[4,  6000] loss: 1.062\n",
      "[4,  8000] loss: 1.056\n",
      "[4, 10000] loss: 1.076\n",
      "[4, 12000] loss: 1.078\n",
      "[5,  2000] loss: 0.994\n",
      "[5,  4000] loss: 1.008\n",
      "[5,  6000] loss: 1.006\n",
      "[5,  8000] loss: 0.985\n",
      "[5, 10000] loss: 1.013\n",
      "[5, 12000] loss: 1.033\n",
      "[6,  2000] loss: 0.924\n",
      "[6,  4000] loss: 0.927\n",
      "[6,  6000] loss: 0.952\n",
      "[6,  8000] loss: 0.930\n",
      "[6, 10000] loss: 0.982\n",
      "[6, 12000] loss: 0.956\n",
      "[7,  2000] loss: 0.876\n",
      "[7,  4000] loss: 0.876\n",
      "[7,  6000] loss: 0.891\n",
      "[7,  8000] loss: 0.899\n",
      "[7, 10000] loss: 0.925\n",
      "[7, 12000] loss: 0.925\n",
      "[8,  2000] loss: 0.819\n",
      "[8,  4000] loss: 0.838\n",
      "[8,  6000] loss: 0.854\n",
      "[8,  8000] loss: 0.887\n",
      "[8, 10000] loss: 0.852\n",
      "[8, 12000] loss: 0.883\n",
      "[9,  2000] loss: 0.762\n",
      "[9,  4000] loss: 0.809\n",
      "[9,  6000] loss: 0.809\n",
      "[9,  8000] loss: 0.842\n",
      "[9, 10000] loss: 0.834\n",
      "[9, 12000] loss: 0.854\n",
      "[10,  2000] loss: 0.732\n",
      "[10,  4000] loss: 0.782\n",
      "[10,  6000] loss: 0.798\n",
      "[10,  8000] loss: 0.824\n",
      "[10, 10000] loss: 0.808\n",
      "[10, 12000] loss: 0.804\n",
      "Finished Training\n"
     ]
    }
   ],
   "source": [
    "for epoch in range(10):  # loop over the dataset multiple times\n",
    "    running_loss = 0.0\n",
    "    for i, data in enumerate(trainloader, 0):\n",
    "        # get the inputs; data is a list of [inputs, labels]\n",
    "        inputs, labels = data\n",
    "\n",
    "        # zero the parameter gradients\n",
    "        optimizer.zero_grad()\n",
    "\n",
    "        # forward + backward + optimize\n",
    "        outputs = net(inputs)\n",
    "        loss = criterion(outputs, labels)\n",
    "        loss.backward()\n",
    "        optimizer.step()\n",
    "\n",
    "        # print statistics\n",
    "        running_loss += loss.item()\n",
    "        if i % 2000 == 1999:    # print every 2000 mini-batches\n",
    "            print(f'[{epoch + 1}, {i + 1:5d}] loss: {running_loss / 2000:.3f}')\n",
    "            running_loss = 0.0\n",
    "\n",
    "print('Finished Training')"
   ]
  },
  {
   "cell_type": "markdown",
   "id": "0ab4b89e",
   "metadata": {},
   "source": [
    "## Accuracy Per Class (Training from Scratch)"
   ]
  },
  {
   "cell_type": "code",
   "execution_count": 7,
   "id": "dba32ee4",
   "metadata": {},
   "outputs": [
    {
     "name": "stdout",
     "output_type": "stream",
     "text": [
      "Accuracy for class: plane is 65.3 %\n",
      "Accuracy for class: car   is 70.1 %\n",
      "Accuracy for class: bird  is 48.2 %\n",
      "Accuracy for class: cat   is 37.7 %\n",
      "Accuracy for class: deer  is 65.3 %\n",
      "Accuracy for class: dog   is 53.5 %\n",
      "Accuracy for class: frog  is 80.9 %\n",
      "Accuracy for class: horse is 57.8 %\n",
      "Accuracy for class: ship  is 80.4 %\n",
      "Accuracy for class: truck is 74.5 %\n"
     ]
    }
   ],
   "source": [
    "# prepare to count predictions for each class\n",
    "correct_pred = {classname: 0 for classname in classes}\n",
    "total_pred = {classname: 0 for classname in classes}\n",
    "\n",
    "# again no gradients needed\n",
    "with torch.no_grad():\n",
    "    for data in testloader:\n",
    "        images, labels = data\n",
    "        outputs = net(images)\n",
    "        _, predictions = torch.max(outputs, 1)\n",
    "        # collect the correct predictions for each class\n",
    "        for label, prediction in zip(labels, predictions):\n",
    "            if label == prediction:\n",
    "                correct_pred[classes[label]] += 1\n",
    "            total_pred[classes[label]] += 1\n",
    "\n",
    "\n",
    "# print accuracy for each class\n",
    "for classname, correct_count in correct_pred.items():\n",
    "    accuracy = 100 * float(correct_count) / total_pred[classname]\n",
    "    print(f'Accuracy for class: {classname:5s} is {accuracy:.1f} %')"
   ]
  },
  {
   "cell_type": "markdown",
   "id": "4a7e5af5",
   "metadata": {},
   "source": [
    "## Model with Pretrained RESNET18"
   ]
  },
  {
   "cell_type": "code",
   "execution_count": 51,
   "id": "8483d0f3",
   "metadata": {},
   "outputs": [],
   "source": [
    "import torch.nn as nn\n",
    "import torch.nn.functional as F\n",
    "import torchvision\n",
    "\n",
    "class PreTrainedNet(nn.Module):\n",
    "    def __init__(self):\n",
    "        super().__init__()\n",
    "        self.pretrained_vgg11_bn = torchvision.models.vgg11_bn(pretrained=True)\n",
    "        self.pretrained_vgg11_bn.classifier[6] = nn.Linear(4096, 128)\n",
    "        self.fc1 = nn.Linear(128, 84)\n",
    "        self.fc2 = nn.Linear(84, 10)\n",
    "\n",
    "    def forward(self, x):\n",
    "        x = F.relu(self.pretrained_vgg11_bn(x))\n",
    "        x = F.relu(self.fc1(x))\n",
    "        x = self.fc2(x)\n",
    "        return x\n",
    "\n",
    "\n",
    "pretrained_net = PreTrainedNet()\n",
    "\n",
    "import torch.optim as optim\n",
    "\n",
    "criterion_new = nn.CrossEntropyLoss()\n",
    "optimizer_new = optim.SGD(pretrained_net.parameters(), lr=0.01, momentum=0.9)"
   ]
  },
  {
   "cell_type": "code",
   "execution_count": 52,
   "id": "f599310f",
   "metadata": {},
   "outputs": [],
   "source": [
    "trainable_params = {'fc1.bias',\n",
    " 'fc1.weight',\n",
    " 'fc2.bias',\n",
    " 'fc2.weight',\n",
    " 'pretrained_vgg11_bn.classifier.6.bias',\n",
    " 'pretrained_vgg11_bn.classifier.6.weight'}\n",
    "for n, p in pretrained_net.named_parameters():\n",
    "    if n in trainable_params:\n",
    "        p.required_grad = True\n",
    "    else:\n",
    "        p.requires_grad = False"
   ]
  },
  {
   "cell_type": "markdown",
   "id": "078e8c85",
   "metadata": {},
   "source": [
    "### Training Loop (with Pretrained Model)"
   ]
  },
  {
   "cell_type": "code",
   "execution_count": null,
   "id": "473c5c44",
   "metadata": {},
   "outputs": [
    {
     "name": "stdout",
     "output_type": "stream",
     "text": [
      "[1,  2000] loss: 2.310\n",
      "[1,  4000] loss: 2.308\n"
     ]
    }
   ],
   "source": [
    "for epoch in range(10):  # loop over the dataset multiple times\n",
    "    running_loss = 0.0\n",
    "    for i, data in enumerate(trainloader, 0):\n",
    "        # get the inputs; data is a list of [inputs, labels]\n",
    "        inputs, labels = data\n",
    "\n",
    "        # zero the parameter gradients\n",
    "        optimizer.zero_grad()\n",
    "\n",
    "        # forward + backward + optimize\n",
    "        outputs = pretrained_net(inputs)\n",
    "        loss = criterion(outputs, labels)\n",
    "        loss.backward()\n",
    "        optimizer.step()\n",
    "\n",
    "        # print statistics\n",
    "        running_loss += loss.item()\n",
    "        if i % 2000 == 1999:    # print every 2000 mini-batches\n",
    "            print(f'[{epoch + 1}, {i + 1:5d}] loss: {running_loss / 2000:.3f}')\n",
    "            running_loss = 0.0\n",
    "\n",
    "print('Finished Training')"
   ]
  },
  {
   "cell_type": "markdown",
   "id": "b0772505",
   "metadata": {},
   "source": [
    "### Accuracy per Class (Training with Pretrained Model)"
   ]
  },
  {
   "cell_type": "code",
   "execution_count": null,
   "id": "1bb43a13",
   "metadata": {},
   "outputs": [],
   "source": [
    "# prepare to count predictions for each class\n",
    "correct_pred = {classname: 0 for classname in classes}\n",
    "total_pred = {classname: 0 for classname in classes}\n",
    "\n",
    "# again no gradients needed\n",
    "with torch.no_grad():\n",
    "    for data in testloader:\n",
    "        images, labels = data\n",
    "        outputs = pretrained_net(images)\n",
    "        _, predictions = torch.max(outputs, 1)\n",
    "        # collect the correct predictions for each class\n",
    "        for label, prediction in zip(labels, predictions):\n",
    "            if label == prediction:\n",
    "                correct_pred[classes[label]] += 1\n",
    "            total_pred[classes[label]] += 1\n",
    "\n",
    "\n",
    "# print accuracy for each class\n",
    "for classname, correct_count in correct_pred.items():\n",
    "    accuracy = 100 * float(correct_count) / total_pred[classname]\n",
    "    print(f'Accuracy for class: {classname:5s} is {accuracy:.1f} %')"
   ]
  }
 ],
 "metadata": {
  "kernelspec": {
   "display_name": "torch",
   "language": "python",
   "name": "torch"
  },
  "language_info": {
   "codemirror_mode": {
    "name": "ipython",
    "version": 3
   },
   "file_extension": ".py",
   "mimetype": "text/x-python",
   "name": "python",
   "nbconvert_exporter": "python",
   "pygments_lexer": "ipython3",
   "version": "3.10.4"
  }
 },
 "nbformat": 4,
 "nbformat_minor": 5
}
