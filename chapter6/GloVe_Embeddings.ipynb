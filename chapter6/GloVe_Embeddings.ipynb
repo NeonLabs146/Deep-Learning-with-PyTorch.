{
  "nbformat": 4,
  "nbformat_minor": 0,
  "metadata": {
    "colab": {
      "provenance": [],
      "gpuType": "T4"
    },
    "kernelspec": {
      "name": "python3",
      "display_name": "Python 3"
    },
    "language_info": {
      "name": "python"
    },
    "accelerator": "GPU"
  },
  "cells": [
    {
      "cell_type": "markdown",
      "source": [
        "# Loading the Corpus"
      ],
      "metadata": {
        "id": "xUDBdXFJtsaz"
      }
    },
    {
      "cell_type": "code",
      "source": [
        "target_url = \"https://cs.stanford.edu/people/karpathy/char-rnn/shakespear.txt\""
      ],
      "metadata": {
        "id": "BQAeB-gWtreA"
      },
      "execution_count": 1,
      "outputs": []
    },
    {
      "cell_type": "code",
      "execution_count": 2,
      "metadata": {
        "id": "37lM77r8tikI"
      },
      "outputs": [],
      "source": [
        "import urllib\n",
        "corpus = []\n",
        "for line in urllib.request.urlopen(target_url).readlines():\n",
        "    corpus.append(line.strip())"
      ]
    },
    {
      "cell_type": "code",
      "source": [
        "# Comment out this cell, to run the model on the shakespear dataset\n",
        "corpus = ['cat chases mouse',\n",
        "        'cat catches mouse',\n",
        "        'cat eats mouse',\n",
        "        'mouse runs into hole',\n",
        "        'cat says bad words',\n",
        "        'cat and mouse are pals',\n",
        "        'cat and mouse are chums',\n",
        "        'mouse stores food in hole',\n",
        "        'cat stores food in house',\n",
        "        'mouse sleeps in hole',\n",
        "        'cat sleeps in house',\n",
        "        'cat and mouse are buddies',\n",
        "        'mouse lives in hole',\n",
        "        'cat lives in house']"
      ],
      "metadata": {
        "id": "EiNMLq2LUXZl"
      },
      "execution_count": 3,
      "outputs": []
    },
    {
      "cell_type": "code",
      "source": [
        "corpus[0]"
      ],
      "metadata": {
        "colab": {
          "base_uri": "https://localhost:8080/",
          "height": 56
        },
        "id": "Aa0MT3dYt29U",
        "outputId": "396efd8d-c8ba-4ac1-fbe9-457d4fe9b674"
      },
      "execution_count": 4,
      "outputs": [
        {
          "output_type": "execute_result",
          "data": {
            "text/plain": [
              "'cat chases mouse'"
            ],
            "application/vnd.google.colaboratory.intrinsic+json": {
              "type": "string"
            }
          },
          "metadata": {},
          "execution_count": 4
        }
      ]
    },
    {
      "cell_type": "markdown",
      "source": [
        "### Preprocessing our Corpus"
      ],
      "metadata": {
        "id": "npb6JwilvByB"
      }
    },
    {
      "cell_type": "code",
      "source": [
        "import re, html\n",
        "\n",
        "def pad(line, context_window=4):\n",
        "  pad_size = context_window // 2\n",
        "  return [f\"<pad_{i}>\" for i in range(pad_size)] + line + [f\"<pad_{i}>\" for i in range(pad_size)]\n",
        "\n",
        "def preprocess(line, context_window):\n",
        "  if not isinstance(line, str):\n",
        "    line = line.decode('utf-8')\n",
        "  line = html.unescape(line).lower()\n",
        "  line = re.sub('[^a-z]',' ', line)\n",
        "  return pad(line.split(), context_window)\n"
      ],
      "metadata": {
        "id": "teNeApQauBzR"
      },
      "execution_count": 5,
      "outputs": []
    },
    {
      "cell_type": "code",
      "source": [
        "preprocess(corpus[5], 4)"
      ],
      "metadata": {
        "colab": {
          "base_uri": "https://localhost:8080/"
        },
        "id": "oVHqfdRzuZmK",
        "outputId": "e61794dc-0200-4ebd-b1ab-a34c869ab93a"
      },
      "execution_count": 6,
      "outputs": [
        {
          "output_type": "execute_result",
          "data": {
            "text/plain": [
              "['<pad_0>',\n",
              " '<pad_1>',\n",
              " 'cat',\n",
              " 'and',\n",
              " 'mouse',\n",
              " 'are',\n",
              " 'pals',\n",
              " '<pad_0>',\n",
              " '<pad_1>']"
            ]
          },
          "metadata": {},
          "execution_count": 6
        }
      ]
    },
    {
      "cell_type": "code",
      "source": [
        "CONTEXT_WINDOW = 6\n",
        "corpus_processed = [preprocess(line, CONTEXT_WINDOW) for line in corpus]"
      ],
      "metadata": {
        "id": "t_cNkF1hwGnN"
      },
      "execution_count": 7,
      "outputs": []
    },
    {
      "cell_type": "markdown",
      "source": [
        "# Preparing Co-Occurrence Matrix"
      ],
      "metadata": {
        "id": "YD-m0faev4kG"
      }
    },
    {
      "cell_type": "code",
      "source": [
        "# First we need our vocabulary\n",
        "vocab = {}\n",
        "size = 0\n",
        "\n",
        "for line in corpus_processed:\n",
        "  for word in line:\n",
        "    if word not in vocab:\n",
        "      vocab[word] = size\n",
        "      size += 1\n",
        "\n",
        "rev_vocab = {i:word for word, i in vocab.items()}"
      ],
      "metadata": {
        "id": "GQ_PVlcpua2M"
      },
      "execution_count": 8,
      "outputs": []
    },
    {
      "cell_type": "code",
      "source": [
        "vocab['mouse'], rev_vocab[5]"
      ],
      "metadata": {
        "colab": {
          "base_uri": "https://localhost:8080/"
        },
        "id": "tw5APor1wdPk",
        "outputId": "374eaf2a-2fcd-4b1f-cae9-b3318e4f54ec"
      },
      "execution_count": 9,
      "outputs": [
        {
          "output_type": "execute_result",
          "data": {
            "text/plain": [
              "(5, 'mouse')"
            ]
          },
          "metadata": {},
          "execution_count": 9
        }
      ]
    },
    {
      "cell_type": "code",
      "source": [
        "size"
      ],
      "metadata": {
        "colab": {
          "base_uri": "https://localhost:8080/"
        },
        "id": "VNuWNKvlwd63",
        "outputId": "e87cee9b-1080-45ec-a6ce-2d7a79242913"
      },
      "execution_count": 10,
      "outputs": [
        {
          "output_type": "execute_result",
          "data": {
            "text/plain": [
              "25"
            ]
          },
          "metadata": {},
          "execution_count": 10
        }
      ]
    },
    {
      "cell_type": "code",
      "source": [
        "from collections import defaultdict\n",
        "from tqdm import tqdm\n",
        "CONTEXT_WINDOW = 6\n",
        "\n",
        "co_occurrence_statistics = defaultdict(int)\n",
        "\n",
        "for line in tqdm(corpus_processed):\n",
        "  for i in range(CONTEXT_WINDOW // 2, len(line) - CONTEXT_WINDOW // 2):\n",
        "    curr_word = line[i]\n",
        "    prev_words = line[i-CONTEXT_WINDOW // 2:i]\n",
        "    next_words = line[i+1: i+1+(CONTEXT_WINDOW // 2)]\n",
        "    for w in prev_words:\n",
        "      co_occurrence_statistics[(vocab[curr_word], vocab[w])] += 1\n",
        "    for w in next_words:\n",
        "      co_occurrence_statistics[(vocab[curr_word], vocab[w])] += 1"
      ],
      "metadata": {
        "colab": {
          "base_uri": "https://localhost:8080/"
        },
        "id": "6Tqb2hsLwgSq",
        "outputId": "d22227fd-f93f-4316-abd9-7d299b8b3c95"
      },
      "execution_count": 11,
      "outputs": [
        {
          "output_type": "stream",
          "name": "stderr",
          "text": [
            "100%|██████████| 14/14 [00:00<00:00, 16936.91it/s]\n"
          ]
        }
      ]
    },
    {
      "cell_type": "code",
      "source": [
        "co_occurrence_statistics[(vocab['mouse'], vocab['and'])]"
      ],
      "metadata": {
        "colab": {
          "base_uri": "https://localhost:8080/"
        },
        "id": "1GSVYiNsyA7m",
        "outputId": "d532a76d-1e12-456e-a63d-560ff6b749c7"
      },
      "execution_count": 12,
      "outputs": [
        {
          "output_type": "execute_result",
          "data": {
            "text/plain": [
              "3"
            ]
          },
          "metadata": {},
          "execution_count": 12
        }
      ]
    },
    {
      "cell_type": "markdown",
      "source": [
        "# Constants for Model Training"
      ],
      "metadata": {
        "id": "phVtaUdcicgX"
      }
    },
    {
      "cell_type": "code",
      "source": [
        "MAX_CO_OCCURENCE_VALUE = max(co_occurrence_statistics.values())\n",
        "ALPHA = 1.1\n",
        "VOCAB_SIZE = size\n",
        "EMB_SIZE = 8\n",
        "NUM_EPOCHS = 400"
      ],
      "metadata": {
        "id": "tUZhC7na2rp2"
      },
      "execution_count": 13,
      "outputs": []
    },
    {
      "cell_type": "markdown",
      "source": [
        "# GloVe Embedding Model"
      ],
      "metadata": {
        "id": "K2NsZMpYyh03"
      }
    },
    {
      "cell_type": "code",
      "source": [
        "import numpy as np\n",
        "import torch\n",
        "import torch.nn as nn\n",
        "from torch.utils.data import DataLoader, Dataset\n",
        "import torch.nn.functional as F"
      ],
      "metadata": {
        "id": "IkJmSMzYIKeh"
      },
      "execution_count": 14,
      "outputs": []
    },
    {
      "cell_type": "code",
      "source": [
        "device = torch.device('cuda:0' if torch.cuda.is_available() else 'cpu')\n",
        "device"
      ],
      "metadata": {
        "colab": {
          "base_uri": "https://localhost:8080/"
        },
        "id": "5MSnvEsTINR5",
        "outputId": "f1bef106-4472-4cce-831f-2a7ffcc99ef0"
      },
      "execution_count": 15,
      "outputs": [
        {
          "output_type": "execute_result",
          "data": {
            "text/plain": [
              "device(type='cuda', index=0)"
            ]
          },
          "metadata": {},
          "execution_count": 15
        }
      ]
    },
    {
      "cell_type": "code",
      "source": [
        "\n",
        "class GloVe(nn.Module):\n",
        "\n",
        "    def __init__(self, vocab_size, embedding_size, x_max, alpha):\n",
        "        super().__init__()\n",
        "        self.word_emb = nn.Embedding(\n",
        "            num_embeddings=vocab_size,\n",
        "            embedding_dim=embedding_size,\n",
        "            sparse=True\n",
        "        )\n",
        "        self.context_emb = nn.Embedding(\n",
        "            num_embeddings=vocab_size,\n",
        "            embedding_dim=embedding_size,\n",
        "            sparse=True\n",
        "        )\n",
        "        self.bias_wv = nn.Parameter(\n",
        "            torch.randn(\n",
        "                vocab_size,\n",
        "                dtype=torch.float,\n",
        "            )\n",
        "        )\n",
        "        self.bias_cv = nn.Parameter(\n",
        "            torch.randn(\n",
        "                vocab_size,\n",
        "                dtype=torch.float,\n",
        "            )\n",
        "        )\n",
        "        self.weighting_func = lambda x: (x / x_max).float_power(alpha).clamp(0, 1)\n",
        "\n",
        "    def forward(self, i, j, x):\n",
        "        loss = torch.mul(self.word_emb(i), self.context_emb(j)).sum(dim=1)\n",
        "        loss = (loss + self.bias_wv[i] + self.bias_cv[j] - x.log()).square()\n",
        "        loss = torch.mul(self.weighting_func(x), loss).mean()\n",
        "        return loss\n",
        "\n",
        "glove = GloVe(vocab_size=VOCAB_SIZE, embedding_size=EMB_SIZE, x_max=MAX_CO_OCCURENCE_VALUE, alpha=1.1)\n",
        "glove.to(device)"
      ],
      "metadata": {
        "colab": {
          "base_uri": "https://localhost:8080/"
        },
        "id": "5nDytIGHyhFo",
        "outputId": "55d34fd6-63cc-4a98-94b6-4eb5c16f0b4e"
      },
      "execution_count": 16,
      "outputs": [
        {
          "output_type": "execute_result",
          "data": {
            "text/plain": [
              "GloVe(\n",
              "  (word_emb): Embedding(25, 8, sparse=True)\n",
              "  (context_emb): Embedding(25, 8, sparse=True)\n",
              ")"
            ]
          },
          "metadata": {},
          "execution_count": 16
        }
      ]
    },
    {
      "cell_type": "code",
      "source": [
        "optimizer = torch.optim.Adagrad(glove.parameters(), lr=0.001)"
      ],
      "metadata": {
        "id": "3P3ifruc3rQ3"
      },
      "execution_count": 17,
      "outputs": []
    },
    {
      "cell_type": "code",
      "source": [
        "class CustomDataset(torch.utils.data.Dataset):\n",
        "  def __init__(self):\n",
        "    self.X = []\n",
        "    for key, value in co_occurrence_statistics.items():\n",
        "      self.X.append([key, value])\n",
        "\n",
        "  def __getitem__(self, idx):\n",
        "    words, value = self.X[idx]\n",
        "    i, j = words\n",
        "    return torch.LongTensor([i, j]), torch.Tensor([value])\n",
        "\n",
        "  def __len__(self):\n",
        "    return len(self.X)\n",
        "\n",
        "dataset = CustomDataset()\n",
        "train_dataset = DataLoader(dataset, batch_size=128, shuffle=True)"
      ],
      "metadata": {
        "id": "Z4cJA7g66F-s"
      },
      "execution_count": 18,
      "outputs": []
    },
    {
      "cell_type": "code",
      "source": [
        "glove.train()\n",
        "\n",
        "losses = []\n",
        "for epoch in tqdm(range(NUM_EPOCHS)):\n",
        "  epoch_loss = 0\n",
        "  for batch in train_dataset:\n",
        "    loss = glove(\n",
        "        batch[0][:, 0].to(device),\n",
        "        batch[0][:, 1].to(device),\n",
        "        batch[1].to(device)\n",
        "    )\n",
        "    loss.backward()\n",
        "    optimizer.step()\n",
        "    optimizer.zero_grad()\n",
        "    epoch_loss += loss.cpu().detach().item()\n",
        "\n",
        "  losses.append(epoch_loss)\n",
        "print(f\"Epoch {epoch}: loss = {epoch_loss}\")"
      ],
      "metadata": {
        "colab": {
          "base_uri": "https://localhost:8080/"
        },
        "id": "ryVYpfll36zj",
        "outputId": "77f0f466-3b94-4980-bf1e-01a45ae93eac"
      },
      "execution_count": 19,
      "outputs": [
        {
          "output_type": "stream",
          "name": "stderr",
          "text": [
            "100%|██████████| 400/400 [00:05<00:00, 78.36it/s] "
          ]
        },
        {
          "output_type": "stream",
          "name": "stdout",
          "text": [
            "Epoch 399: loss = 3.0020276034970372\n"
          ]
        },
        {
          "output_type": "stream",
          "name": "stderr",
          "text": [
            "\n"
          ]
        }
      ]
    },
    {
      "cell_type": "code",
      "source": [
        "word_vectors = glove.word_emb(torch.LongTensor([i for i in range(VOCAB_SIZE)]).to(device)).cpu().detach().numpy()"
      ],
      "metadata": {
        "id": "-0zPGZyIOQ7o"
      },
      "execution_count": 20,
      "outputs": []
    },
    {
      "cell_type": "code",
      "source": [
        "import pandas as pd"
      ],
      "metadata": {
        "id": "GSBIPsRTR2R8"
      },
      "execution_count": 21,
      "outputs": []
    },
    {
      "cell_type": "code",
      "source": [
        "word_vectors = pd.DataFrame(word_vectors, columns=[f\"f_{i}\" for i in range(EMB_SIZE)])\n",
        "word_vectors['word'] = [rev_vocab[i] for i in range(0, VOCAB_SIZE)]"
      ],
      "metadata": {
        "id": "I8NjsLGqR6vu"
      },
      "execution_count": 23,
      "outputs": []
    },
    {
      "cell_type": "code",
      "source": [
        "word_vectors"
      ],
      "metadata": {
        "colab": {
          "base_uri": "https://localhost:8080/",
          "height": 860
        },
        "id": "gp89nwOUSOVh",
        "outputId": "e51b61a6-ecb3-40a9-9e6e-6368d2f2e84e"
      },
      "execution_count": 24,
      "outputs": [
        {
          "output_type": "execute_result",
          "data": {
            "text/plain": [
              "         f_0       f_1       f_2       f_3       f_4       f_5       f_6  \\\n",
              "0   1.081416  0.568234  0.308099 -1.694979 -0.211241 -0.662573  0.932585   \n",
              "1  -0.208200 -0.280876  0.631653 -1.754438 -0.504250  1.946553  0.460983   \n",
              "2  -0.580128  1.141947 -0.090196  2.147677 -0.128842 -0.620841 -0.640769   \n",
              "3   0.516378 -0.727173 -0.081480  0.267576 -0.139806  0.070418  1.449811   \n",
              "4   0.823734  0.414926 -1.319910  0.265080  0.227948  0.521079 -0.182234   \n",
              "5  -1.243630  1.403987  0.344798  0.591883  0.563113 -0.298015 -0.351682   \n",
              "6   0.121949  0.525015 -0.409265 -0.138984 -0.851979 -0.877041 -0.688245   \n",
              "7   1.114382 -0.704141  0.123445  1.254577  0.652279 -0.771592 -0.561271   \n",
              "8  -1.227648 -0.001321 -0.425722  1.467174 -0.568068  0.638128  1.025495   \n",
              "9  -0.486444  1.186100 -0.743911 -0.017930 -0.798968 -0.453647  0.999715   \n",
              "10  0.966037 -0.406932 -0.670683  1.221568 -0.413289 -0.450642 -2.738165   \n",
              "11  1.152938 -1.777668  1.972217 -0.676752  0.319415  0.363008  1.082494   \n",
              "12 -0.933663 -1.132606  1.477960  2.189348  0.615382  0.703607 -1.294415   \n",
              "13 -1.660214  0.717334 -0.241724  0.120040  0.142432 -0.159348  1.160479   \n",
              "14  1.585600 -2.077316 -1.287229  1.036013  0.533745  0.340924  0.048922   \n",
              "15 -0.787875  1.159657 -2.166786  0.393916  0.954085  0.761359 -1.575345   \n",
              "16  0.006143  0.099820 -1.151418  0.863015 -1.837935  1.112032 -0.264795   \n",
              "17  0.611837 -0.110681  0.536868  0.193883 -0.094050  0.556820  1.480961   \n",
              "18 -0.263406  0.497589  0.048579 -0.407663  1.217808  0.052829 -0.131747   \n",
              "19  0.053701  2.838538 -0.716667 -2.068695  2.358964 -0.056469  2.010604   \n",
              "20  0.602029 -1.928832 -0.433197 -0.943485 -1.188014 -0.736797  0.111646   \n",
              "21  0.452783  1.274258  1.055348  1.209193  0.315726 -0.763647 -0.339293   \n",
              "22  0.600482  0.922775 -2.452235 -0.225079 -2.399330 -1.951681 -0.987080   \n",
              "23  0.270943  0.577013 -0.789143  1.160706 -0.955444 -0.764100 -0.351551   \n",
              "24  1.658462  0.648206  0.736978  0.187973 -0.975108 -1.665697  0.977648   \n",
              "\n",
              "         f_7     word  \n",
              "0  -0.902042  <pad_0>  \n",
              "1   0.822893  <pad_1>  \n",
              "2   0.363005  <pad_2>  \n",
              "3   1.002763      cat  \n",
              "4  -0.352850   chases  \n",
              "5  -1.210916    mouse  \n",
              "6  -0.568349  catches  \n",
              "7  -0.498150     eats  \n",
              "8   0.003737     runs  \n",
              "9   1.213518     into  \n",
              "10 -1.698161     hole  \n",
              "11  2.062824     says  \n",
              "12 -0.730141      bad  \n",
              "13  1.875272    words  \n",
              "14 -1.496092      and  \n",
              "15  0.925143      are  \n",
              "16 -0.892277     pals  \n",
              "17  0.876035    chums  \n",
              "18 -0.996864   stores  \n",
              "19 -0.239563     food  \n",
              "20  1.693238       in  \n",
              "21  0.459625    house  \n",
              "22  0.171422   sleeps  \n",
              "23 -2.192275  buddies  \n",
              "24  0.373983    lives  "
            ],
            "text/html": [
              "\n",
              "  <div id=\"df-908142a9-2116-4c06-9d5a-30bf5f840f61\" class=\"colab-df-container\">\n",
              "    <div>\n",
              "<style scoped>\n",
              "    .dataframe tbody tr th:only-of-type {\n",
              "        vertical-align: middle;\n",
              "    }\n",
              "\n",
              "    .dataframe tbody tr th {\n",
              "        vertical-align: top;\n",
              "    }\n",
              "\n",
              "    .dataframe thead th {\n",
              "        text-align: right;\n",
              "    }\n",
              "</style>\n",
              "<table border=\"1\" class=\"dataframe\">\n",
              "  <thead>\n",
              "    <tr style=\"text-align: right;\">\n",
              "      <th></th>\n",
              "      <th>f_0</th>\n",
              "      <th>f_1</th>\n",
              "      <th>f_2</th>\n",
              "      <th>f_3</th>\n",
              "      <th>f_4</th>\n",
              "      <th>f_5</th>\n",
              "      <th>f_6</th>\n",
              "      <th>f_7</th>\n",
              "      <th>word</th>\n",
              "    </tr>\n",
              "  </thead>\n",
              "  <tbody>\n",
              "    <tr>\n",
              "      <th>0</th>\n",
              "      <td>1.081416</td>\n",
              "      <td>0.568234</td>\n",
              "      <td>0.308099</td>\n",
              "      <td>-1.694979</td>\n",
              "      <td>-0.211241</td>\n",
              "      <td>-0.662573</td>\n",
              "      <td>0.932585</td>\n",
              "      <td>-0.902042</td>\n",
              "      <td>&lt;pad_0&gt;</td>\n",
              "    </tr>\n",
              "    <tr>\n",
              "      <th>1</th>\n",
              "      <td>-0.208200</td>\n",
              "      <td>-0.280876</td>\n",
              "      <td>0.631653</td>\n",
              "      <td>-1.754438</td>\n",
              "      <td>-0.504250</td>\n",
              "      <td>1.946553</td>\n",
              "      <td>0.460983</td>\n",
              "      <td>0.822893</td>\n",
              "      <td>&lt;pad_1&gt;</td>\n",
              "    </tr>\n",
              "    <tr>\n",
              "      <th>2</th>\n",
              "      <td>-0.580128</td>\n",
              "      <td>1.141947</td>\n",
              "      <td>-0.090196</td>\n",
              "      <td>2.147677</td>\n",
              "      <td>-0.128842</td>\n",
              "      <td>-0.620841</td>\n",
              "      <td>-0.640769</td>\n",
              "      <td>0.363005</td>\n",
              "      <td>&lt;pad_2&gt;</td>\n",
              "    </tr>\n",
              "    <tr>\n",
              "      <th>3</th>\n",
              "      <td>0.516378</td>\n",
              "      <td>-0.727173</td>\n",
              "      <td>-0.081480</td>\n",
              "      <td>0.267576</td>\n",
              "      <td>-0.139806</td>\n",
              "      <td>0.070418</td>\n",
              "      <td>1.449811</td>\n",
              "      <td>1.002763</td>\n",
              "      <td>cat</td>\n",
              "    </tr>\n",
              "    <tr>\n",
              "      <th>4</th>\n",
              "      <td>0.823734</td>\n",
              "      <td>0.414926</td>\n",
              "      <td>-1.319910</td>\n",
              "      <td>0.265080</td>\n",
              "      <td>0.227948</td>\n",
              "      <td>0.521079</td>\n",
              "      <td>-0.182234</td>\n",
              "      <td>-0.352850</td>\n",
              "      <td>chases</td>\n",
              "    </tr>\n",
              "    <tr>\n",
              "      <th>5</th>\n",
              "      <td>-1.243630</td>\n",
              "      <td>1.403987</td>\n",
              "      <td>0.344798</td>\n",
              "      <td>0.591883</td>\n",
              "      <td>0.563113</td>\n",
              "      <td>-0.298015</td>\n",
              "      <td>-0.351682</td>\n",
              "      <td>-1.210916</td>\n",
              "      <td>mouse</td>\n",
              "    </tr>\n",
              "    <tr>\n",
              "      <th>6</th>\n",
              "      <td>0.121949</td>\n",
              "      <td>0.525015</td>\n",
              "      <td>-0.409265</td>\n",
              "      <td>-0.138984</td>\n",
              "      <td>-0.851979</td>\n",
              "      <td>-0.877041</td>\n",
              "      <td>-0.688245</td>\n",
              "      <td>-0.568349</td>\n",
              "      <td>catches</td>\n",
              "    </tr>\n",
              "    <tr>\n",
              "      <th>7</th>\n",
              "      <td>1.114382</td>\n",
              "      <td>-0.704141</td>\n",
              "      <td>0.123445</td>\n",
              "      <td>1.254577</td>\n",
              "      <td>0.652279</td>\n",
              "      <td>-0.771592</td>\n",
              "      <td>-0.561271</td>\n",
              "      <td>-0.498150</td>\n",
              "      <td>eats</td>\n",
              "    </tr>\n",
              "    <tr>\n",
              "      <th>8</th>\n",
              "      <td>-1.227648</td>\n",
              "      <td>-0.001321</td>\n",
              "      <td>-0.425722</td>\n",
              "      <td>1.467174</td>\n",
              "      <td>-0.568068</td>\n",
              "      <td>0.638128</td>\n",
              "      <td>1.025495</td>\n",
              "      <td>0.003737</td>\n",
              "      <td>runs</td>\n",
              "    </tr>\n",
              "    <tr>\n",
              "      <th>9</th>\n",
              "      <td>-0.486444</td>\n",
              "      <td>1.186100</td>\n",
              "      <td>-0.743911</td>\n",
              "      <td>-0.017930</td>\n",
              "      <td>-0.798968</td>\n",
              "      <td>-0.453647</td>\n",
              "      <td>0.999715</td>\n",
              "      <td>1.213518</td>\n",
              "      <td>into</td>\n",
              "    </tr>\n",
              "    <tr>\n",
              "      <th>10</th>\n",
              "      <td>0.966037</td>\n",
              "      <td>-0.406932</td>\n",
              "      <td>-0.670683</td>\n",
              "      <td>1.221568</td>\n",
              "      <td>-0.413289</td>\n",
              "      <td>-0.450642</td>\n",
              "      <td>-2.738165</td>\n",
              "      <td>-1.698161</td>\n",
              "      <td>hole</td>\n",
              "    </tr>\n",
              "    <tr>\n",
              "      <th>11</th>\n",
              "      <td>1.152938</td>\n",
              "      <td>-1.777668</td>\n",
              "      <td>1.972217</td>\n",
              "      <td>-0.676752</td>\n",
              "      <td>0.319415</td>\n",
              "      <td>0.363008</td>\n",
              "      <td>1.082494</td>\n",
              "      <td>2.062824</td>\n",
              "      <td>says</td>\n",
              "    </tr>\n",
              "    <tr>\n",
              "      <th>12</th>\n",
              "      <td>-0.933663</td>\n",
              "      <td>-1.132606</td>\n",
              "      <td>1.477960</td>\n",
              "      <td>2.189348</td>\n",
              "      <td>0.615382</td>\n",
              "      <td>0.703607</td>\n",
              "      <td>-1.294415</td>\n",
              "      <td>-0.730141</td>\n",
              "      <td>bad</td>\n",
              "    </tr>\n",
              "    <tr>\n",
              "      <th>13</th>\n",
              "      <td>-1.660214</td>\n",
              "      <td>0.717334</td>\n",
              "      <td>-0.241724</td>\n",
              "      <td>0.120040</td>\n",
              "      <td>0.142432</td>\n",
              "      <td>-0.159348</td>\n",
              "      <td>1.160479</td>\n",
              "      <td>1.875272</td>\n",
              "      <td>words</td>\n",
              "    </tr>\n",
              "    <tr>\n",
              "      <th>14</th>\n",
              "      <td>1.585600</td>\n",
              "      <td>-2.077316</td>\n",
              "      <td>-1.287229</td>\n",
              "      <td>1.036013</td>\n",
              "      <td>0.533745</td>\n",
              "      <td>0.340924</td>\n",
              "      <td>0.048922</td>\n",
              "      <td>-1.496092</td>\n",
              "      <td>and</td>\n",
              "    </tr>\n",
              "    <tr>\n",
              "      <th>15</th>\n",
              "      <td>-0.787875</td>\n",
              "      <td>1.159657</td>\n",
              "      <td>-2.166786</td>\n",
              "      <td>0.393916</td>\n",
              "      <td>0.954085</td>\n",
              "      <td>0.761359</td>\n",
              "      <td>-1.575345</td>\n",
              "      <td>0.925143</td>\n",
              "      <td>are</td>\n",
              "    </tr>\n",
              "    <tr>\n",
              "      <th>16</th>\n",
              "      <td>0.006143</td>\n",
              "      <td>0.099820</td>\n",
              "      <td>-1.151418</td>\n",
              "      <td>0.863015</td>\n",
              "      <td>-1.837935</td>\n",
              "      <td>1.112032</td>\n",
              "      <td>-0.264795</td>\n",
              "      <td>-0.892277</td>\n",
              "      <td>pals</td>\n",
              "    </tr>\n",
              "    <tr>\n",
              "      <th>17</th>\n",
              "      <td>0.611837</td>\n",
              "      <td>-0.110681</td>\n",
              "      <td>0.536868</td>\n",
              "      <td>0.193883</td>\n",
              "      <td>-0.094050</td>\n",
              "      <td>0.556820</td>\n",
              "      <td>1.480961</td>\n",
              "      <td>0.876035</td>\n",
              "      <td>chums</td>\n",
              "    </tr>\n",
              "    <tr>\n",
              "      <th>18</th>\n",
              "      <td>-0.263406</td>\n",
              "      <td>0.497589</td>\n",
              "      <td>0.048579</td>\n",
              "      <td>-0.407663</td>\n",
              "      <td>1.217808</td>\n",
              "      <td>0.052829</td>\n",
              "      <td>-0.131747</td>\n",
              "      <td>-0.996864</td>\n",
              "      <td>stores</td>\n",
              "    </tr>\n",
              "    <tr>\n",
              "      <th>19</th>\n",
              "      <td>0.053701</td>\n",
              "      <td>2.838538</td>\n",
              "      <td>-0.716667</td>\n",
              "      <td>-2.068695</td>\n",
              "      <td>2.358964</td>\n",
              "      <td>-0.056469</td>\n",
              "      <td>2.010604</td>\n",
              "      <td>-0.239563</td>\n",
              "      <td>food</td>\n",
              "    </tr>\n",
              "    <tr>\n",
              "      <th>20</th>\n",
              "      <td>0.602029</td>\n",
              "      <td>-1.928832</td>\n",
              "      <td>-0.433197</td>\n",
              "      <td>-0.943485</td>\n",
              "      <td>-1.188014</td>\n",
              "      <td>-0.736797</td>\n",
              "      <td>0.111646</td>\n",
              "      <td>1.693238</td>\n",
              "      <td>in</td>\n",
              "    </tr>\n",
              "    <tr>\n",
              "      <th>21</th>\n",
              "      <td>0.452783</td>\n",
              "      <td>1.274258</td>\n",
              "      <td>1.055348</td>\n",
              "      <td>1.209193</td>\n",
              "      <td>0.315726</td>\n",
              "      <td>-0.763647</td>\n",
              "      <td>-0.339293</td>\n",
              "      <td>0.459625</td>\n",
              "      <td>house</td>\n",
              "    </tr>\n",
              "    <tr>\n",
              "      <th>22</th>\n",
              "      <td>0.600482</td>\n",
              "      <td>0.922775</td>\n",
              "      <td>-2.452235</td>\n",
              "      <td>-0.225079</td>\n",
              "      <td>-2.399330</td>\n",
              "      <td>-1.951681</td>\n",
              "      <td>-0.987080</td>\n",
              "      <td>0.171422</td>\n",
              "      <td>sleeps</td>\n",
              "    </tr>\n",
              "    <tr>\n",
              "      <th>23</th>\n",
              "      <td>0.270943</td>\n",
              "      <td>0.577013</td>\n",
              "      <td>-0.789143</td>\n",
              "      <td>1.160706</td>\n",
              "      <td>-0.955444</td>\n",
              "      <td>-0.764100</td>\n",
              "      <td>-0.351551</td>\n",
              "      <td>-2.192275</td>\n",
              "      <td>buddies</td>\n",
              "    </tr>\n",
              "    <tr>\n",
              "      <th>24</th>\n",
              "      <td>1.658462</td>\n",
              "      <td>0.648206</td>\n",
              "      <td>0.736978</td>\n",
              "      <td>0.187973</td>\n",
              "      <td>-0.975108</td>\n",
              "      <td>-1.665697</td>\n",
              "      <td>0.977648</td>\n",
              "      <td>0.373983</td>\n",
              "      <td>lives</td>\n",
              "    </tr>\n",
              "  </tbody>\n",
              "</table>\n",
              "</div>\n",
              "    <div class=\"colab-df-buttons\">\n",
              "\n",
              "  <div class=\"colab-df-container\">\n",
              "    <button class=\"colab-df-convert\" onclick=\"convertToInteractive('df-908142a9-2116-4c06-9d5a-30bf5f840f61')\"\n",
              "            title=\"Convert this dataframe to an interactive table.\"\n",
              "            style=\"display:none;\">\n",
              "\n",
              "  <svg xmlns=\"http://www.w3.org/2000/svg\" height=\"24px\" viewBox=\"0 -960 960 960\">\n",
              "    <path d=\"M120-120v-720h720v720H120Zm60-500h600v-160H180v160Zm220 220h160v-160H400v160Zm0 220h160v-160H400v160ZM180-400h160v-160H180v160Zm440 0h160v-160H620v160ZM180-180h160v-160H180v160Zm440 0h160v-160H620v160Z\"/>\n",
              "  </svg>\n",
              "    </button>\n",
              "\n",
              "  <style>\n",
              "    .colab-df-container {\n",
              "      display:flex;\n",
              "      gap: 12px;\n",
              "    }\n",
              "\n",
              "    .colab-df-convert {\n",
              "      background-color: #E8F0FE;\n",
              "      border: none;\n",
              "      border-radius: 50%;\n",
              "      cursor: pointer;\n",
              "      display: none;\n",
              "      fill: #1967D2;\n",
              "      height: 32px;\n",
              "      padding: 0 0 0 0;\n",
              "      width: 32px;\n",
              "    }\n",
              "\n",
              "    .colab-df-convert:hover {\n",
              "      background-color: #E2EBFA;\n",
              "      box-shadow: 0px 1px 2px rgba(60, 64, 67, 0.3), 0px 1px 3px 1px rgba(60, 64, 67, 0.15);\n",
              "      fill: #174EA6;\n",
              "    }\n",
              "\n",
              "    .colab-df-buttons div {\n",
              "      margin-bottom: 4px;\n",
              "    }\n",
              "\n",
              "    [theme=dark] .colab-df-convert {\n",
              "      background-color: #3B4455;\n",
              "      fill: #D2E3FC;\n",
              "    }\n",
              "\n",
              "    [theme=dark] .colab-df-convert:hover {\n",
              "      background-color: #434B5C;\n",
              "      box-shadow: 0px 1px 3px 1px rgba(0, 0, 0, 0.15);\n",
              "      filter: drop-shadow(0px 1px 2px rgba(0, 0, 0, 0.3));\n",
              "      fill: #FFFFFF;\n",
              "    }\n",
              "  </style>\n",
              "\n",
              "    <script>\n",
              "      const buttonEl =\n",
              "        document.querySelector('#df-908142a9-2116-4c06-9d5a-30bf5f840f61 button.colab-df-convert');\n",
              "      buttonEl.style.display =\n",
              "        google.colab.kernel.accessAllowed ? 'block' : 'none';\n",
              "\n",
              "      async function convertToInteractive(key) {\n",
              "        const element = document.querySelector('#df-908142a9-2116-4c06-9d5a-30bf5f840f61');\n",
              "        const dataTable =\n",
              "          await google.colab.kernel.invokeFunction('convertToInteractive',\n",
              "                                                    [key], {});\n",
              "        if (!dataTable) return;\n",
              "\n",
              "        const docLinkHtml = 'Like what you see? Visit the ' +\n",
              "          '<a target=\"_blank\" href=https://colab.research.google.com/notebooks/data_table.ipynb>data table notebook</a>'\n",
              "          + ' to learn more about interactive tables.';\n",
              "        element.innerHTML = '';\n",
              "        dataTable['output_type'] = 'display_data';\n",
              "        await google.colab.output.renderOutput(dataTable, element);\n",
              "        const docLink = document.createElement('div');\n",
              "        docLink.innerHTML = docLinkHtml;\n",
              "        element.appendChild(docLink);\n",
              "      }\n",
              "    </script>\n",
              "  </div>\n",
              "\n",
              "\n",
              "<div id=\"df-78354327-6df1-4bbe-964f-28e46d9b21b2\">\n",
              "  <button class=\"colab-df-quickchart\" onclick=\"quickchart('df-78354327-6df1-4bbe-964f-28e46d9b21b2')\"\n",
              "            title=\"Suggest charts\"\n",
              "            style=\"display:none;\">\n",
              "\n",
              "<svg xmlns=\"http://www.w3.org/2000/svg\" height=\"24px\"viewBox=\"0 0 24 24\"\n",
              "     width=\"24px\">\n",
              "    <g>\n",
              "        <path d=\"M19 3H5c-1.1 0-2 .9-2 2v14c0 1.1.9 2 2 2h14c1.1 0 2-.9 2-2V5c0-1.1-.9-2-2-2zM9 17H7v-7h2v7zm4 0h-2V7h2v10zm4 0h-2v-4h2v4z\"/>\n",
              "    </g>\n",
              "</svg>\n",
              "  </button>\n",
              "\n",
              "<style>\n",
              "  .colab-df-quickchart {\n",
              "      --bg-color: #E8F0FE;\n",
              "      --fill-color: #1967D2;\n",
              "      --hover-bg-color: #E2EBFA;\n",
              "      --hover-fill-color: #174EA6;\n",
              "      --disabled-fill-color: #AAA;\n",
              "      --disabled-bg-color: #DDD;\n",
              "  }\n",
              "\n",
              "  [theme=dark] .colab-df-quickchart {\n",
              "      --bg-color: #3B4455;\n",
              "      --fill-color: #D2E3FC;\n",
              "      --hover-bg-color: #434B5C;\n",
              "      --hover-fill-color: #FFFFFF;\n",
              "      --disabled-bg-color: #3B4455;\n",
              "      --disabled-fill-color: #666;\n",
              "  }\n",
              "\n",
              "  .colab-df-quickchart {\n",
              "    background-color: var(--bg-color);\n",
              "    border: none;\n",
              "    border-radius: 50%;\n",
              "    cursor: pointer;\n",
              "    display: none;\n",
              "    fill: var(--fill-color);\n",
              "    height: 32px;\n",
              "    padding: 0;\n",
              "    width: 32px;\n",
              "  }\n",
              "\n",
              "  .colab-df-quickchart:hover {\n",
              "    background-color: var(--hover-bg-color);\n",
              "    box-shadow: 0 1px 2px rgba(60, 64, 67, 0.3), 0 1px 3px 1px rgba(60, 64, 67, 0.15);\n",
              "    fill: var(--button-hover-fill-color);\n",
              "  }\n",
              "\n",
              "  .colab-df-quickchart-complete:disabled,\n",
              "  .colab-df-quickchart-complete:disabled:hover {\n",
              "    background-color: var(--disabled-bg-color);\n",
              "    fill: var(--disabled-fill-color);\n",
              "    box-shadow: none;\n",
              "  }\n",
              "\n",
              "  .colab-df-spinner {\n",
              "    border: 2px solid var(--fill-color);\n",
              "    border-color: transparent;\n",
              "    border-bottom-color: var(--fill-color);\n",
              "    animation:\n",
              "      spin 1s steps(1) infinite;\n",
              "  }\n",
              "\n",
              "  @keyframes spin {\n",
              "    0% {\n",
              "      border-color: transparent;\n",
              "      border-bottom-color: var(--fill-color);\n",
              "      border-left-color: var(--fill-color);\n",
              "    }\n",
              "    20% {\n",
              "      border-color: transparent;\n",
              "      border-left-color: var(--fill-color);\n",
              "      border-top-color: var(--fill-color);\n",
              "    }\n",
              "    30% {\n",
              "      border-color: transparent;\n",
              "      border-left-color: var(--fill-color);\n",
              "      border-top-color: var(--fill-color);\n",
              "      border-right-color: var(--fill-color);\n",
              "    }\n",
              "    40% {\n",
              "      border-color: transparent;\n",
              "      border-right-color: var(--fill-color);\n",
              "      border-top-color: var(--fill-color);\n",
              "    }\n",
              "    60% {\n",
              "      border-color: transparent;\n",
              "      border-right-color: var(--fill-color);\n",
              "    }\n",
              "    80% {\n",
              "      border-color: transparent;\n",
              "      border-right-color: var(--fill-color);\n",
              "      border-bottom-color: var(--fill-color);\n",
              "    }\n",
              "    90% {\n",
              "      border-color: transparent;\n",
              "      border-bottom-color: var(--fill-color);\n",
              "    }\n",
              "  }\n",
              "</style>\n",
              "\n",
              "  <script>\n",
              "    async function quickchart(key) {\n",
              "      const quickchartButtonEl =\n",
              "        document.querySelector('#' + key + ' button');\n",
              "      quickchartButtonEl.disabled = true;  // To prevent multiple clicks.\n",
              "      quickchartButtonEl.classList.add('colab-df-spinner');\n",
              "      try {\n",
              "        const charts = await google.colab.kernel.invokeFunction(\n",
              "            'suggestCharts', [key], {});\n",
              "      } catch (error) {\n",
              "        console.error('Error during call to suggestCharts:', error);\n",
              "      }\n",
              "      quickchartButtonEl.classList.remove('colab-df-spinner');\n",
              "      quickchartButtonEl.classList.add('colab-df-quickchart-complete');\n",
              "    }\n",
              "    (() => {\n",
              "      let quickchartButtonEl =\n",
              "        document.querySelector('#df-78354327-6df1-4bbe-964f-28e46d9b21b2 button');\n",
              "      quickchartButtonEl.style.display =\n",
              "        google.colab.kernel.accessAllowed ? 'block' : 'none';\n",
              "    })();\n",
              "  </script>\n",
              "</div>\n",
              "    </div>\n",
              "  </div>\n"
            ]
          },
          "metadata": {},
          "execution_count": 24
        }
      ]
    },
    {
      "cell_type": "code",
      "source": [
        "from sklearn.decomposition import PCA"
      ],
      "metadata": {
        "id": "cOSd58eESUOx"
      },
      "execution_count": 25,
      "outputs": []
    },
    {
      "cell_type": "code",
      "source": [
        "pca = PCA(2)"
      ],
      "metadata": {
        "id": "F1KZvZSSSe_S"
      },
      "execution_count": 26,
      "outputs": []
    },
    {
      "cell_type": "code",
      "source": [
        "pca_vectors = pca.fit_transform(word_vectors.to_numpy()[:,:-1])"
      ],
      "metadata": {
        "id": "byaVqfucSge8"
      },
      "execution_count": 27,
      "outputs": []
    },
    {
      "cell_type": "code",
      "source": [
        "import matplotlib.pyplot as plt\n",
        "plt.figure(figsize=(10, 10))\n",
        "plt.scatter(pca_vectors[:,0], pca_vectors[:,1])\n",
        "for i, word in enumerate(word_vectors['word'].tolist()):\n",
        "  x, y = pca_vectors[i]\n",
        "  plt.annotate(word, (x, y))\n",
        "plt.title(\"Visualizing Word Embeddings after reducing dimensions with PCA\")\n",
        "plt.xlabel(\"PCA-1\")\n",
        "plt.ylabel(\"PCA-2\")\n",
        "plt.show()"
      ],
      "metadata": {
        "colab": {
          "base_uri": "https://localhost:8080/",
          "height": 892
        },
        "id": "nRyhokXxSrVj",
        "outputId": "dff4cc6a-6886-4daf-b7ee-145702bbe9f5"
      },
      "execution_count": 28,
      "outputs": [
        {
          "output_type": "display_data",
          "data": {
            "text/plain": [
              "<Figure size 1000x1000 with 1 Axes>"
            ],
            "image/png": "[encoded data removed]"
          },
          "metadata": {}
        }
      ]
    },
    {
      "cell_type": "code",
      "source": [],
      "metadata": {
        "id": "igZiNgAqT9sP"
      },
      "execution_count": null,
      "outputs": []
    }
  ]
}