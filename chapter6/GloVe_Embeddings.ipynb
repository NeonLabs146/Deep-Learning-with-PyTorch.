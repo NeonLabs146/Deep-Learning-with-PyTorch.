{
  "nbformat": 4,
  "nbformat_minor": 0,
  "metadata": {
    "colab": {
      "provenance": [],
      "gpuType": "T4"
    },
    "kernelspec": {
      "name": "python3",
      "display_name": "Python 3"
    },
    "language_info": {
      "name": "python"
    },
    "accelerator": "GPU"
  },
  "cells": [
    {
      "cell_type": "markdown",
      "source": [
        "# Loading the Corpus"
      ],
      "metadata": {
        "id": "xUDBdXFJtsaz"
      }
    },
    {
      "cell_type": "code",
      "source": [
        "target_url = \"https://cs.stanford.edu/people/karpathy/char-rnn/shakespear.txt\""
      ],
      "metadata": {
        "id": "BQAeB-gWtreA"
      },
      "execution_count": 1,
      "outputs": []
    },
    {
      "cell_type": "code",
      "execution_count": 2,
      "metadata": {
        "id": "37lM77r8tikI"
      },
      "outputs": [],
      "source": [
        "import urllib\n",
        "corpus = []\n",
        "for line in urllib.request.urlopen(target_url).readlines():\n",
        "    corpus.append(line.strip())"
      ]
    },
    {
      "cell_type": "code",
      "source": [
        "# Comment out this cell, to run the model on the shakespear dataset\n",
        "corpus = ['cat chases mouse',\n",
        "        'cat catches mouse',\n",
        "        'cat eats mouse',\n",
        "        'mouse runs into hole',\n",
        "        'cat says bad words',\n",
        "        'cat and mouse are pals',\n",
        "        'cat and mouse are chums',\n",
        "        'mouse stores food in hole',\n",
        "        'cat stores food in house',\n",
        "        'mouse sleeps in hole',\n",
        "        'cat sleeps in house',\n",
        "        'cat and mouse are buddies',\n",
        "        'mouse lives in hole',\n",
        "        'cat lives in house']"
      ],
      "metadata": {
        "id": "EiNMLq2LUXZl"
      },
      "execution_count": 48,
      "outputs": []
    },
    {
      "cell_type": "code",
      "source": [
        "corpus[0]"
      ],
      "metadata": {
        "colab": {
          "base_uri": "https://localhost:8080/",
          "height": 56
        },
        "id": "Aa0MT3dYt29U",
        "outputId": "535b19ed-a276-420a-d474-665e57cde3ed"
      },
      "execution_count": 49,
      "outputs": [
        {
          "output_type": "execute_result",
          "data": {
            "text/plain": [
              "'cat chases mouse'"
            ],
            "application/vnd.google.colaboratory.intrinsic+json": {
              "type": "string"
            }
          },
          "metadata": {},
          "execution_count": 49
        }
      ]
    },
    {
      "cell_type": "markdown",
      "source": [
        "### Preprocessing our Corpus"
      ],
      "metadata": {
        "id": "npb6JwilvByB"
      }
    },
    {
      "cell_type": "code",
      "source": [
        "import re, html\n",
        "\n",
        "def pad(line, context_window=4):\n",
        "  pad_size = context_window // 2\n",
        "  return [f\"<pad_{i}>\" for i in range(pad_size)] + line + [f\"<pad_{i}>\" for i in range(pad_size)]\n",
        "\n",
        "def preprocess(line, context_window):\n",
        "  if not isinstance(line, str):\n",
        "    line = line.decode('utf-8')\n",
        "  line = html.unescape(line).lower()\n",
        "  line = re.sub('[^a-z]',' ', line)\n",
        "  return pad(line.split(), context_window)\n"
      ],
      "metadata": {
        "id": "teNeApQauBzR"
      },
      "execution_count": 52,
      "outputs": []
    },
    {
      "cell_type": "code",
      "source": [
        "preprocess(corpus[5], 4)"
      ],
      "metadata": {
        "colab": {
          "base_uri": "https://localhost:8080/"
        },
        "id": "oVHqfdRzuZmK",
        "outputId": "e302ceb9-b45d-4cf4-9bde-174b9ca5e6d8"
      },
      "execution_count": 57,
      "outputs": [
        {
          "output_type": "execute_result",
          "data": {
            "text/plain": [
              "['<pad_0>',\n",
              " '<pad_1>',\n",
              " 'cat',\n",
              " 'and',\n",
              " 'mouse',\n",
              " 'are',\n",
              " 'pals',\n",
              " '<pad_0>',\n",
              " '<pad_1>']"
            ]
          },
          "metadata": {},
          "execution_count": 57
        }
      ]
    },
    {
      "cell_type": "code",
      "source": [
        "CONTEXT_WINDOW = 4\n",
        "corpus_processed = [preprocess(line, CONTEXT_WINDOW) for line in corpus]"
      ],
      "metadata": {
        "id": "t_cNkF1hwGnN"
      },
      "execution_count": 59,
      "outputs": []
    },
    {
      "cell_type": "markdown",
      "source": [
        "# Preparing Co-Occurrence Matrix"
      ],
      "metadata": {
        "id": "YD-m0faev4kG"
      }
    },
    {
      "cell_type": "code",
      "source": [
        "# First we need our vocabulary\n",
        "vocab = {}\n",
        "size = 0\n",
        "\n",
        "for line in corpus_processed:\n",
        "  for word in line:\n",
        "    if word not in vocab:\n",
        "      size += 1\n",
        "      vocab[word] = size\n",
        "\n",
        "rev_vocab = {i:word for word, i in vocab.items()}"
      ],
      "metadata": {
        "id": "GQ_PVlcpua2M"
      },
      "execution_count": 60,
      "outputs": []
    },
    {
      "cell_type": "code",
      "source": [
        "vocab['mouse'], rev_vocab[5]"
      ],
      "metadata": {
        "colab": {
          "base_uri": "https://localhost:8080/"
        },
        "id": "tw5APor1wdPk",
        "outputId": "e0e02f5a-7a50-4c85-dcbc-54a9aed6ad99"
      },
      "execution_count": 65,
      "outputs": [
        {
          "output_type": "execute_result",
          "data": {
            "text/plain": [
              "(5, 'mouse')"
            ]
          },
          "metadata": {},
          "execution_count": 65
        }
      ]
    },
    {
      "cell_type": "code",
      "source": [
        "size"
      ],
      "metadata": {
        "colab": {
          "base_uri": "https://localhost:8080/"
        },
        "id": "VNuWNKvlwd63",
        "outputId": "ad826186-076b-4d12-8dbd-7cef59b1e7bb"
      },
      "execution_count": 66,
      "outputs": [
        {
          "output_type": "execute_result",
          "data": {
            "text/plain": [
              "24"
            ]
          },
          "metadata": {},
          "execution_count": 66
        }
      ]
    },
    {
      "cell_type": "code",
      "source": [
        "from collections import defaultdict\n",
        "from tqdm import tqdm\n",
        "CONTEXT_WINDOW = 6\n",
        "\n",
        "co_occurrence_statistics = defaultdict(int)\n",
        "\n",
        "for line in tqdm(corpus_processed):\n",
        "  for i in range(CONTEXT_WINDOW // 2, len(line) - CONTEXT_WINDOW // 2):\n",
        "    curr_word = line[i]\n",
        "    prev_words = line[i-CONTEXT_WINDOW // 2:i]\n",
        "    next_words = line[i+1: i+1+(CONTEXT_WINDOW // 2)]\n",
        "    for w in prev_words:\n",
        "      co_occurrence_statistics[(vocab[curr_word], vocab[w])] += 1\n",
        "    for w in next_words:\n",
        "      co_occurrence_statistics[(vocab[curr_word], vocab[w])] += 1"
      ],
      "metadata": {
        "colab": {
          "base_uri": "https://localhost:8080/"
        },
        "id": "6Tqb2hsLwgSq",
        "outputId": "0321e000-40e9-4bdf-89fa-0af53a179361"
      },
      "execution_count": 67,
      "outputs": [
        {
          "output_type": "stream",
          "name": "stderr",
          "text": [
            "100%|██████████| 14/14 [00:00<00:00, 18355.82it/s]\n"
          ]
        }
      ]
    },
    {
      "cell_type": "code",
      "source": [
        "co_occurrence_statistics[(vocab['mouse'], vocab['and'])]"
      ],
      "metadata": {
        "colab": {
          "base_uri": "https://localhost:8080/"
        },
        "id": "1GSVYiNsyA7m",
        "outputId": "fa7a50e2-c970-441d-d5f8-a4712bbbe427"
      },
      "execution_count": 69,
      "outputs": [
        {
          "output_type": "execute_result",
          "data": {
            "text/plain": [
              "3"
            ]
          },
          "metadata": {},
          "execution_count": 69
        }
      ]
    },
    {
      "cell_type": "code",
      "source": [
        "MAX_CO_OCCURENCE_VALUE = max(co_occurrence_statistics.values())\n",
        "ALPHA = 1.1\n",
        "VOCAB_SIZE = size\n",
        "EMB_SIZE = 8"
      ],
      "metadata": {
        "id": "tUZhC7na2rp2"
      },
      "execution_count": 70,
      "outputs": []
    },
    {
      "cell_type": "markdown",
      "source": [
        "# GloVe Embedding Model"
      ],
      "metadata": {
        "id": "K2NsZMpYyh03"
      }
    },
    {
      "cell_type": "code",
      "source": [
        "import numpy as np\n",
        "import torch\n",
        "import torch.nn as nn\n",
        "from torch.utils.data import DataLoader, Dataset\n",
        "import torch.nn.functional as F"
      ],
      "metadata": {
        "id": "IkJmSMzYIKeh"
      },
      "execution_count": 71,
      "outputs": []
    },
    {
      "cell_type": "code",
      "source": [
        "device = torch.device('cuda:0' if torch.cuda.is_available() else 'cpu')\n",
        "device"
      ],
      "metadata": {
        "colab": {
          "base_uri": "https://localhost:8080/"
        },
        "id": "5MSnvEsTINR5",
        "outputId": "db889e65-9abd-4f8b-9403-63235475f697"
      },
      "execution_count": 72,
      "outputs": [
        {
          "output_type": "execute_result",
          "data": {
            "text/plain": [
              "device(type='cuda', index=0)"
            ]
          },
          "metadata": {},
          "execution_count": 72
        }
      ]
    },
    {
      "cell_type": "code",
      "source": [
        "\n",
        "class GloVe(nn.Module):\n",
        "\n",
        "    def __init__(self, vocab_size, embedding_size, x_max, alpha):\n",
        "        super().__init__()\n",
        "        self.word_emb = nn.Embedding(\n",
        "            num_embeddings=vocab_size,\n",
        "            embedding_dim=embedding_size,\n",
        "            sparse=True\n",
        "        )\n",
        "        self.context_emb = nn.Embedding(\n",
        "            num_embeddings=vocab_size,\n",
        "            embedding_dim=embedding_size,\n",
        "            sparse=True\n",
        "        )\n",
        "        self.bias_wv = nn.Parameter(\n",
        "            torch.randn(\n",
        "                vocab_size,\n",
        "                dtype=torch.float,\n",
        "            )\n",
        "        )\n",
        "        self.bias_cv = nn.Parameter(\n",
        "            torch.randn(\n",
        "                vocab_size,\n",
        "                dtype=torch.float,\n",
        "            )\n",
        "        )\n",
        "        self.weighting_func = lambda x: (x / x_max).float_power(alpha).clamp(0, 1)\n",
        "\n",
        "    def forward(self, i, j, x):\n",
        "        loss = torch.mul(self.word_emb(i), self.context_emb(j)).sum(dim=1)\n",
        "        loss = (loss + self.bias_wv[i] + self.bias_cv[j] - x.log()).square()\n",
        "        loss = torch.mul(self.weighting_func(x), loss).mean()\n",
        "        return loss\n",
        "\n",
        "glove = GloVe(vocab_size=VOCAB_SIZE+1, embedding_size=EMB_SIZE, x_max=MAX_CO_OCCURENCE_VALUE, alpha=1.1)\n",
        "glove.to(device)"
      ],
      "metadata": {
        "colab": {
          "base_uri": "https://localhost:8080/"
        },
        "id": "5nDytIGHyhFo",
        "outputId": "1e955ce8-e719-45b9-a801-44ef63489038"
      },
      "execution_count": 74,
      "outputs": [
        {
          "output_type": "execute_result",
          "data": {
            "text/plain": [
              "GloVe(\n",
              "  (word_emb): Embedding(25, 2, sparse=True)\n",
              "  (context_emb): Embedding(25, 2, sparse=True)\n",
              ")"
            ]
          },
          "metadata": {},
          "execution_count": 74
        }
      ]
    },
    {
      "cell_type": "code",
      "source": [
        "optimizer = torch.optim.Adagrad(glove.parameters(), lr=0.001)"
      ],
      "metadata": {
        "id": "3P3ifruc3rQ3"
      },
      "execution_count": 75,
      "outputs": []
    },
    {
      "cell_type": "code",
      "source": [
        "import itertools\n",
        "\n",
        "class CustomDataset(torch.utils.data.Dataset):\n",
        "  def __init__(self):\n",
        "    self.X = []\n",
        "    for key, value in co_occurrence_statistics.items():\n",
        "      self.X.append([key, value])\n",
        "\n",
        "  def __getitem__(self, idx):\n",
        "    words, value = self.X[idx]\n",
        "    i, j = words\n",
        "    return torch.LongTensor([i, j]), torch.Tensor([value])\n",
        "\n",
        "  def __len__(self):\n",
        "    return len(self.X)\n",
        "\n",
        "dataset = CustomDataset()\n",
        "train_dataset = DataLoader(dataset, batch_size=128, shuffle=True)"
      ],
      "metadata": {
        "id": "Z4cJA7g66F-s"
      },
      "execution_count": 76,
      "outputs": []
    },
    {
      "cell_type": "code",
      "source": [
        "NUM_EPOCHS = 400\n",
        "glove.train()\n",
        "\n",
        "losses = []\n",
        "for epoch in tqdm(range(NUM_EPOCHS)):\n",
        "  epoch_loss = 0\n",
        "  for batch in train_dataset:\n",
        "    loss = glove(\n",
        "        batch[0][:, 0].to(device),\n",
        "        batch[0][:, 1].to(device),\n",
        "        batch[1].to(device)\n",
        "    )\n",
        "    loss.backward()\n",
        "    optimizer.step()\n",
        "    optimizer.zero_grad()\n",
        "    epoch_loss += loss.cpu().detach().item()\n",
        "\n",
        "  losses.append(epoch_loss)\n",
        "print(f\"Epoch {epoch}: loss = {epoch_loss}\")"
      ],
      "metadata": {
        "colab": {
          "base_uri": "https://localhost:8080/"
        },
        "id": "ryVYpfll36zj",
        "outputId": "892c6559-2d6c-4169-d62b-e6f5c9a371d0"
      },
      "execution_count": 100,
      "outputs": [
        {
          "output_type": "stream",
          "name": "stderr",
          "text": [
            "100%|██████████| 4000/4000 [00:18<00:00, 211.72it/s]\n"
          ]
        }
      ]
    },
    {
      "cell_type": "code",
      "source": [
        "word_vectors = glove.word_emb(torch.LongTensor([i for i in range(VOCAB_SIZE+1)]).to(device)).cpu().detach().numpy()"
      ],
      "metadata": {
        "id": "-0zPGZyIOQ7o"
      },
      "execution_count": 101,
      "outputs": []
    },
    {
      "cell_type": "code",
      "source": [
        "word_vectors = word_vectors[1:,:]"
      ],
      "metadata": {
        "id": "bto0h4zrRoxB"
      },
      "execution_count": 102,
      "outputs": []
    },
    {
      "cell_type": "code",
      "source": [
        "import pandas as pd"
      ],
      "metadata": {
        "id": "GSBIPsRTR2R8"
      },
      "execution_count": 103,
      "outputs": []
    },
    {
      "cell_type": "code",
      "source": [
        "word_vectors = pd.DataFrame(word_vectors, columns=[f\"f_{i}\" for i in range(EMB_SIZE)])"
      ],
      "metadata": {
        "id": "I8NjsLGqR6vu"
      },
      "execution_count": 104,
      "outputs": []
    },
    {
      "cell_type": "code",
      "source": [
        "word_vectors['word'] = [rev_vocab[i] for i in range(1, VOCAB_SIZE+1)]"
      ],
      "metadata": {
        "id": "PKxOWQu5SGmW"
      },
      "execution_count": 105,
      "outputs": []
    },
    {
      "cell_type": "code",
      "source": [
        "word_vectors"
      ],
      "metadata": {
        "colab": {
          "base_uri": "https://localhost:8080/",
          "height": 828
        },
        "id": "gp89nwOUSOVh",
        "outputId": "fb359045-ceca-4d08-dd1c-1de673b6b5be"
      },
      "execution_count": 106,
      "outputs": [
        {
          "output_type": "execute_result",
          "data": {
            "text/plain": [
              "         f_0       f_1     word\n",
              "0   0.529300 -0.144065  <pad_0>\n",
              "1  -0.895375  0.973278  <pad_1>\n",
              "2  -0.173260 -0.214643      cat\n",
              "3   0.775620 -0.453590   chases\n",
              "4  -1.717769 -0.107564    mouse\n",
              "5  -0.883291 -1.056630  catches\n",
              "6  -0.201816  0.613383     eats\n",
              "7   0.177273  0.609451     runs\n",
              "8  -1.305823  0.541256     into\n",
              "9   1.228733  0.738806     hole\n",
              "10  1.835734  0.500205     says\n",
              "11 -0.419861 -0.346673      bad\n",
              "12 -0.244779  0.387614    words\n",
              "13 -0.879119  0.777303      and\n",
              "14 -0.581787 -0.024359      are\n",
              "15  0.349895  0.788155     pals\n",
              "16 -0.599322 -0.509630    chums\n",
              "17  0.629333  0.816296   stores\n",
              "18 -0.746620 -2.356922     food\n",
              "19  0.548637 -1.124222       in\n",
              "20 -0.894271 -1.217364    house\n",
              "21  0.398735 -0.370891   sleeps\n",
              "22 -2.042219  1.029739  buddies\n",
              "23 -0.405945 -0.491530    lives"
            ],
            "text/html": [
              "\n",
              "  <div id=\"df-e23020e0-6e8f-4595-b982-353382245b3a\" class=\"colab-df-container\">\n",
              "    <div>\n",
              "<style scoped>\n",
              "    .dataframe tbody tr th:only-of-type {\n",
              "        vertical-align: middle;\n",
              "    }\n",
              "\n",
              "    .dataframe tbody tr th {\n",
              "        vertical-align: top;\n",
              "    }\n",
              "\n",
              "    .dataframe thead th {\n",
              "        text-align: right;\n",
              "    }\n",
              "</style>\n",
              "<table border=\"1\" class=\"dataframe\">\n",
              "  <thead>\n",
              "    <tr style=\"text-align: right;\">\n",
              "      <th></th>\n",
              "      <th>f_0</th>\n",
              "      <th>f_1</th>\n",
              "      <th>word</th>\n",
              "    </tr>\n",
              "  </thead>\n",
              "  <tbody>\n",
              "    <tr>\n",
              "      <th>0</th>\n",
              "      <td>0.529300</td>\n",
              "      <td>-0.144065</td>\n",
              "      <td>&lt;pad_0&gt;</td>\n",
              "    </tr>\n",
              "    <tr>\n",
              "      <th>1</th>\n",
              "      <td>-0.895375</td>\n",
              "      <td>0.973278</td>\n",
              "      <td>&lt;pad_1&gt;</td>\n",
              "    </tr>\n",
              "    <tr>\n",
              "      <th>2</th>\n",
              "      <td>-0.173260</td>\n",
              "      <td>-0.214643</td>\n",
              "      <td>cat</td>\n",
              "    </tr>\n",
              "    <tr>\n",
              "      <th>3</th>\n",
              "      <td>0.775620</td>\n",
              "      <td>-0.453590</td>\n",
              "      <td>chases</td>\n",
              "    </tr>\n",
              "    <tr>\n",
              "      <th>4</th>\n",
              "      <td>-1.717769</td>\n",
              "      <td>-0.107564</td>\n",
              "      <td>mouse</td>\n",
              "    </tr>\n",
              "    <tr>\n",
              "      <th>5</th>\n",
              "      <td>-0.883291</td>\n",
              "      <td>-1.056630</td>\n",
              "      <td>catches</td>\n",
              "    </tr>\n",
              "    <tr>\n",
              "      <th>6</th>\n",
              "      <td>-0.201816</td>\n",
              "      <td>0.613383</td>\n",
              "      <td>eats</td>\n",
              "    </tr>\n",
              "    <tr>\n",
              "      <th>7</th>\n",
              "      <td>0.177273</td>\n",
              "      <td>0.609451</td>\n",
              "      <td>runs</td>\n",
              "    </tr>\n",
              "    <tr>\n",
              "      <th>8</th>\n",
              "      <td>-1.305823</td>\n",
              "      <td>0.541256</td>\n",
              "      <td>into</td>\n",
              "    </tr>\n",
              "    <tr>\n",
              "      <th>9</th>\n",
              "      <td>1.228733</td>\n",
              "      <td>0.738806</td>\n",
              "      <td>hole</td>\n",
              "    </tr>\n",
              "    <tr>\n",
              "      <th>10</th>\n",
              "      <td>1.835734</td>\n",
              "      <td>0.500205</td>\n",
              "      <td>says</td>\n",
              "    </tr>\n",
              "    <tr>\n",
              "      <th>11</th>\n",
              "      <td>-0.419861</td>\n",
              "      <td>-0.346673</td>\n",
              "      <td>bad</td>\n",
              "    </tr>\n",
              "    <tr>\n",
              "      <th>12</th>\n",
              "      <td>-0.244779</td>\n",
              "      <td>0.387614</td>\n",
              "      <td>words</td>\n",
              "    </tr>\n",
              "    <tr>\n",
              "      <th>13</th>\n",
              "      <td>-0.879119</td>\n",
              "      <td>0.777303</td>\n",
              "      <td>and</td>\n",
              "    </tr>\n",
              "    <tr>\n",
              "      <th>14</th>\n",
              "      <td>-0.581787</td>\n",
              "      <td>-0.024359</td>\n",
              "      <td>are</td>\n",
              "    </tr>\n",
              "    <tr>\n",
              "      <th>15</th>\n",
              "      <td>0.349895</td>\n",
              "      <td>0.788155</td>\n",
              "      <td>pals</td>\n",
              "    </tr>\n",
              "    <tr>\n",
              "      <th>16</th>\n",
              "      <td>-0.599322</td>\n",
              "      <td>-0.509630</td>\n",
              "      <td>chums</td>\n",
              "    </tr>\n",
              "    <tr>\n",
              "      <th>17</th>\n",
              "      <td>0.629333</td>\n",
              "      <td>0.816296</td>\n",
              "      <td>stores</td>\n",
              "    </tr>\n",
              "    <tr>\n",
              "      <th>18</th>\n",
              "      <td>-0.746620</td>\n",
              "      <td>-2.356922</td>\n",
              "      <td>food</td>\n",
              "    </tr>\n",
              "    <tr>\n",
              "      <th>19</th>\n",
              "      <td>0.548637</td>\n",
              "      <td>-1.124222</td>\n",
              "      <td>in</td>\n",
              "    </tr>\n",
              "    <tr>\n",
              "      <th>20</th>\n",
              "      <td>-0.894271</td>\n",
              "      <td>-1.217364</td>\n",
              "      <td>house</td>\n",
              "    </tr>\n",
              "    <tr>\n",
              "      <th>21</th>\n",
              "      <td>0.398735</td>\n",
              "      <td>-0.370891</td>\n",
              "      <td>sleeps</td>\n",
              "    </tr>\n",
              "    <tr>\n",
              "      <th>22</th>\n",
              "      <td>-2.042219</td>\n",
              "      <td>1.029739</td>\n",
              "      <td>buddies</td>\n",
              "    </tr>\n",
              "    <tr>\n",
              "      <th>23</th>\n",
              "      <td>-0.405945</td>\n",
              "      <td>-0.491530</td>\n",
              "      <td>lives</td>\n",
              "    </tr>\n",
              "  </tbody>\n",
              "</table>\n",
              "</div>\n",
              "    <div class=\"colab-df-buttons\">\n",
              "\n",
              "  <div class=\"colab-df-container\">\n",
              "    <button class=\"colab-df-convert\" onclick=\"convertToInteractive('df-e23020e0-6e8f-4595-b982-353382245b3a')\"\n",
              "            title=\"Convert this dataframe to an interactive table.\"\n",
              "            style=\"display:none;\">\n",
              "\n",
              "  <svg xmlns=\"http://www.w3.org/2000/svg\" height=\"24px\" viewBox=\"0 -960 960 960\">\n",
              "    <path d=\"M120-120v-720h720v720H120Zm60-500h600v-160H180v160Zm220 220h160v-160H400v160Zm0 220h160v-160H400v160ZM180-400h160v-160H180v160Zm440 0h160v-160H620v160ZM180-180h160v-160H180v160Zm440 0h160v-160H620v160Z\"/>\n",
              "  </svg>\n",
              "    </button>\n",
              "\n",
              "  <style>\n",
              "    .colab-df-container {\n",
              "      display:flex;\n",
              "      gap: 12px;\n",
              "    }\n",
              "\n",
              "    .colab-df-convert {\n",
              "      background-color: #E8F0FE;\n",
              "      border: none;\n",
              "      border-radius: 50%;\n",
              "      cursor: pointer;\n",
              "      display: none;\n",
              "      fill: #1967D2;\n",
              "      height: 32px;\n",
              "      padding: 0 0 0 0;\n",
              "      width: 32px;\n",
              "    }\n",
              "\n",
              "    .colab-df-convert:hover {\n",
              "      background-color: #E2EBFA;\n",
              "      box-shadow: 0px 1px 2px rgba(60, 64, 67, 0.3), 0px 1px 3px 1px rgba(60, 64, 67, 0.15);\n",
              "      fill: #174EA6;\n",
              "    }\n",
              "\n",
              "    .colab-df-buttons div {\n",
              "      margin-bottom: 4px;\n",
              "    }\n",
              "\n",
              "    [theme=dark] .colab-df-convert {\n",
              "      background-color: #3B4455;\n",
              "      fill: #D2E3FC;\n",
              "    }\n",
              "\n",
              "    [theme=dark] .colab-df-convert:hover {\n",
              "      background-color: #434B5C;\n",
              "      box-shadow: 0px 1px 3px 1px rgba(0, 0, 0, 0.15);\n",
              "      filter: drop-shadow(0px 1px 2px rgba(0, 0, 0, 0.3));\n",
              "      fill: #FFFFFF;\n",
              "    }\n",
              "  </style>\n",
              "\n",
              "    <script>\n",
              "      const buttonEl =\n",
              "        document.querySelector('#df-e23020e0-6e8f-4595-b982-353382245b3a button.colab-df-convert');\n",
              "      buttonEl.style.display =\n",
              "        google.colab.kernel.accessAllowed ? 'block' : 'none';\n",
              "\n",
              "      async function convertToInteractive(key) {\n",
              "        const element = document.querySelector('#df-e23020e0-6e8f-4595-b982-353382245b3a');\n",
              "        const dataTable =\n",
              "          await google.colab.kernel.invokeFunction('convertToInteractive',\n",
              "                                                    [key], {});\n",
              "        if (!dataTable) return;\n",
              "\n",
              "        const docLinkHtml = 'Like what you see? Visit the ' +\n",
              "          '<a target=\"_blank\" href=https://colab.research.google.com/notebooks/data_table.ipynb>data table notebook</a>'\n",
              "          + ' to learn more about interactive tables.';\n",
              "        element.innerHTML = '';\n",
              "        dataTable['output_type'] = 'display_data';\n",
              "        await google.colab.output.renderOutput(dataTable, element);\n",
              "        const docLink = document.createElement('div');\n",
              "        docLink.innerHTML = docLinkHtml;\n",
              "        element.appendChild(docLink);\n",
              "      }\n",
              "    </script>\n",
              "  </div>\n",
              "\n",
              "\n",
              "<div id=\"df-c1ee8b96-0eca-4272-8c2b-09b38079787b\">\n",
              "  <button class=\"colab-df-quickchart\" onclick=\"quickchart('df-c1ee8b96-0eca-4272-8c2b-09b38079787b')\"\n",
              "            title=\"Suggest charts\"\n",
              "            style=\"display:none;\">\n",
              "\n",
              "<svg xmlns=\"http://www.w3.org/2000/svg\" height=\"24px\"viewBox=\"0 0 24 24\"\n",
              "     width=\"24px\">\n",
              "    <g>\n",
              "        <path d=\"M19 3H5c-1.1 0-2 .9-2 2v14c0 1.1.9 2 2 2h14c1.1 0 2-.9 2-2V5c0-1.1-.9-2-2-2zM9 17H7v-7h2v7zm4 0h-2V7h2v10zm4 0h-2v-4h2v4z\"/>\n",
              "    </g>\n",
              "</svg>\n",
              "  </button>\n",
              "\n",
              "<style>\n",
              "  .colab-df-quickchart {\n",
              "      --bg-color: #E8F0FE;\n",
              "      --fill-color: #1967D2;\n",
              "      --hover-bg-color: #E2EBFA;\n",
              "      --hover-fill-color: #174EA6;\n",
              "      --disabled-fill-color: #AAA;\n",
              "      --disabled-bg-color: #DDD;\n",
              "  }\n",
              "\n",
              "  [theme=dark] .colab-df-quickchart {\n",
              "      --bg-color: #3B4455;\n",
              "      --fill-color: #D2E3FC;\n",
              "      --hover-bg-color: #434B5C;\n",
              "      --hover-fill-color: #FFFFFF;\n",
              "      --disabled-bg-color: #3B4455;\n",
              "      --disabled-fill-color: #666;\n",
              "  }\n",
              "\n",
              "  .colab-df-quickchart {\n",
              "    background-color: var(--bg-color);\n",
              "    border: none;\n",
              "    border-radius: 50%;\n",
              "    cursor: pointer;\n",
              "    display: none;\n",
              "    fill: var(--fill-color);\n",
              "    height: 32px;\n",
              "    padding: 0;\n",
              "    width: 32px;\n",
              "  }\n",
              "\n",
              "  .colab-df-quickchart:hover {\n",
              "    background-color: var(--hover-bg-color);\n",
              "    box-shadow: 0 1px 2px rgba(60, 64, 67, 0.3), 0 1px 3px 1px rgba(60, 64, 67, 0.15);\n",
              "    fill: var(--button-hover-fill-color);\n",
              "  }\n",
              "\n",
              "  .colab-df-quickchart-complete:disabled,\n",
              "  .colab-df-quickchart-complete:disabled:hover {\n",
              "    background-color: var(--disabled-bg-color);\n",
              "    fill: var(--disabled-fill-color);\n",
              "    box-shadow: none;\n",
              "  }\n",
              "\n",
              "  .colab-df-spinner {\n",
              "    border: 2px solid var(--fill-color);\n",
              "    border-color: transparent;\n",
              "    border-bottom-color: var(--fill-color);\n",
              "    animation:\n",
              "      spin 1s steps(1) infinite;\n",
              "  }\n",
              "\n",
              "  @keyframes spin {\n",
              "    0% {\n",
              "      border-color: transparent;\n",
              "      border-bottom-color: var(--fill-color);\n",
              "      border-left-color: var(--fill-color);\n",
              "    }\n",
              "    20% {\n",
              "      border-color: transparent;\n",
              "      border-left-color: var(--fill-color);\n",
              "      border-top-color: var(--fill-color);\n",
              "    }\n",
              "    30% {\n",
              "      border-color: transparent;\n",
              "      border-left-color: var(--fill-color);\n",
              "      border-top-color: var(--fill-color);\n",
              "      border-right-color: var(--fill-color);\n",
              "    }\n",
              "    40% {\n",
              "      border-color: transparent;\n",
              "      border-right-color: var(--fill-color);\n",
              "      border-top-color: var(--fill-color);\n",
              "    }\n",
              "    60% {\n",
              "      border-color: transparent;\n",
              "      border-right-color: var(--fill-color);\n",
              "    }\n",
              "    80% {\n",
              "      border-color: transparent;\n",
              "      border-right-color: var(--fill-color);\n",
              "      border-bottom-color: var(--fill-color);\n",
              "    }\n",
              "    90% {\n",
              "      border-color: transparent;\n",
              "      border-bottom-color: var(--fill-color);\n",
              "    }\n",
              "  }\n",
              "</style>\n",
              "\n",
              "  <script>\n",
              "    async function quickchart(key) {\n",
              "      const quickchartButtonEl =\n",
              "        document.querySelector('#' + key + ' button');\n",
              "      quickchartButtonEl.disabled = true;  // To prevent multiple clicks.\n",
              "      quickchartButtonEl.classList.add('colab-df-spinner');\n",
              "      try {\n",
              "        const charts = await google.colab.kernel.invokeFunction(\n",
              "            'suggestCharts', [key], {});\n",
              "      } catch (error) {\n",
              "        console.error('Error during call to suggestCharts:', error);\n",
              "      }\n",
              "      quickchartButtonEl.classList.remove('colab-df-spinner');\n",
              "      quickchartButtonEl.classList.add('colab-df-quickchart-complete');\n",
              "    }\n",
              "    (() => {\n",
              "      let quickchartButtonEl =\n",
              "        document.querySelector('#df-c1ee8b96-0eca-4272-8c2b-09b38079787b button');\n",
              "      quickchartButtonEl.style.display =\n",
              "        google.colab.kernel.accessAllowed ? 'block' : 'none';\n",
              "    })();\n",
              "  </script>\n",
              "</div>\n",
              "    </div>\n",
              "  </div>\n"
            ]
          },
          "metadata": {},
          "execution_count": 106
        }
      ]
    },
    {
      "cell_type": "code",
      "source": [
        "from sklearn.decomposition import PCA"
      ],
      "metadata": {
        "id": "cOSd58eESUOx"
      },
      "execution_count": 107,
      "outputs": []
    },
    {
      "cell_type": "code",
      "source": [
        "pca = PCA(2)"
      ],
      "metadata": {
        "id": "F1KZvZSSSe_S"
      },
      "execution_count": 108,
      "outputs": []
    },
    {
      "cell_type": "code",
      "source": [
        "pca_vectors = pca.fit_transform(word_vectors.to_numpy()[:,:-1])"
      ],
      "metadata": {
        "id": "byaVqfucSge8"
      },
      "execution_count": 109,
      "outputs": []
    },
    {
      "cell_type": "code",
      "source": [
        "import matplotlib.pyplot as plt\n",
        "plt.figure(figsize=(10, 10))\n",
        "plt.scatter(pca_vectors[:,0], pca_vectors[:,1])\n",
        "for i, word in enumerate(word_vectors['word'].tolist()):\n",
        "  x, y = pca_vectors[i]\n",
        "  plt.annotate(word, (x, y))\n",
        "plt.show()"
      ],
      "metadata": {
        "colab": {
          "base_uri": "https://localhost:8080/",
          "height": 850
        },
        "id": "nRyhokXxSrVj",
        "outputId": "a1fc661f-0702-4ab1-dc43-d5063a22b45d"
      },
      "execution_count": 110,
      "outputs": [
        {
          "output_type": "display_data",
          "data": {
            "text/plain": [
              "<Figure size 1000x1000 with 1 Axes>"
            ],
            "image/png": "[encoded data removed]"
          },
          "metadata": {}
        }
      ]
    },
    {
      "cell_type": "code",
      "source": [],
      "metadata": {
        "id": "igZiNgAqT9sP"
      },
      "execution_count": null,
      "outputs": []
    }
  ]
}