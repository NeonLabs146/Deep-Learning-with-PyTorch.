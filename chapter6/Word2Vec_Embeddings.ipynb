{
  "nbformat": 4,
  "nbformat_minor": 0,
  "metadata": {
    "colab": {
      "provenance": [],
      "gpuType": "T4"
    },
    "kernelspec": {
      "name": "python3",
      "display_name": "Python 3"
    },
    "language_info": {
      "name": "python"
    },
    "accelerator": "GPU"
  },
  "cells": [
    {
      "cell_type": "markdown",
      "source": [
        "# Loading the Corpus"
      ],
      "metadata": {
        "id": "xUDBdXFJtsaz"
      }
    },
    {
      "cell_type": "code",
      "source": [
        "target_url = \"https://cs.stanford.edu/people/karpathy/char-rnn/shakespear.txt\""
      ],
      "metadata": {
        "id": "BQAeB-gWtreA"
      },
      "execution_count": 1,
      "outputs": []
    },
    {
      "cell_type": "code",
      "execution_count": 2,
      "metadata": {
        "id": "37lM77r8tikI"
      },
      "outputs": [],
      "source": [
        "import urllib\n",
        "corpus = []\n",
        "for line in urllib.request.urlopen(target_url).readlines():\n",
        "    corpus.append(line.strip())"
      ]
    },
    {
      "cell_type": "code",
      "source": [
        "# Comment out this cell, to run the model on the shakespear dataset\n",
        "corpus = ['cat chases mouse',\n",
        "        'cat catches mouse',\n",
        "        'cat eats mouse',\n",
        "        'mouse runs into hole',\n",
        "        'cat says bad words',\n",
        "        'cat and mouse are pals',\n",
        "        'cat and mouse are chums',\n",
        "        'mouse stores food in hole',\n",
        "        'cat stores food in house',\n",
        "        'mouse sleeps in hole',\n",
        "        'cat sleeps in house',\n",
        "        'cat and mouse are buddies',\n",
        "        'mouse lives in hole',\n",
        "        'cat lives in house']"
      ],
      "metadata": {
        "id": "EiNMLq2LUXZl"
      },
      "execution_count": 3,
      "outputs": []
    },
    {
      "cell_type": "code",
      "source": [
        "corpus[0]"
      ],
      "metadata": {
        "colab": {
          "base_uri": "https://localhost:8080/",
          "height": 56
        },
        "id": "Aa0MT3dYt29U",
        "outputId": "96fadeb4-a4b3-4057-c292-7fc7758a405e"
      },
      "execution_count": 4,
      "outputs": [
        {
          "output_type": "execute_result",
          "data": {
            "text/plain": [
              "'cat chases mouse'"
            ],
            "application/vnd.google.colaboratory.intrinsic+json": {
              "type": "string"
            }
          },
          "metadata": {},
          "execution_count": 4
        }
      ]
    },
    {
      "cell_type": "markdown",
      "source": [
        "### Preprocessing our Corpus"
      ],
      "metadata": {
        "id": "npb6JwilvByB"
      }
    },
    {
      "cell_type": "code",
      "source": [
        "import re, html\n",
        "\n",
        "def pad(line, context_window=4):\n",
        "  pad_size = context_window // 2\n",
        "  return [\"<pad>\" for i in range(pad_size)] + line + [\"<pad>\" for i in range(pad_size)]\n",
        "\n",
        "def preprocess(line, context_window):\n",
        "  if not isinstance(line, str):\n",
        "    line = line.decode('utf-8')\n",
        "  line = html.unescape(line).lower()\n",
        "  line = re.sub('[^a-z]',' ', line)\n",
        "  return pad(line.split(), context_window)\n"
      ],
      "metadata": {
        "id": "teNeApQauBzR"
      },
      "execution_count": 15,
      "outputs": []
    },
    {
      "cell_type": "code",
      "source": [
        "preprocess(corpus[5], 4)"
      ],
      "metadata": {
        "colab": {
          "base_uri": "https://localhost:8080/"
        },
        "id": "oVHqfdRzuZmK",
        "outputId": "0b20187f-ec1c-4439-f9b1-6fa553d7d055"
      },
      "execution_count": 16,
      "outputs": [
        {
          "output_type": "execute_result",
          "data": {
            "text/plain": [
              "['<pad>', '<pad>', 'cat', 'and', 'mouse', 'are', 'pals', '<pad>', '<pad>']"
            ]
          },
          "metadata": {},
          "execution_count": 16
        }
      ]
    },
    {
      "cell_type": "code",
      "source": [
        "CONTEXT_WINDOW = 6\n",
        "corpus_processed = [preprocess(line, CONTEXT_WINDOW) for line in corpus]"
      ],
      "metadata": {
        "id": "t_cNkF1hwGnN"
      },
      "execution_count": 17,
      "outputs": []
    },
    {
      "cell_type": "markdown",
      "source": [
        "# Preparing Co-Occurrence Matrix"
      ],
      "metadata": {
        "id": "YD-m0faev4kG"
      }
    },
    {
      "cell_type": "code",
      "source": [
        "# First we need our vocabulary\n",
        "vocab = {}\n",
        "size = 0\n",
        "\n",
        "for line in corpus_processed:\n",
        "  for word in line:\n",
        "    if word not in vocab:\n",
        "      vocab[word] = size\n",
        "      size += 1\n",
        "\n",
        "rev_vocab = {i:word for word, i in vocab.items()}"
      ],
      "metadata": {
        "id": "GQ_PVlcpua2M"
      },
      "execution_count": 18,
      "outputs": []
    },
    {
      "cell_type": "code",
      "source": [
        "vocab['mouse'], rev_vocab[3]"
      ],
      "metadata": {
        "colab": {
          "base_uri": "https://localhost:8080/"
        },
        "id": "tw5APor1wdPk",
        "outputId": "c413b6a1-2ef8-4050-be2d-4a0984df2965"
      },
      "execution_count": 21,
      "outputs": [
        {
          "output_type": "execute_result",
          "data": {
            "text/plain": [
              "(3, 'mouse')"
            ]
          },
          "metadata": {},
          "execution_count": 21
        }
      ]
    },
    {
      "cell_type": "code",
      "source": [
        "size"
      ],
      "metadata": {
        "colab": {
          "base_uri": "https://localhost:8080/"
        },
        "id": "VNuWNKvlwd63",
        "outputId": "d498d7e0-22d6-48ad-faa4-68a5acd5409c"
      },
      "execution_count": 22,
      "outputs": [
        {
          "output_type": "execute_result",
          "data": {
            "text/plain": [
              "23"
            ]
          },
          "metadata": {},
          "execution_count": 22
        }
      ]
    },
    {
      "cell_type": "code",
      "source": [
        "from collections import defaultdict\n",
        "from tqdm import tqdm\n",
        "CONTEXT_WINDOW = 6\n",
        "\n",
        "X, y = [], []\n",
        "\n",
        "for line in tqdm(corpus_processed):\n",
        "  for i in range(CONTEXT_WINDOW // 2, len(line) - CONTEXT_WINDOW // 2):\n",
        "    curr_word = line[i]\n",
        "    prev_words = line[i-CONTEXT_WINDOW // 2:i]\n",
        "    next_words = line[i+1: i+1+(CONTEXT_WINDOW // 2)]\n",
        "    X.append([vocab[i] for i in prev_words + next_words])\n",
        "    y.append(vocab[curr_word])"
      ],
      "metadata": {
        "colab": {
          "base_uri": "https://localhost:8080/"
        },
        "id": "6Tqb2hsLwgSq",
        "outputId": "3227bdfc-6f79-41a3-fc21-7ee11eb6ab69"
      },
      "execution_count": 194,
      "outputs": [
        {
          "output_type": "stream",
          "name": "stderr",
          "text": [
            "100%|██████████| 14/14 [00:00<00:00, 20213.51it/s]\n"
          ]
        }
      ]
    },
    {
      "cell_type": "code",
      "source": [
        "X[:5]"
      ],
      "metadata": {
        "colab": {
          "base_uri": "https://localhost:8080/"
        },
        "id": "1GSVYiNsyA7m",
        "outputId": "a19ca46c-5883-441d-908f-43a1d7a33712"
      },
      "execution_count": 195,
      "outputs": [
        {
          "output_type": "execute_result",
          "data": {
            "text/plain": [
              "[[0, 0, 0, 2, 3, 0],\n",
              " [0, 0, 1, 3, 0, 0],\n",
              " [0, 1, 2, 0, 0, 0],\n",
              " [0, 0, 0, 4, 3, 0],\n",
              " [0, 0, 1, 3, 0, 0]]"
            ]
          },
          "metadata": {},
          "execution_count": 195
        }
      ]
    },
    {
      "cell_type": "code",
      "source": [
        "y[:5]"
      ],
      "metadata": {
        "colab": {
          "base_uri": "https://localhost:8080/"
        },
        "id": "K6OYCImQtr-v",
        "outputId": "883e7cc1-9d90-4a55-a285-fe7652c2f3cc"
      },
      "execution_count": 196,
      "outputs": [
        {
          "output_type": "execute_result",
          "data": {
            "text/plain": [
              "[1, 2, 3, 1, 4]"
            ]
          },
          "metadata": {},
          "execution_count": 196
        }
      ]
    },
    {
      "cell_type": "markdown",
      "source": [
        "# Word2Vec Embedding Model"
      ],
      "metadata": {
        "id": "K2NsZMpYyh03"
      }
    },
    {
      "cell_type": "code",
      "source": [
        "# CONSTANTS\n",
        "VOCAB_SIZE = size\n",
        "EMB_SIZE = 8\n",
        "NUM_EPOCHS = 10"
      ],
      "metadata": {
        "id": "8A3814tnu0f0"
      },
      "execution_count": 193,
      "outputs": []
    },
    {
      "cell_type": "code",
      "source": [
        "import numpy as np\n",
        "import torch\n",
        "import torch.nn as nn\n",
        "from torch.utils.data import DataLoader, Dataset\n",
        "import torch.nn.functional as F"
      ],
      "metadata": {
        "id": "IkJmSMzYIKeh"
      },
      "execution_count": 26,
      "outputs": []
    },
    {
      "cell_type": "code",
      "source": [
        "device = torch.device('cuda:0' if torch.cuda.is_available() else 'cpu')\n",
        "device"
      ],
      "metadata": {
        "colab": {
          "base_uri": "https://localhost:8080/"
        },
        "id": "5MSnvEsTINR5",
        "outputId": "b8bf8638-5cae-4011-ff87-10d804ddfbe4"
      },
      "execution_count": 127,
      "outputs": [
        {
          "output_type": "execute_result",
          "data": {
            "text/plain": [
              "device(type='cuda', index=0)"
            ]
          },
          "metadata": {},
          "execution_count": 127
        }
      ]
    },
    {
      "cell_type": "code",
      "source": [
        "class Word2Vec(nn.Module):\n",
        "\n",
        "    def __init__(self, vocab_size, embedding_size):\n",
        "        super().__init__()\n",
        "        self.word_emb = nn.Embedding(\n",
        "            num_embeddings=vocab_size,\n",
        "            embedding_dim=embedding_size,\n",
        "        )\n",
        "        self.fc = nn.Linear(embedding_size, vocab_size)\n",
        "\n",
        "    def forward(self, x):\n",
        "        embds = self.word_emb(x)\n",
        "        emb = torch.mean(embds, dim=1)\n",
        "        out = self.fc(emb)\n",
        "        return out\n",
        "\n",
        "word2vec = Word2Vec(vocab_size=VOCAB_SIZE, embedding_size=EMB_SIZE)\n",
        "word2vec = word2vec.to(device)"
      ],
      "metadata": {
        "id": "5nDytIGHyhFo"
      },
      "execution_count": 132,
      "outputs": []
    },
    {
      "cell_type": "code",
      "source": [
        "optimizer = torch.optim.Adam(word2vec.parameters(), lr=0.001)"
      ],
      "metadata": {
        "id": "3P3ifruc3rQ3"
      },
      "execution_count": 133,
      "outputs": []
    },
    {
      "cell_type": "code",
      "source": [
        "class CustomDataset(torch.utils.data.Dataset):\n",
        "  def __init__(self, X, y):\n",
        "    self.X = X\n",
        "    self.y = y\n",
        "\n",
        "  def __getitem__(self, idx):\n",
        "    return torch.LongTensor(self.X[idx]), torch.LongTensor([self.y[idx]])\n",
        "\n",
        "  def __len__(self):\n",
        "    return len(self.X)\n",
        "\n",
        "dataset = CustomDataset(X, y)\n",
        "train_dataset = DataLoader(dataset, batch_size=8, shuffle=True)"
      ],
      "metadata": {
        "id": "Z4cJA7g66F-s"
      },
      "execution_count": 134,
      "outputs": []
    },
    {
      "cell_type": "code",
      "source": [
        "word2vec.train()\n",
        "\n",
        "loss_func = nn.CrossEntropyLoss()\n",
        "\n",
        "losses = []\n",
        "for epoch in tqdm(range(NUM_EPOCHS)):\n",
        "  epoch_loss = 0\n",
        "  for X, y in train_dataset:\n",
        "    X, y = X.to(device), y.to(device)\n",
        "    output = word2vec(X)\n",
        "    loss = loss_func(output, y.squeeze(dim=1))\n",
        "    loss.backward()\n",
        "    optimizer.step()\n",
        "    optimizer.zero_grad()\n",
        "    epoch_loss += loss.cpu().detach().item()\n",
        "\n",
        "  losses.append(epoch_loss)\n",
        "print(f\"Epoch {epoch}: loss = {epoch_loss}\")"
      ],
      "metadata": {
        "colab": {
          "base_uri": "https://localhost:8080/"
        },
        "id": "ryVYpfll36zj",
        "outputId": "f117b816-ca14-4377-aa29-b8c5029b87f1"
      },
      "execution_count": 183,
      "outputs": [
        {
          "output_type": "stream",
          "name": "stderr",
          "text": [
            "100%|██████████| 10/10 [00:00<00:00, 365.10it/s]"
          ]
        },
        {
          "output_type": "stream",
          "name": "stdout",
          "text": [
            "Epoch 9: loss = 0.8825094699859619\n"
          ]
        },
        {
          "output_type": "stream",
          "name": "stderr",
          "text": [
            "\n"
          ]
        }
      ]
    },
    {
      "cell_type": "code",
      "source": [
        "word_vectors = word2vec.word_emb(torch.LongTensor([i for i in range(VOCAB_SIZE)]).to(device)).cpu().detach().numpy()"
      ],
      "metadata": {
        "id": "-0zPGZyIOQ7o"
      },
      "execution_count": 184,
      "outputs": []
    },
    {
      "cell_type": "code",
      "source": [
        "import pandas as pd\n",
        "\n",
        "word_vectors = pd.DataFrame(word_vectors, columns=[f\"f_{i}\" for i in range(EMB_SIZE)])\n",
        "word_vectors['word'] = [rev_vocab[i] for i in range(0, VOCAB_SIZE)]"
      ],
      "metadata": {
        "id": "GSBIPsRTR2R8"
      },
      "execution_count": 185,
      "outputs": []
    },
    {
      "cell_type": "code",
      "source": [
        "word_vectors"
      ],
      "metadata": {
        "colab": {
          "base_uri": "https://localhost:8080/",
          "height": 796
        },
        "id": "gp89nwOUSOVh",
        "outputId": "3e832b45-5537-4435-88ba-f42b384f7317"
      },
      "execution_count": 186,
      "outputs": [
        {
          "output_type": "execute_result",
          "data": {
            "text/plain": [
              "         f_0       f_1       f_2       f_3       f_4       f_5       f_6  \\\n",
              "0  -0.489633  0.406519  0.973590  1.087647  0.401478  0.330491  1.378797   \n",
              "1  -1.201029 -1.298149 -0.792792  0.062616  0.971210  1.480038  1.491796   \n",
              "2   1.357854 -0.400090 -0.783177 -0.014117 -0.063640 -0.440701  0.594534   \n",
              "3  -1.109289  1.443790 -0.395510  1.117268  0.874301 -0.416925  0.216099   \n",
              "4  -0.814041 -0.740508 -0.557886 -0.121789  0.407806  1.536330 -0.540389   \n",
              "5   0.645319 -0.985328 -1.368781 -1.045618 -1.123213  1.513372  1.493428   \n",
              "6   1.504855  0.970010  0.825609  0.807688  1.394470  0.022421  0.620897   \n",
              "7  -0.784023 -0.936589  0.669979 -1.714014 -0.702423  0.385769 -0.861989   \n",
              "8   1.451242  0.259610  2.279968  0.562602 -0.505142 -0.263371  0.033112   \n",
              "9   0.310863  1.163934 -0.645338 -2.222779 -1.243135  0.535854 -0.849417   \n",
              "10 -2.498095  1.749388 -0.503491 -0.931197  0.323604  3.922081  1.449704   \n",
              "11 -1.614892 -0.362677  1.839710 -1.208769  0.514095  0.859577 -2.171072   \n",
              "12 -0.353233 -1.426947  0.701218  0.171326 -0.818914 -0.008095  0.227693   \n",
              "13  0.988960  0.216514 -1.800140 -2.050398 -0.774679  2.504265  1.111787   \n",
              "14  0.497818 -0.393072 -0.189076  0.492888  1.289671 -0.523243  1.869806   \n",
              "15 -0.008740  1.317991  0.207428  0.552853  0.177547 -0.214596  0.250036   \n",
              "16 -0.472995 -0.711076 -1.621371 -0.586416 -0.075839  0.106571 -1.083777   \n",
              "17 -0.596731  0.119088  0.918848 -1.781059  0.056091 -0.284818 -0.575181   \n",
              "18  0.421468  0.117668  0.065130  0.427377 -0.233020 -0.205882 -1.140270   \n",
              "19  1.808466 -0.977292  0.006723  0.190108  1.635479  1.083771 -0.162029   \n",
              "20  0.177422  1.224702  1.629661  0.623357 -0.247202  0.351461  1.155005   \n",
              "21  1.233367  2.359043 -1.137169 -0.905296  1.428226  1.847973 -2.548220   \n",
              "22 -1.039406  0.771416 -1.821194  3.012578 -0.123194  1.762513  0.327083   \n",
              "\n",
              "         f_7     word  \n",
              "0  -1.221601    <pad>  \n",
              "1  -2.049692      cat  \n",
              "2   0.468576   chases  \n",
              "3  -0.303633    mouse  \n",
              "4   0.001889  catches  \n",
              "5   1.062788     eats  \n",
              "6  -0.207227     runs  \n",
              "7  -0.732139     into  \n",
              "8   0.298683     hole  \n",
              "9  -0.466501     says  \n",
              "10 -0.712526      bad  \n",
              "11 -0.296384    words  \n",
              "12  0.147899      and  \n",
              "13  0.739377      are  \n",
              "14 -0.579705     pals  \n",
              "15 -0.164832    chums  \n",
              "16  0.311567   stores  \n",
              "17  0.881864     food  \n",
              "18 -0.025046       in  \n",
              "19  0.202142    house  \n",
              "20 -0.445802   sleeps  \n",
              "21  0.368191  buddies  \n",
              "22  0.917965    lives  "
            ],
            "text/html": [
              "\n",
              "  <div id=\"df-4f86fb76-e9dd-483f-9735-28e4f39136e4\" class=\"colab-df-container\">\n",
              "    <div>\n",
              "<style scoped>\n",
              "    .dataframe tbody tr th:only-of-type {\n",
              "        vertical-align: middle;\n",
              "    }\n",
              "\n",
              "    .dataframe tbody tr th {\n",
              "        vertical-align: top;\n",
              "    }\n",
              "\n",
              "    .dataframe thead th {\n",
              "        text-align: right;\n",
              "    }\n",
              "</style>\n",
              "<table border=\"1\" class=\"dataframe\">\n",
              "  <thead>\n",
              "    <tr style=\"text-align: right;\">\n",
              "      <th></th>\n",
              "      <th>f_0</th>\n",
              "      <th>f_1</th>\n",
              "      <th>f_2</th>\n",
              "      <th>f_3</th>\n",
              "      <th>f_4</th>\n",
              "      <th>f_5</th>\n",
              "      <th>f_6</th>\n",
              "      <th>f_7</th>\n",
              "      <th>word</th>\n",
              "    </tr>\n",
              "  </thead>\n",
              "  <tbody>\n",
              "    <tr>\n",
              "      <th>0</th>\n",
              "      <td>-0.489633</td>\n",
              "      <td>0.406519</td>\n",
              "      <td>0.973590</td>\n",
              "      <td>1.087647</td>\n",
              "      <td>0.401478</td>\n",
              "      <td>0.330491</td>\n",
              "      <td>1.378797</td>\n",
              "      <td>-1.221601</td>\n",
              "      <td>&lt;pad&gt;</td>\n",
              "    </tr>\n",
              "    <tr>\n",
              "      <th>1</th>\n",
              "      <td>-1.201029</td>\n",
              "      <td>-1.298149</td>\n",
              "      <td>-0.792792</td>\n",
              "      <td>0.062616</td>\n",
              "      <td>0.971210</td>\n",
              "      <td>1.480038</td>\n",
              "      <td>1.491796</td>\n",
              "      <td>-2.049692</td>\n",
              "      <td>cat</td>\n",
              "    </tr>\n",
              "    <tr>\n",
              "      <th>2</th>\n",
              "      <td>1.357854</td>\n",
              "      <td>-0.400090</td>\n",
              "      <td>-0.783177</td>\n",
              "      <td>-0.014117</td>\n",
              "      <td>-0.063640</td>\n",
              "      <td>-0.440701</td>\n",
              "      <td>0.594534</td>\n",
              "      <td>0.468576</td>\n",
              "      <td>chases</td>\n",
              "    </tr>\n",
              "    <tr>\n",
              "      <th>3</th>\n",
              "      <td>-1.109289</td>\n",
              "      <td>1.443790</td>\n",
              "      <td>-0.395510</td>\n",
              "      <td>1.117268</td>\n",
              "      <td>0.874301</td>\n",
              "      <td>-0.416925</td>\n",
              "      <td>0.216099</td>\n",
              "      <td>-0.303633</td>\n",
              "      <td>mouse</td>\n",
              "    </tr>\n",
              "    <tr>\n",
              "      <th>4</th>\n",
              "      <td>-0.814041</td>\n",
              "      <td>-0.740508</td>\n",
              "      <td>-0.557886</td>\n",
              "      <td>-0.121789</td>\n",
              "      <td>0.407806</td>\n",
              "      <td>1.536330</td>\n",
              "      <td>-0.540389</td>\n",
              "      <td>0.001889</td>\n",
              "      <td>catches</td>\n",
              "    </tr>\n",
              "    <tr>\n",
              "      <th>5</th>\n",
              "      <td>0.645319</td>\n",
              "      <td>-0.985328</td>\n",
              "      <td>-1.368781</td>\n",
              "      <td>-1.045618</td>\n",
              "      <td>-1.123213</td>\n",
              "      <td>1.513372</td>\n",
              "      <td>1.493428</td>\n",
              "      <td>1.062788</td>\n",
              "      <td>eats</td>\n",
              "    </tr>\n",
              "    <tr>\n",
              "      <th>6</th>\n",
              "      <td>1.504855</td>\n",
              "      <td>0.970010</td>\n",
              "      <td>0.825609</td>\n",
              "      <td>0.807688</td>\n",
              "      <td>1.394470</td>\n",
              "      <td>0.022421</td>\n",
              "      <td>0.620897</td>\n",
              "      <td>-0.207227</td>\n",
              "      <td>runs</td>\n",
              "    </tr>\n",
              "    <tr>\n",
              "      <th>7</th>\n",
              "      <td>-0.784023</td>\n",
              "      <td>-0.936589</td>\n",
              "      <td>0.669979</td>\n",
              "      <td>-1.714014</td>\n",
              "      <td>-0.702423</td>\n",
              "      <td>0.385769</td>\n",
              "      <td>-0.861989</td>\n",
              "      <td>-0.732139</td>\n",
              "      <td>into</td>\n",
              "    </tr>\n",
              "    <tr>\n",
              "      <th>8</th>\n",
              "      <td>1.451242</td>\n",
              "      <td>0.259610</td>\n",
              "      <td>2.279968</td>\n",
              "      <td>0.562602</td>\n",
              "      <td>-0.505142</td>\n",
              "      <td>-0.263371</td>\n",
              "      <td>0.033112</td>\n",
              "      <td>0.298683</td>\n",
              "      <td>hole</td>\n",
              "    </tr>\n",
              "    <tr>\n",
              "      <th>9</th>\n",
              "      <td>0.310863</td>\n",
              "      <td>1.163934</td>\n",
              "      <td>-0.645338</td>\n",
              "      <td>-2.222779</td>\n",
              "      <td>-1.243135</td>\n",
              "      <td>0.535854</td>\n",
              "      <td>-0.849417</td>\n",
              "      <td>-0.466501</td>\n",
              "      <td>says</td>\n",
              "    </tr>\n",
              "    <tr>\n",
              "      <th>10</th>\n",
              "      <td>-2.498095</td>\n",
              "      <td>1.749388</td>\n",
              "      <td>-0.503491</td>\n",
              "      <td>-0.931197</td>\n",
              "      <td>0.323604</td>\n",
              "      <td>3.922081</td>\n",
              "      <td>1.449704</td>\n",
              "      <td>-0.712526</td>\n",
              "      <td>bad</td>\n",
              "    </tr>\n",
              "    <tr>\n",
              "      <th>11</th>\n",
              "      <td>-1.614892</td>\n",
              "      <td>-0.362677</td>\n",
              "      <td>1.839710</td>\n",
              "      <td>-1.208769</td>\n",
              "      <td>0.514095</td>\n",
              "      <td>0.859577</td>\n",
              "      <td>-2.171072</td>\n",
              "      <td>-0.296384</td>\n",
              "      <td>words</td>\n",
              "    </tr>\n",
              "    <tr>\n",
              "      <th>12</th>\n",
              "      <td>-0.353233</td>\n",
              "      <td>-1.426947</td>\n",
              "      <td>0.701218</td>\n",
              "      <td>0.171326</td>\n",
              "      <td>-0.818914</td>\n",
              "      <td>-0.008095</td>\n",
              "      <td>0.227693</td>\n",
              "      <td>0.147899</td>\n",
              "      <td>and</td>\n",
              "    </tr>\n",
              "    <tr>\n",
              "      <th>13</th>\n",
              "      <td>0.988960</td>\n",
              "      <td>0.216514</td>\n",
              "      <td>-1.800140</td>\n",
              "      <td>-2.050398</td>\n",
              "      <td>-0.774679</td>\n",
              "      <td>2.504265</td>\n",
              "      <td>1.111787</td>\n",
              "      <td>0.739377</td>\n",
              "      <td>are</td>\n",
              "    </tr>\n",
              "    <tr>\n",
              "      <th>14</th>\n",
              "      <td>0.497818</td>\n",
              "      <td>-0.393072</td>\n",
              "      <td>-0.189076</td>\n",
              "      <td>0.492888</td>\n",
              "      <td>1.289671</td>\n",
              "      <td>-0.523243</td>\n",
              "      <td>1.869806</td>\n",
              "      <td>-0.579705</td>\n",
              "      <td>pals</td>\n",
              "    </tr>\n",
              "    <tr>\n",
              "      <th>15</th>\n",
              "      <td>-0.008740</td>\n",
              "      <td>1.317991</td>\n",
              "      <td>0.207428</td>\n",
              "      <td>0.552853</td>\n",
              "      <td>0.177547</td>\n",
              "      <td>-0.214596</td>\n",
              "      <td>0.250036</td>\n",
              "      <td>-0.164832</td>\n",
              "      <td>chums</td>\n",
              "    </tr>\n",
              "    <tr>\n",
              "      <th>16</th>\n",
              "      <td>-0.472995</td>\n",
              "      <td>-0.711076</td>\n",
              "      <td>-1.621371</td>\n",
              "      <td>-0.586416</td>\n",
              "      <td>-0.075839</td>\n",
              "      <td>0.106571</td>\n",
              "      <td>-1.083777</td>\n",
              "      <td>0.311567</td>\n",
              "      <td>stores</td>\n",
              "    </tr>\n",
              "    <tr>\n",
              "      <th>17</th>\n",
              "      <td>-0.596731</td>\n",
              "      <td>0.119088</td>\n",
              "      <td>0.918848</td>\n",
              "      <td>-1.781059</td>\n",
              "      <td>0.056091</td>\n",
              "      <td>-0.284818</td>\n",
              "      <td>-0.575181</td>\n",
              "      <td>0.881864</td>\n",
              "      <td>food</td>\n",
              "    </tr>\n",
              "    <tr>\n",
              "      <th>18</th>\n",
              "      <td>0.421468</td>\n",
              "      <td>0.117668</td>\n",
              "      <td>0.065130</td>\n",
              "      <td>0.427377</td>\n",
              "      <td>-0.233020</td>\n",
              "      <td>-0.205882</td>\n",
              "      <td>-1.140270</td>\n",
              "      <td>-0.025046</td>\n",
              "      <td>in</td>\n",
              "    </tr>\n",
              "    <tr>\n",
              "      <th>19</th>\n",
              "      <td>1.808466</td>\n",
              "      <td>-0.977292</td>\n",
              "      <td>0.006723</td>\n",
              "      <td>0.190108</td>\n",
              "      <td>1.635479</td>\n",
              "      <td>1.083771</td>\n",
              "      <td>-0.162029</td>\n",
              "      <td>0.202142</td>\n",
              "      <td>house</td>\n",
              "    </tr>\n",
              "    <tr>\n",
              "      <th>20</th>\n",
              "      <td>0.177422</td>\n",
              "      <td>1.224702</td>\n",
              "      <td>1.629661</td>\n",
              "      <td>0.623357</td>\n",
              "      <td>-0.247202</td>\n",
              "      <td>0.351461</td>\n",
              "      <td>1.155005</td>\n",
              "      <td>-0.445802</td>\n",
              "      <td>sleeps</td>\n",
              "    </tr>\n",
              "    <tr>\n",
              "      <th>21</th>\n",
              "      <td>1.233367</td>\n",
              "      <td>2.359043</td>\n",
              "      <td>-1.137169</td>\n",
              "      <td>-0.905296</td>\n",
              "      <td>1.428226</td>\n",
              "      <td>1.847973</td>\n",
              "      <td>-2.548220</td>\n",
              "      <td>0.368191</td>\n",
              "      <td>buddies</td>\n",
              "    </tr>\n",
              "    <tr>\n",
              "      <th>22</th>\n",
              "      <td>-1.039406</td>\n",
              "      <td>0.771416</td>\n",
              "      <td>-1.821194</td>\n",
              "      <td>3.012578</td>\n",
              "      <td>-0.123194</td>\n",
              "      <td>1.762513</td>\n",
              "      <td>0.327083</td>\n",
              "      <td>0.917965</td>\n",
              "      <td>lives</td>\n",
              "    </tr>\n",
              "  </tbody>\n",
              "</table>\n",
              "</div>\n",
              "    <div class=\"colab-df-buttons\">\n",
              "\n",
              "  <div class=\"colab-df-container\">\n",
              "    <button class=\"colab-df-convert\" onclick=\"convertToInteractive('df-4f86fb76-e9dd-483f-9735-28e4f39136e4')\"\n",
              "            title=\"Convert this dataframe to an interactive table.\"\n",
              "            style=\"display:none;\">\n",
              "\n",
              "  <svg xmlns=\"http://www.w3.org/2000/svg\" height=\"24px\" viewBox=\"0 -960 960 960\">\n",
              "    <path d=\"M120-120v-720h720v720H120Zm60-500h600v-160H180v160Zm220 220h160v-160H400v160Zm0 220h160v-160H400v160ZM180-400h160v-160H180v160Zm440 0h160v-160H620v160ZM180-180h160v-160H180v160Zm440 0h160v-160H620v160Z\"/>\n",
              "  </svg>\n",
              "    </button>\n",
              "\n",
              "  <style>\n",
              "    .colab-df-container {\n",
              "      display:flex;\n",
              "      gap: 12px;\n",
              "    }\n",
              "\n",
              "    .colab-df-convert {\n",
              "      background-color: #E8F0FE;\n",
              "      border: none;\n",
              "      border-radius: 50%;\n",
              "      cursor: pointer;\n",
              "      display: none;\n",
              "      fill: #1967D2;\n",
              "      height: 32px;\n",
              "      padding: 0 0 0 0;\n",
              "      width: 32px;\n",
              "    }\n",
              "\n",
              "    .colab-df-convert:hover {\n",
              "      background-color: #E2EBFA;\n",
              "      box-shadow: 0px 1px 2px rgba(60, 64, 67, 0.3), 0px 1px 3px 1px rgba(60, 64, 67, 0.15);\n",
              "      fill: #174EA6;\n",
              "    }\n",
              "\n",
              "    .colab-df-buttons div {\n",
              "      margin-bottom: 4px;\n",
              "    }\n",
              "\n",
              "    [theme=dark] .colab-df-convert {\n",
              "      background-color: #3B4455;\n",
              "      fill: #D2E3FC;\n",
              "    }\n",
              "\n",
              "    [theme=dark] .colab-df-convert:hover {\n",
              "      background-color: #434B5C;\n",
              "      box-shadow: 0px 1px 3px 1px rgba(0, 0, 0, 0.15);\n",
              "      filter: drop-shadow(0px 1px 2px rgba(0, 0, 0, 0.3));\n",
              "      fill: #FFFFFF;\n",
              "    }\n",
              "  </style>\n",
              "\n",
              "    <script>\n",
              "      const buttonEl =\n",
              "        document.querySelector('#df-4f86fb76-e9dd-483f-9735-28e4f39136e4 button.colab-df-convert');\n",
              "      buttonEl.style.display =\n",
              "        google.colab.kernel.accessAllowed ? 'block' : 'none';\n",
              "\n",
              "      async function convertToInteractive(key) {\n",
              "        const element = document.querySelector('#df-4f86fb76-e9dd-483f-9735-28e4f39136e4');\n",
              "        const dataTable =\n",
              "          await google.colab.kernel.invokeFunction('convertToInteractive',\n",
              "                                                    [key], {});\n",
              "        if (!dataTable) return;\n",
              "\n",
              "        const docLinkHtml = 'Like what you see? Visit the ' +\n",
              "          '<a target=\"_blank\" href=https://colab.research.google.com/notebooks/data_table.ipynb>data table notebook</a>'\n",
              "          + ' to learn more about interactive tables.';\n",
              "        element.innerHTML = '';\n",
              "        dataTable['output_type'] = 'display_data';\n",
              "        await google.colab.output.renderOutput(dataTable, element);\n",
              "        const docLink = document.createElement('div');\n",
              "        docLink.innerHTML = docLinkHtml;\n",
              "        element.appendChild(docLink);\n",
              "      }\n",
              "    </script>\n",
              "  </div>\n",
              "\n",
              "\n",
              "<div id=\"df-4a987b91-254e-4454-bdfc-cd7c804d9e88\">\n",
              "  <button class=\"colab-df-quickchart\" onclick=\"quickchart('df-4a987b91-254e-4454-bdfc-cd7c804d9e88')\"\n",
              "            title=\"Suggest charts\"\n",
              "            style=\"display:none;\">\n",
              "\n",
              "<svg xmlns=\"http://www.w3.org/2000/svg\" height=\"24px\"viewBox=\"0 0 24 24\"\n",
              "     width=\"24px\">\n",
              "    <g>\n",
              "        <path d=\"M19 3H5c-1.1 0-2 .9-2 2v14c0 1.1.9 2 2 2h14c1.1 0 2-.9 2-2V5c0-1.1-.9-2-2-2zM9 17H7v-7h2v7zm4 0h-2V7h2v10zm4 0h-2v-4h2v4z\"/>\n",
              "    </g>\n",
              "</svg>\n",
              "  </button>\n",
              "\n",
              "<style>\n",
              "  .colab-df-quickchart {\n",
              "      --bg-color: #E8F0FE;\n",
              "      --fill-color: #1967D2;\n",
              "      --hover-bg-color: #E2EBFA;\n",
              "      --hover-fill-color: #174EA6;\n",
              "      --disabled-fill-color: #AAA;\n",
              "      --disabled-bg-color: #DDD;\n",
              "  }\n",
              "\n",
              "  [theme=dark] .colab-df-quickchart {\n",
              "      --bg-color: #3B4455;\n",
              "      --fill-color: #D2E3FC;\n",
              "      --hover-bg-color: #434B5C;\n",
              "      --hover-fill-color: #FFFFFF;\n",
              "      --disabled-bg-color: #3B4455;\n",
              "      --disabled-fill-color: #666;\n",
              "  }\n",
              "\n",
              "  .colab-df-quickchart {\n",
              "    background-color: var(--bg-color);\n",
              "    border: none;\n",
              "    border-radius: 50%;\n",
              "    cursor: pointer;\n",
              "    display: none;\n",
              "    fill: var(--fill-color);\n",
              "    height: 32px;\n",
              "    padding: 0;\n",
              "    width: 32px;\n",
              "  }\n",
              "\n",
              "  .colab-df-quickchart:hover {\n",
              "    background-color: var(--hover-bg-color);\n",
              "    box-shadow: 0 1px 2px rgba(60, 64, 67, 0.3), 0 1px 3px 1px rgba(60, 64, 67, 0.15);\n",
              "    fill: var(--button-hover-fill-color);\n",
              "  }\n",
              "\n",
              "  .colab-df-quickchart-complete:disabled,\n",
              "  .colab-df-quickchart-complete:disabled:hover {\n",
              "    background-color: var(--disabled-bg-color);\n",
              "    fill: var(--disabled-fill-color);\n",
              "    box-shadow: none;\n",
              "  }\n",
              "\n",
              "  .colab-df-spinner {\n",
              "    border: 2px solid var(--fill-color);\n",
              "    border-color: transparent;\n",
              "    border-bottom-color: var(--fill-color);\n",
              "    animation:\n",
              "      spin 1s steps(1) infinite;\n",
              "  }\n",
              "\n",
              "  @keyframes spin {\n",
              "    0% {\n",
              "      border-color: transparent;\n",
              "      border-bottom-color: var(--fill-color);\n",
              "      border-left-color: var(--fill-color);\n",
              "    }\n",
              "    20% {\n",
              "      border-color: transparent;\n",
              "      border-left-color: var(--fill-color);\n",
              "      border-top-color: var(--fill-color);\n",
              "    }\n",
              "    30% {\n",
              "      border-color: transparent;\n",
              "      border-left-color: var(--fill-color);\n",
              "      border-top-color: var(--fill-color);\n",
              "      border-right-color: var(--fill-color);\n",
              "    }\n",
              "    40% {\n",
              "      border-color: transparent;\n",
              "      border-right-color: var(--fill-color);\n",
              "      border-top-color: var(--fill-color);\n",
              "    }\n",
              "    60% {\n",
              "      border-color: transparent;\n",
              "      border-right-color: var(--fill-color);\n",
              "    }\n",
              "    80% {\n",
              "      border-color: transparent;\n",
              "      border-right-color: var(--fill-color);\n",
              "      border-bottom-color: var(--fill-color);\n",
              "    }\n",
              "    90% {\n",
              "      border-color: transparent;\n",
              "      border-bottom-color: var(--fill-color);\n",
              "    }\n",
              "  }\n",
              "</style>\n",
              "\n",
              "  <script>\n",
              "    async function quickchart(key) {\n",
              "      const quickchartButtonEl =\n",
              "        document.querySelector('#' + key + ' button');\n",
              "      quickchartButtonEl.disabled = true;  // To prevent multiple clicks.\n",
              "      quickchartButtonEl.classList.add('colab-df-spinner');\n",
              "      try {\n",
              "        const charts = await google.colab.kernel.invokeFunction(\n",
              "            'suggestCharts', [key], {});\n",
              "      } catch (error) {\n",
              "        console.error('Error during call to suggestCharts:', error);\n",
              "      }\n",
              "      quickchartButtonEl.classList.remove('colab-df-spinner');\n",
              "      quickchartButtonEl.classList.add('colab-df-quickchart-complete');\n",
              "    }\n",
              "    (() => {\n",
              "      let quickchartButtonEl =\n",
              "        document.querySelector('#df-4a987b91-254e-4454-bdfc-cd7c804d9e88 button');\n",
              "      quickchartButtonEl.style.display =\n",
              "        google.colab.kernel.accessAllowed ? 'block' : 'none';\n",
              "    })();\n",
              "  </script>\n",
              "</div>\n",
              "    </div>\n",
              "  </div>\n"
            ]
          },
          "metadata": {},
          "execution_count": 186
        }
      ]
    },
    {
      "cell_type": "code",
      "source": [
        "from sklearn.decomposition import PCA"
      ],
      "metadata": {
        "id": "cOSd58eESUOx"
      },
      "execution_count": 187,
      "outputs": []
    },
    {
      "cell_type": "code",
      "source": [
        "pca = PCA(2)\n",
        "\n",
        "pca_vectors = pca.fit_transform(word_vectors.to_numpy()[:,:-1])"
      ],
      "metadata": {
        "id": "F1KZvZSSSe_S"
      },
      "execution_count": 188,
      "outputs": []
    },
    {
      "cell_type": "code",
      "source": [
        "import matplotlib.pyplot as plt\n",
        "plt.figure(figsize=(10, 10))\n",
        "plt.scatter(pca_vectors[:,0], pca_vectors[:,1])\n",
        "for i, word in enumerate(word_vectors['word'].tolist()):\n",
        "  x, y = pca_vectors[i]\n",
        "  plt.annotate(word, (x, y))\n",
        "plt.title(\"Visualizing Word Embeddings after reducing dimensions with PCA\")\n",
        "plt.xlabel(\"PCA-1\")\n",
        "plt.ylabel(\"PCA-2\")\n",
        "plt.show()"
      ],
      "metadata": {
        "colab": {
          "base_uri": "https://localhost:8080/",
          "height": 892
        },
        "id": "nRyhokXxSrVj",
        "outputId": "57a65c91-314d-4866-e713-4ecf1a446101"
      },
      "execution_count": 189,
      "outputs": [
        {
          "output_type": "display_data",
          "data": {
            "text/plain": [
              "<Figure size 1000x1000 with 1 Axes>"
            ],
            "image/png": "[encoded data removed]"
          },
          "metadata": {}
        }
      ]
    },
    {
      "cell_type": "code",
      "source": [],
      "metadata": {
        "id": "33JsaABsxf96"
      },
      "execution_count": null,
      "outputs": []
    },
    {
      "cell_type": "code",
      "source": [],
      "metadata": {
        "id": "OZaTfJVSxmm_"
      },
      "execution_count": null,
      "outputs": []
    }
  ]
}