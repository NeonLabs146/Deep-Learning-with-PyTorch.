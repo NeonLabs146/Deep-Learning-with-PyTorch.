{
  "nbformat": 4,
  "nbformat_minor": 0,
  "metadata": {
    "colab": {
      "provenance": [],
      "gpuType": "T4"
    },
    "kernelspec": {
      "name": "python3",
      "display_name": "Python 3"
    },
    "language_info": {
      "name": "python"
    },
    "accelerator": "GPU"
  },
  "cells": [
    {
      "cell_type": "markdown",
      "source": [
        "# Loading the Corpus"
      ],
      "metadata": {
        "id": "xUDBdXFJtsaz"
      }
    },
    {
      "cell_type": "code",
      "source": [
        "target_url = \"https://cs.stanford.edu/people/karpathy/char-rnn/shakespear.txt\""
      ],
      "metadata": {
        "id": "BQAeB-gWtreA"
      },
      "execution_count": 1,
      "outputs": []
    },
    {
      "cell_type": "code",
      "execution_count": 2,
      "metadata": {
        "id": "37lM77r8tikI"
      },
      "outputs": [],
      "source": [
        "import urllib\n",
        "corpus = []\n",
        "for line in urllib.request.urlopen(target_url).readlines():\n",
        "    corpus.append(line.strip())"
      ]
    },
    {
      "cell_type": "code",
      "source": [
        "# Comment out this cell, to run the model on the shakespear dataset\n",
        "corpus = ['cat chases mouse',\n",
        "        'cat catches mouse',\n",
        "        'cat eats mouse',\n",
        "        'mouse runs into hole',\n",
        "        'cat says bad words',\n",
        "        'cat and mouse are pals',\n",
        "        'cat and mouse are chums',\n",
        "        'mouse stores food in hole',\n",
        "        'cat stores food in house',\n",
        "        'mouse sleeps in hole',\n",
        "        'cat sleeps in house',\n",
        "        'cat and mouse are buddies',\n",
        "        'mouse lives in hole',\n",
        "        'cat lives in house']"
      ],
      "metadata": {
        "id": "EiNMLq2LUXZl"
      },
      "execution_count": 11,
      "outputs": []
    },
    {
      "cell_type": "code",
      "source": [
        "corpus[0]"
      ],
      "metadata": {
        "colab": {
          "base_uri": "https://localhost:8080/",
          "height": 56
        },
        "id": "Aa0MT3dYt29U",
        "outputId": "2ce71dab-dd4d-429b-f58f-70a1c99b2263"
      },
      "execution_count": 12,
      "outputs": [
        {
          "output_type": "execute_result",
          "data": {
            "text/plain": [
              "'cat chases mouse'"
            ],
            "application/vnd.google.colaboratory.intrinsic+json": {
              "type": "string"
            }
          },
          "metadata": {},
          "execution_count": 12
        }
      ]
    },
    {
      "cell_type": "markdown",
      "source": [
        "### Preprocessing our Corpus"
      ],
      "metadata": {
        "id": "npb6JwilvByB"
      }
    },
    {
      "cell_type": "code",
      "source": [
        "import re, html\n",
        "\n",
        "def pad(line, context_window=4):\n",
        "  pad_size = context_window // 2\n",
        "  return [\"<pad>\" for i in range(pad_size)] + line + [\"<pad>\" for i in range(pad_size)]\n",
        "\n",
        "def preprocess(line, context_window):\n",
        "  if not isinstance(line, str):\n",
        "    line = line.decode('utf-8')\n",
        "  line = html.unescape(line).lower()\n",
        "  line = re.sub('[^a-z]',' ', line)\n",
        "  return pad(line.split(), context_window)\n"
      ],
      "metadata": {
        "id": "teNeApQauBzR"
      },
      "execution_count": 13,
      "outputs": []
    },
    {
      "cell_type": "code",
      "source": [
        "preprocess(corpus[5], 4)"
      ],
      "metadata": {
        "colab": {
          "base_uri": "https://localhost:8080/"
        },
        "id": "oVHqfdRzuZmK",
        "outputId": "21edc7c5-0e65-4496-cbf8-791d70ca1307"
      },
      "execution_count": 14,
      "outputs": [
        {
          "output_type": "execute_result",
          "data": {
            "text/plain": [
              "['<pad>', '<pad>', 'cat', 'and', 'mouse', 'are', 'pals', '<pad>', '<pad>']"
            ]
          },
          "metadata": {},
          "execution_count": 14
        }
      ]
    },
    {
      "cell_type": "code",
      "source": [
        "CONTEXT_WINDOW = 6\n",
        "corpus_processed = [preprocess(line, CONTEXT_WINDOW) for line in corpus]"
      ],
      "metadata": {
        "id": "t_cNkF1hwGnN"
      },
      "execution_count": 15,
      "outputs": []
    },
    {
      "cell_type": "markdown",
      "source": [
        "# Preparing Co-Occurrence Matrix"
      ],
      "metadata": {
        "id": "YD-m0faev4kG"
      }
    },
    {
      "cell_type": "code",
      "source": [
        "# First we need our vocabulary\n",
        "vocab = {}\n",
        "size = 0\n",
        "\n",
        "for line in corpus_processed:\n",
        "  for word in line:\n",
        "    if word not in vocab:\n",
        "      vocab[word] = size\n",
        "      size += 1\n",
        "\n",
        "rev_vocab = {i:word for word, i in vocab.items()}"
      ],
      "metadata": {
        "id": "GQ_PVlcpua2M"
      },
      "execution_count": 16,
      "outputs": []
    },
    {
      "cell_type": "code",
      "source": [
        "vocab['mouse'], rev_vocab[3]"
      ],
      "metadata": {
        "colab": {
          "base_uri": "https://localhost:8080/"
        },
        "id": "tw5APor1wdPk",
        "outputId": "26f5224f-8c47-4ad0-fe32-4fc95c38e333"
      },
      "execution_count": 17,
      "outputs": [
        {
          "output_type": "execute_result",
          "data": {
            "text/plain": [
              "(3, 'mouse')"
            ]
          },
          "metadata": {},
          "execution_count": 17
        }
      ]
    },
    {
      "cell_type": "code",
      "source": [
        "size"
      ],
      "metadata": {
        "colab": {
          "base_uri": "https://localhost:8080/"
        },
        "id": "VNuWNKvlwd63",
        "outputId": "20ffe9eb-16ba-4802-b4f8-f1cb2098ffd9"
      },
      "execution_count": 18,
      "outputs": [
        {
          "output_type": "execute_result",
          "data": {
            "text/plain": [
              "23"
            ]
          },
          "metadata": {},
          "execution_count": 18
        }
      ]
    },
    {
      "cell_type": "code",
      "source": [
        "from collections import defaultdict\n",
        "from tqdm import tqdm\n",
        "CONTEXT_WINDOW = 6\n",
        "\n",
        "X, y = [], []\n",
        "\n",
        "for line in tqdm(corpus_processed):\n",
        "  for i in range(CONTEXT_WINDOW // 2, len(line) - CONTEXT_WINDOW // 2):\n",
        "    curr_word = line[i]\n",
        "    prev_words = line[i-CONTEXT_WINDOW // 2:i]\n",
        "    next_words = line[i+1: i+1+(CONTEXT_WINDOW // 2)]\n",
        "    X.append([vocab[i] for i in prev_words + next_words])\n",
        "    y.append(vocab[curr_word])"
      ],
      "metadata": {
        "colab": {
          "base_uri": "https://localhost:8080/"
        },
        "id": "6Tqb2hsLwgSq",
        "outputId": "f48f864c-ebd8-474d-84db-5007313c8be8"
      },
      "execution_count": 105,
      "outputs": [
        {
          "output_type": "stream",
          "name": "stderr",
          "text": [
            "100%|██████████| 14/14 [00:00<00:00, 5147.74it/s]\n"
          ]
        }
      ]
    },
    {
      "cell_type": "code",
      "source": [
        "X[:5]"
      ],
      "metadata": {
        "colab": {
          "base_uri": "https://localhost:8080/"
        },
        "id": "1GSVYiNsyA7m",
        "outputId": "485cd0e7-573a-4578-cbaa-13eddd9bfcd0"
      },
      "execution_count": 106,
      "outputs": [
        {
          "output_type": "execute_result",
          "data": {
            "text/plain": [
              "[[0, 0, 0, 2, 3, 0],\n",
              " [0, 0, 1, 3, 0, 0],\n",
              " [0, 1, 2, 0, 0, 0],\n",
              " [0, 0, 0, 4, 3, 0],\n",
              " [0, 0, 1, 3, 0, 0]]"
            ]
          },
          "metadata": {},
          "execution_count": 106
        }
      ]
    },
    {
      "cell_type": "code",
      "source": [
        "y[:5]"
      ],
      "metadata": {
        "colab": {
          "base_uri": "https://localhost:8080/"
        },
        "id": "K6OYCImQtr-v",
        "outputId": "45ef5a9f-1b8f-4bc4-e44a-1ef81e129e7c"
      },
      "execution_count": 107,
      "outputs": [
        {
          "output_type": "execute_result",
          "data": {
            "text/plain": [
              "[1, 2, 3, 1, 4]"
            ]
          },
          "metadata": {},
          "execution_count": 107
        }
      ]
    },
    {
      "cell_type": "markdown",
      "source": [
        "# Word2Vec Embedding Model"
      ],
      "metadata": {
        "id": "K2NsZMpYyh03"
      }
    },
    {
      "cell_type": "code",
      "source": [
        "# CONSTANTS\n",
        "VOCAB_SIZE = size\n",
        "EMB_SIZE = 8\n",
        "NUM_EPOCHS = 10"
      ],
      "metadata": {
        "id": "8A3814tnu0f0"
      },
      "execution_count": 22,
      "outputs": []
    },
    {
      "cell_type": "code",
      "source": [
        "import numpy as np\n",
        "import torch\n",
        "import torch.nn as nn\n",
        "from torch.utils.data import DataLoader, Dataset\n",
        "import torch.nn.functional as F"
      ],
      "metadata": {
        "id": "IkJmSMzYIKeh"
      },
      "execution_count": 23,
      "outputs": []
    },
    {
      "cell_type": "code",
      "source": [
        "device = torch.device('cuda:0' if torch.cuda.is_available() else 'cpu')\n",
        "device"
      ],
      "metadata": {
        "colab": {
          "base_uri": "https://localhost:8080/"
        },
        "id": "5MSnvEsTINR5",
        "outputId": "031fefda-eef9-4247-dc0a-6301aa1c132a"
      },
      "execution_count": 24,
      "outputs": [
        {
          "output_type": "execute_result",
          "data": {
            "text/plain": [
              "device(type='cuda', index=0)"
            ]
          },
          "metadata": {},
          "execution_count": 24
        }
      ]
    },
    {
      "cell_type": "code",
      "source": [
        "class Word2Vec(nn.Module):\n",
        "\n",
        "    def __init__(self, vocab_size, embedding_size):\n",
        "        super().__init__()\n",
        "        self.word_emb = nn.Embedding(\n",
        "            num_embeddings=vocab_size,\n",
        "            embedding_dim=embedding_size,\n",
        "        )\n",
        "        self.fc = nn.Linear(embedding_size, vocab_size)\n",
        "\n",
        "    def forward(self, x):\n",
        "        embds = self.word_emb(x)\n",
        "        emb = torch.mean(embds, dim=1)\n",
        "        out = self.fc(emb)\n",
        "        return out\n",
        "\n",
        "word2vec = Word2Vec(vocab_size=VOCAB_SIZE, embedding_size=EMB_SIZE)\n",
        "word2vec = word2vec.to(device)"
      ],
      "metadata": {
        "id": "5nDytIGHyhFo"
      },
      "execution_count": 108,
      "outputs": []
    },
    {
      "cell_type": "code",
      "source": [
        "optimizer = torch.optim.Adam(word2vec.parameters(), lr=0.001)"
      ],
      "metadata": {
        "id": "3P3ifruc3rQ3"
      },
      "execution_count": 109,
      "outputs": []
    },
    {
      "cell_type": "code",
      "source": [
        "class CustomDataset(torch.utils.data.Dataset):\n",
        "  def __init__(self, X, y):\n",
        "    self.X = X\n",
        "    self.y = y\n",
        "\n",
        "  def __getitem__(self, idx):\n",
        "    return torch.LongTensor(self.X[idx]), torch.LongTensor([self.y[idx]])\n",
        "\n",
        "  def __len__(self):\n",
        "    return len(self.X)\n",
        "\n",
        "dataset = CustomDataset(X, y)\n",
        "train_dataset = DataLoader(dataset, batch_size=8, shuffle=True)"
      ],
      "metadata": {
        "id": "Z4cJA7g66F-s"
      },
      "execution_count": 110,
      "outputs": []
    },
    {
      "cell_type": "code",
      "source": [
        "batch = next(iter(train_dataset))"
      ],
      "metadata": {
        "id": "YBwUlk8hHO7v"
      },
      "execution_count": 111,
      "outputs": []
    },
    {
      "cell_type": "code",
      "source": [
        "word2vec.train()\n",
        "\n",
        "loss_func = nn.CrossEntropyLoss()\n",
        "\n",
        "losses = []\n",
        "for epoch in tqdm(range(NUM_EPOCHS)):\n",
        "  epoch_loss = 0\n",
        "  for X, y in train_dataset:\n",
        "    X, y = X.to(device), y.to(device)\n",
        "    output = word2vec(X)\n",
        "    loss = loss_func(output, y.squeeze(dim=1))\n",
        "    loss.backward()\n",
        "    optimizer.step()\n",
        "    optimizer.zero_grad()\n",
        "    epoch_loss += loss.cpu().detach().item()\n",
        "\n",
        "  losses.append(epoch_loss)\n",
        "print(f\"Epoch {epoch}: loss = {epoch_loss}\")"
      ],
      "metadata": {
        "colab": {
          "base_uri": "https://localhost:8080/"
        },
        "id": "ryVYpfll36zj",
        "outputId": "3acbac82-d6c6-4054-c94f-9f4616ce9b98"
      },
      "execution_count": 120,
      "outputs": [
        {
          "output_type": "stream",
          "name": "stderr",
          "text": [
            "100%|██████████| 10/10 [00:00<00:00, 68.27it/s]"
          ]
        },
        {
          "output_type": "stream",
          "name": "stdout",
          "text": [
            "Epoch 9: loss = 3.3023142516613007\n"
          ]
        },
        {
          "output_type": "stream",
          "name": "stderr",
          "text": [
            "\n"
          ]
        }
      ]
    },
    {
      "cell_type": "code",
      "source": [
        "word_vectors = word2vec.word_emb(torch.LongTensor([i for i in range(VOCAB_SIZE)]).to(device)).cpu().detach().numpy()"
      ],
      "metadata": {
        "id": "-0zPGZyIOQ7o"
      },
      "execution_count": 121,
      "outputs": []
    },
    {
      "cell_type": "code",
      "source": [
        "import pandas as pd\n",
        "\n",
        "word_vectors = pd.DataFrame(word_vectors, columns=[f\"f_{i}\" for i in range(EMB_SIZE)])\n",
        "word_vectors['word'] = [rev_vocab[i] for i in range(0, VOCAB_SIZE)]"
      ],
      "metadata": {
        "id": "GSBIPsRTR2R8"
      },
      "execution_count": 122,
      "outputs": []
    },
    {
      "cell_type": "code",
      "source": [
        "word_vectors"
      ],
      "metadata": {
        "colab": {
          "base_uri": "https://localhost:8080/",
          "height": 796
        },
        "id": "gp89nwOUSOVh",
        "outputId": "229df3fb-82c8-476a-998e-f03ccd0f4b3c"
      },
      "execution_count": 123,
      "outputs": [
        {
          "output_type": "execute_result",
          "data": {
            "text/plain": [
              "         f_0       f_1       f_2       f_3       f_4       f_5       f_6  \\\n",
              "0  -1.067397 -0.801663 -1.332825  1.015873 -0.902183 -0.245418  0.608063   \n",
              "1   5.155348  3.876250  0.261261 -2.418043  0.437870  0.465762  2.436163   \n",
              "2  -1.559241 -2.174669 -1.384145  2.044338  2.503202 -3.054060  1.888509   \n",
              "3  -3.267818  4.795168  2.291086  0.573898 -2.850217  1.131927 -3.155930   \n",
              "4  -1.277344 -3.426071 -1.365879  0.884095  1.733199 -4.235494  2.297269   \n",
              "5  -1.652216 -3.294243 -1.825176  2.506169 -0.239695 -3.938842  1.899568   \n",
              "6  -2.081284 -0.991527 -2.824138  6.219646  3.111309  3.350767  0.195719   \n",
              "7  -0.572580 -3.827738 -2.566583 -1.857773  2.447538 -2.053251 -0.474032   \n",
              "8   5.396008  3.136331 -1.476307 -3.636201 -3.398837 -2.878013 -2.151384   \n",
              "9  -5.122947  2.646393  2.569002 -0.548096 -1.465672  0.519846  4.027491   \n",
              "10 -2.207423  2.251546 -1.246325 -1.410405  3.402066  2.043521  1.952095   \n",
              "11 -0.852711  1.271755  3.417938  1.730503  1.551274  1.811487  1.327402   \n",
              "12 -0.830954 -0.238002  2.482760  1.094060  3.143410 -2.386743 -1.393598   \n",
              "13 -2.500729 -7.437476  0.381696  2.124998  1.121050 -4.185350 -1.555551   \n",
              "14  3.923695  0.493951 -0.211973  3.274733 -1.499583 -3.073927  0.009240   \n",
              "15  3.928817 -0.561484  0.327170  3.035815 -1.720800 -2.495250 -0.713365   \n",
              "16  0.756436  0.817144 -0.026023 -1.671095 -0.971462 -3.027191  4.876816   \n",
              "17 -1.088618 -1.546456  2.420271  6.035884 -0.142059  1.539912  1.930901   \n",
              "18  2.885014 -3.826505 -4.196731  0.857041  0.234334  3.452073  4.544253   \n",
              "19 -0.762408  3.808641  3.753195 -1.143914 -4.631677 -1.858037 -2.033191   \n",
              "20 -0.740004 -1.818430  1.609721  5.877964  0.310047 -0.692936  2.140351   \n",
              "21  4.888302  0.672865 -0.668151  2.791534 -1.121068 -2.138875 -0.546979   \n",
              "22 -0.793976 -2.477415  2.654468  4.474229  1.701904 -0.669288  2.125443   \n",
              "\n",
              "         f_7     word  \n",
              "0  -0.991950    <pad>  \n",
              "1   3.617084      cat  \n",
              "2  -0.352399   chases  \n",
              "3   1.696312    mouse  \n",
              "4  -1.856599  catches  \n",
              "5  -0.787619     eats  \n",
              "6   4.316447     runs  \n",
              "7   1.734207     into  \n",
              "8  -2.437088     hole  \n",
              "9  -0.476111     says  \n",
              "10 -3.563816      bad  \n",
              "11 -2.425784    words  \n",
              "12 -0.575753      and  \n",
              "13  3.102188      are  \n",
              "14  1.534183     pals  \n",
              "15  0.809275    chums  \n",
              "16 -0.877191   stores  \n",
              "17 -3.473943     food  \n",
              "18  0.045954       in  \n",
              "19 -5.890861    house  \n",
              "20 -1.573727   sleeps  \n",
              "21  0.807099  buddies  \n",
              "22 -1.356035    lives  "
            ],
            "text/html": [
              "\n",
              "  <div id=\"df-e1cc2b26-6b24-4965-85ee-e4d873086331\" class=\"colab-df-container\">\n",
              "    <div>\n",
              "<style scoped>\n",
              "    .dataframe tbody tr th:only-of-type {\n",
              "        vertical-align: middle;\n",
              "    }\n",
              "\n",
              "    .dataframe tbody tr th {\n",
              "        vertical-align: top;\n",
              "    }\n",
              "\n",
              "    .dataframe thead th {\n",
              "        text-align: right;\n",
              "    }\n",
              "</style>\n",
              "<table border=\"1\" class=\"dataframe\">\n",
              "  <thead>\n",
              "    <tr style=\"text-align: right;\">\n",
              "      <th></th>\n",
              "      <th>f_0</th>\n",
              "      <th>f_1</th>\n",
              "      <th>f_2</th>\n",
              "      <th>f_3</th>\n",
              "      <th>f_4</th>\n",
              "      <th>f_5</th>\n",
              "      <th>f_6</th>\n",
              "      <th>f_7</th>\n",
              "      <th>word</th>\n",
              "    </tr>\n",
              "  </thead>\n",
              "  <tbody>\n",
              "    <tr>\n",
              "      <th>0</th>\n",
              "      <td>-1.067397</td>\n",
              "      <td>-0.801663</td>\n",
              "      <td>-1.332825</td>\n",
              "      <td>1.015873</td>\n",
              "      <td>-0.902183</td>\n",
              "      <td>-0.245418</td>\n",
              "      <td>0.608063</td>\n",
              "      <td>-0.991950</td>\n",
              "      <td>&lt;pad&gt;</td>\n",
              "    </tr>\n",
              "    <tr>\n",
              "      <th>1</th>\n",
              "      <td>5.155348</td>\n",
              "      <td>3.876250</td>\n",
              "      <td>0.261261</td>\n",
              "      <td>-2.418043</td>\n",
              "      <td>0.437870</td>\n",
              "      <td>0.465762</td>\n",
              "      <td>2.436163</td>\n",
              "      <td>3.617084</td>\n",
              "      <td>cat</td>\n",
              "    </tr>\n",
              "    <tr>\n",
              "      <th>2</th>\n",
              "      <td>-1.559241</td>\n",
              "      <td>-2.174669</td>\n",
              "      <td>-1.384145</td>\n",
              "      <td>2.044338</td>\n",
              "      <td>2.503202</td>\n",
              "      <td>-3.054060</td>\n",
              "      <td>1.888509</td>\n",
              "      <td>-0.352399</td>\n",
              "      <td>chases</td>\n",
              "    </tr>\n",
              "    <tr>\n",
              "      <th>3</th>\n",
              "      <td>-3.267818</td>\n",
              "      <td>4.795168</td>\n",
              "      <td>2.291086</td>\n",
              "      <td>0.573898</td>\n",
              "      <td>-2.850217</td>\n",
              "      <td>1.131927</td>\n",
              "      <td>-3.155930</td>\n",
              "      <td>1.696312</td>\n",
              "      <td>mouse</td>\n",
              "    </tr>\n",
              "    <tr>\n",
              "      <th>4</th>\n",
              "      <td>-1.277344</td>\n",
              "      <td>-3.426071</td>\n",
              "      <td>-1.365879</td>\n",
              "      <td>0.884095</td>\n",
              "      <td>1.733199</td>\n",
              "      <td>-4.235494</td>\n",
              "      <td>2.297269</td>\n",
              "      <td>-1.856599</td>\n",
              "      <td>catches</td>\n",
              "    </tr>\n",
              "    <tr>\n",
              "      <th>5</th>\n",
              "      <td>-1.652216</td>\n",
              "      <td>-3.294243</td>\n",
              "      <td>-1.825176</td>\n",
              "      <td>2.506169</td>\n",
              "      <td>-0.239695</td>\n",
              "      <td>-3.938842</td>\n",
              "      <td>1.899568</td>\n",
              "      <td>-0.787619</td>\n",
              "      <td>eats</td>\n",
              "    </tr>\n",
              "    <tr>\n",
              "      <th>6</th>\n",
              "      <td>-2.081284</td>\n",
              "      <td>-0.991527</td>\n",
              "      <td>-2.824138</td>\n",
              "      <td>6.219646</td>\n",
              "      <td>3.111309</td>\n",
              "      <td>3.350767</td>\n",
              "      <td>0.195719</td>\n",
              "      <td>4.316447</td>\n",
              "      <td>runs</td>\n",
              "    </tr>\n",
              "    <tr>\n",
              "      <th>7</th>\n",
              "      <td>-0.572580</td>\n",
              "      <td>-3.827738</td>\n",
              "      <td>-2.566583</td>\n",
              "      <td>-1.857773</td>\n",
              "      <td>2.447538</td>\n",
              "      <td>-2.053251</td>\n",
              "      <td>-0.474032</td>\n",
              "      <td>1.734207</td>\n",
              "      <td>into</td>\n",
              "    </tr>\n",
              "    <tr>\n",
              "      <th>8</th>\n",
              "      <td>5.396008</td>\n",
              "      <td>3.136331</td>\n",
              "      <td>-1.476307</td>\n",
              "      <td>-3.636201</td>\n",
              "      <td>-3.398837</td>\n",
              "      <td>-2.878013</td>\n",
              "      <td>-2.151384</td>\n",
              "      <td>-2.437088</td>\n",
              "      <td>hole</td>\n",
              "    </tr>\n",
              "    <tr>\n",
              "      <th>9</th>\n",
              "      <td>-5.122947</td>\n",
              "      <td>2.646393</td>\n",
              "      <td>2.569002</td>\n",
              "      <td>-0.548096</td>\n",
              "      <td>-1.465672</td>\n",
              "      <td>0.519846</td>\n",
              "      <td>4.027491</td>\n",
              "      <td>-0.476111</td>\n",
              "      <td>says</td>\n",
              "    </tr>\n",
              "    <tr>\n",
              "      <th>10</th>\n",
              "      <td>-2.207423</td>\n",
              "      <td>2.251546</td>\n",
              "      <td>-1.246325</td>\n",
              "      <td>-1.410405</td>\n",
              "      <td>3.402066</td>\n",
              "      <td>2.043521</td>\n",
              "      <td>1.952095</td>\n",
              "      <td>-3.563816</td>\n",
              "      <td>bad</td>\n",
              "    </tr>\n",
              "    <tr>\n",
              "      <th>11</th>\n",
              "      <td>-0.852711</td>\n",
              "      <td>1.271755</td>\n",
              "      <td>3.417938</td>\n",
              "      <td>1.730503</td>\n",
              "      <td>1.551274</td>\n",
              "      <td>1.811487</td>\n",
              "      <td>1.327402</td>\n",
              "      <td>-2.425784</td>\n",
              "      <td>words</td>\n",
              "    </tr>\n",
              "    <tr>\n",
              "      <th>12</th>\n",
              "      <td>-0.830954</td>\n",
              "      <td>-0.238002</td>\n",
              "      <td>2.482760</td>\n",
              "      <td>1.094060</td>\n",
              "      <td>3.143410</td>\n",
              "      <td>-2.386743</td>\n",
              "      <td>-1.393598</td>\n",
              "      <td>-0.575753</td>\n",
              "      <td>and</td>\n",
              "    </tr>\n",
              "    <tr>\n",
              "      <th>13</th>\n",
              "      <td>-2.500729</td>\n",
              "      <td>-7.437476</td>\n",
              "      <td>0.381696</td>\n",
              "      <td>2.124998</td>\n",
              "      <td>1.121050</td>\n",
              "      <td>-4.185350</td>\n",
              "      <td>-1.555551</td>\n",
              "      <td>3.102188</td>\n",
              "      <td>are</td>\n",
              "    </tr>\n",
              "    <tr>\n",
              "      <th>14</th>\n",
              "      <td>3.923695</td>\n",
              "      <td>0.493951</td>\n",
              "      <td>-0.211973</td>\n",
              "      <td>3.274733</td>\n",
              "      <td>-1.499583</td>\n",
              "      <td>-3.073927</td>\n",
              "      <td>0.009240</td>\n",
              "      <td>1.534183</td>\n",
              "      <td>pals</td>\n",
              "    </tr>\n",
              "    <tr>\n",
              "      <th>15</th>\n",
              "      <td>3.928817</td>\n",
              "      <td>-0.561484</td>\n",
              "      <td>0.327170</td>\n",
              "      <td>3.035815</td>\n",
              "      <td>-1.720800</td>\n",
              "      <td>-2.495250</td>\n",
              "      <td>-0.713365</td>\n",
              "      <td>0.809275</td>\n",
              "      <td>chums</td>\n",
              "    </tr>\n",
              "    <tr>\n",
              "      <th>16</th>\n",
              "      <td>0.756436</td>\n",
              "      <td>0.817144</td>\n",
              "      <td>-0.026023</td>\n",
              "      <td>-1.671095</td>\n",
              "      <td>-0.971462</td>\n",
              "      <td>-3.027191</td>\n",
              "      <td>4.876816</td>\n",
              "      <td>-0.877191</td>\n",
              "      <td>stores</td>\n",
              "    </tr>\n",
              "    <tr>\n",
              "      <th>17</th>\n",
              "      <td>-1.088618</td>\n",
              "      <td>-1.546456</td>\n",
              "      <td>2.420271</td>\n",
              "      <td>6.035884</td>\n",
              "      <td>-0.142059</td>\n",
              "      <td>1.539912</td>\n",
              "      <td>1.930901</td>\n",
              "      <td>-3.473943</td>\n",
              "      <td>food</td>\n",
              "    </tr>\n",
              "    <tr>\n",
              "      <th>18</th>\n",
              "      <td>2.885014</td>\n",
              "      <td>-3.826505</td>\n",
              "      <td>-4.196731</td>\n",
              "      <td>0.857041</td>\n",
              "      <td>0.234334</td>\n",
              "      <td>3.452073</td>\n",
              "      <td>4.544253</td>\n",
              "      <td>0.045954</td>\n",
              "      <td>in</td>\n",
              "    </tr>\n",
              "    <tr>\n",
              "      <th>19</th>\n",
              "      <td>-0.762408</td>\n",
              "      <td>3.808641</td>\n",
              "      <td>3.753195</td>\n",
              "      <td>-1.143914</td>\n",
              "      <td>-4.631677</td>\n",
              "      <td>-1.858037</td>\n",
              "      <td>-2.033191</td>\n",
              "      <td>-5.890861</td>\n",
              "      <td>house</td>\n",
              "    </tr>\n",
              "    <tr>\n",
              "      <th>20</th>\n",
              "      <td>-0.740004</td>\n",
              "      <td>-1.818430</td>\n",
              "      <td>1.609721</td>\n",
              "      <td>5.877964</td>\n",
              "      <td>0.310047</td>\n",
              "      <td>-0.692936</td>\n",
              "      <td>2.140351</td>\n",
              "      <td>-1.573727</td>\n",
              "      <td>sleeps</td>\n",
              "    </tr>\n",
              "    <tr>\n",
              "      <th>21</th>\n",
              "      <td>4.888302</td>\n",
              "      <td>0.672865</td>\n",
              "      <td>-0.668151</td>\n",
              "      <td>2.791534</td>\n",
              "      <td>-1.121068</td>\n",
              "      <td>-2.138875</td>\n",
              "      <td>-0.546979</td>\n",
              "      <td>0.807099</td>\n",
              "      <td>buddies</td>\n",
              "    </tr>\n",
              "    <tr>\n",
              "      <th>22</th>\n",
              "      <td>-0.793976</td>\n",
              "      <td>-2.477415</td>\n",
              "      <td>2.654468</td>\n",
              "      <td>4.474229</td>\n",
              "      <td>1.701904</td>\n",
              "      <td>-0.669288</td>\n",
              "      <td>2.125443</td>\n",
              "      <td>-1.356035</td>\n",
              "      <td>lives</td>\n",
              "    </tr>\n",
              "  </tbody>\n",
              "</table>\n",
              "</div>\n",
              "    <div class=\"colab-df-buttons\">\n",
              "\n",
              "  <div class=\"colab-df-container\">\n",
              "    <button class=\"colab-df-convert\" onclick=\"convertToInteractive('df-e1cc2b26-6b24-4965-85ee-e4d873086331')\"\n",
              "            title=\"Convert this dataframe to an interactive table.\"\n",
              "            style=\"display:none;\">\n",
              "\n",
              "  <svg xmlns=\"http://www.w3.org/2000/svg\" height=\"24px\" viewBox=\"0 -960 960 960\">\n",
              "    <path d=\"M120-120v-720h720v720H120Zm60-500h600v-160H180v160Zm220 220h160v-160H400v160Zm0 220h160v-160H400v160ZM180-400h160v-160H180v160Zm440 0h160v-160H620v160ZM180-180h160v-160H180v160Zm440 0h160v-160H620v160Z\"/>\n",
              "  </svg>\n",
              "    </button>\n",
              "\n",
              "  <style>\n",
              "    .colab-df-container {\n",
              "      display:flex;\n",
              "      gap: 12px;\n",
              "    }\n",
              "\n",
              "    .colab-df-convert {\n",
              "      background-color: #E8F0FE;\n",
              "      border: none;\n",
              "      border-radius: 50%;\n",
              "      cursor: pointer;\n",
              "      display: none;\n",
              "      fill: #1967D2;\n",
              "      height: 32px;\n",
              "      padding: 0 0 0 0;\n",
              "      width: 32px;\n",
              "    }\n",
              "\n",
              "    .colab-df-convert:hover {\n",
              "      background-color: #E2EBFA;\n",
              "      box-shadow: 0px 1px 2px rgba(60, 64, 67, 0.3), 0px 1px 3px 1px rgba(60, 64, 67, 0.15);\n",
              "      fill: #174EA6;\n",
              "    }\n",
              "\n",
              "    .colab-df-buttons div {\n",
              "      margin-bottom: 4px;\n",
              "    }\n",
              "\n",
              "    [theme=dark] .colab-df-convert {\n",
              "      background-color: #3B4455;\n",
              "      fill: #D2E3FC;\n",
              "    }\n",
              "\n",
              "    [theme=dark] .colab-df-convert:hover {\n",
              "      background-color: #434B5C;\n",
              "      box-shadow: 0px 1px 3px 1px rgba(0, 0, 0, 0.15);\n",
              "      filter: drop-shadow(0px 1px 2px rgba(0, 0, 0, 0.3));\n",
              "      fill: #FFFFFF;\n",
              "    }\n",
              "  </style>\n",
              "\n",
              "    <script>\n",
              "      const buttonEl =\n",
              "        document.querySelector('#df-e1cc2b26-6b24-4965-85ee-e4d873086331 button.colab-df-convert');\n",
              "      buttonEl.style.display =\n",
              "        google.colab.kernel.accessAllowed ? 'block' : 'none';\n",
              "\n",
              "      async function convertToInteractive(key) {\n",
              "        const element = document.querySelector('#df-e1cc2b26-6b24-4965-85ee-e4d873086331');\n",
              "        const dataTable =\n",
              "          await google.colab.kernel.invokeFunction('convertToInteractive',\n",
              "                                                    [key], {});\n",
              "        if (!dataTable) return;\n",
              "\n",
              "        const docLinkHtml = 'Like what you see? Visit the ' +\n",
              "          '<a target=\"_blank\" href=https://colab.research.google.com/notebooks/data_table.ipynb>data table notebook</a>'\n",
              "          + ' to learn more about interactive tables.';\n",
              "        element.innerHTML = '';\n",
              "        dataTable['output_type'] = 'display_data';\n",
              "        await google.colab.output.renderOutput(dataTable, element);\n",
              "        const docLink = document.createElement('div');\n",
              "        docLink.innerHTML = docLinkHtml;\n",
              "        element.appendChild(docLink);\n",
              "      }\n",
              "    </script>\n",
              "  </div>\n",
              "\n",
              "\n",
              "<div id=\"df-f6859897-dba6-4e8e-a2cd-01b3efe19d75\">\n",
              "  <button class=\"colab-df-quickchart\" onclick=\"quickchart('df-f6859897-dba6-4e8e-a2cd-01b3efe19d75')\"\n",
              "            title=\"Suggest charts\"\n",
              "            style=\"display:none;\">\n",
              "\n",
              "<svg xmlns=\"http://www.w3.org/2000/svg\" height=\"24px\"viewBox=\"0 0 24 24\"\n",
              "     width=\"24px\">\n",
              "    <g>\n",
              "        <path d=\"M19 3H5c-1.1 0-2 .9-2 2v14c0 1.1.9 2 2 2h14c1.1 0 2-.9 2-2V5c0-1.1-.9-2-2-2zM9 17H7v-7h2v7zm4 0h-2V7h2v10zm4 0h-2v-4h2v4z\"/>\n",
              "    </g>\n",
              "</svg>\n",
              "  </button>\n",
              "\n",
              "<style>\n",
              "  .colab-df-quickchart {\n",
              "      --bg-color: #E8F0FE;\n",
              "      --fill-color: #1967D2;\n",
              "      --hover-bg-color: #E2EBFA;\n",
              "      --hover-fill-color: #174EA6;\n",
              "      --disabled-fill-color: #AAA;\n",
              "      --disabled-bg-color: #DDD;\n",
              "  }\n",
              "\n",
              "  [theme=dark] .colab-df-quickchart {\n",
              "      --bg-color: #3B4455;\n",
              "      --fill-color: #D2E3FC;\n",
              "      --hover-bg-color: #434B5C;\n",
              "      --hover-fill-color: #FFFFFF;\n",
              "      --disabled-bg-color: #3B4455;\n",
              "      --disabled-fill-color: #666;\n",
              "  }\n",
              "\n",
              "  .colab-df-quickchart {\n",
              "    background-color: var(--bg-color);\n",
              "    border: none;\n",
              "    border-radius: 50%;\n",
              "    cursor: pointer;\n",
              "    display: none;\n",
              "    fill: var(--fill-color);\n",
              "    height: 32px;\n",
              "    padding: 0;\n",
              "    width: 32px;\n",
              "  }\n",
              "\n",
              "  .colab-df-quickchart:hover {\n",
              "    background-color: var(--hover-bg-color);\n",
              "    box-shadow: 0 1px 2px rgba(60, 64, 67, 0.3), 0 1px 3px 1px rgba(60, 64, 67, 0.15);\n",
              "    fill: var(--button-hover-fill-color);\n",
              "  }\n",
              "\n",
              "  .colab-df-quickchart-complete:disabled,\n",
              "  .colab-df-quickchart-complete:disabled:hover {\n",
              "    background-color: var(--disabled-bg-color);\n",
              "    fill: var(--disabled-fill-color);\n",
              "    box-shadow: none;\n",
              "  }\n",
              "\n",
              "  .colab-df-spinner {\n",
              "    border: 2px solid var(--fill-color);\n",
              "    border-color: transparent;\n",
              "    border-bottom-color: var(--fill-color);\n",
              "    animation:\n",
              "      spin 1s steps(1) infinite;\n",
              "  }\n",
              "\n",
              "  @keyframes spin {\n",
              "    0% {\n",
              "      border-color: transparent;\n",
              "      border-bottom-color: var(--fill-color);\n",
              "      border-left-color: var(--fill-color);\n",
              "    }\n",
              "    20% {\n",
              "      border-color: transparent;\n",
              "      border-left-color: var(--fill-color);\n",
              "      border-top-color: var(--fill-color);\n",
              "    }\n",
              "    30% {\n",
              "      border-color: transparent;\n",
              "      border-left-color: var(--fill-color);\n",
              "      border-top-color: var(--fill-color);\n",
              "      border-right-color: var(--fill-color);\n",
              "    }\n",
              "    40% {\n",
              "      border-color: transparent;\n",
              "      border-right-color: var(--fill-color);\n",
              "      border-top-color: var(--fill-color);\n",
              "    }\n",
              "    60% {\n",
              "      border-color: transparent;\n",
              "      border-right-color: var(--fill-color);\n",
              "    }\n",
              "    80% {\n",
              "      border-color: transparent;\n",
              "      border-right-color: var(--fill-color);\n",
              "      border-bottom-color: var(--fill-color);\n",
              "    }\n",
              "    90% {\n",
              "      border-color: transparent;\n",
              "      border-bottom-color: var(--fill-color);\n",
              "    }\n",
              "  }\n",
              "</style>\n",
              "\n",
              "  <script>\n",
              "    async function quickchart(key) {\n",
              "      const quickchartButtonEl =\n",
              "        document.querySelector('#' + key + ' button');\n",
              "      quickchartButtonEl.disabled = true;  // To prevent multiple clicks.\n",
              "      quickchartButtonEl.classList.add('colab-df-spinner');\n",
              "      try {\n",
              "        const charts = await google.colab.kernel.invokeFunction(\n",
              "            'suggestCharts', [key], {});\n",
              "      } catch (error) {\n",
              "        console.error('Error during call to suggestCharts:', error);\n",
              "      }\n",
              "      quickchartButtonEl.classList.remove('colab-df-spinner');\n",
              "      quickchartButtonEl.classList.add('colab-df-quickchart-complete');\n",
              "    }\n",
              "    (() => {\n",
              "      let quickchartButtonEl =\n",
              "        document.querySelector('#df-f6859897-dba6-4e8e-a2cd-01b3efe19d75 button');\n",
              "      quickchartButtonEl.style.display =\n",
              "        google.colab.kernel.accessAllowed ? 'block' : 'none';\n",
              "    })();\n",
              "  </script>\n",
              "</div>\n",
              "    </div>\n",
              "  </div>\n"
            ]
          },
          "metadata": {},
          "execution_count": 123
        }
      ]
    },
    {
      "cell_type": "code",
      "source": [
        "from sklearn.decomposition import PCA"
      ],
      "metadata": {
        "id": "cOSd58eESUOx"
      },
      "execution_count": 124,
      "outputs": []
    },
    {
      "cell_type": "code",
      "source": [
        "pca = PCA(2)\n",
        "\n",
        "pca_vectors = pca.fit_transform(word_vectors.to_numpy()[:,:-1])"
      ],
      "metadata": {
        "id": "F1KZvZSSSe_S"
      },
      "execution_count": 125,
      "outputs": []
    },
    {
      "cell_type": "code",
      "source": [
        "import matplotlib.pyplot as plt\n",
        "plt.figure(figsize=(10, 10))\n",
        "plt.scatter(pca_vectors[:,0], pca_vectors[:,1])\n",
        "for i, word in enumerate(word_vectors['word'].tolist()):\n",
        "  x, y = pca_vectors[i]\n",
        "  plt.annotate(word, (x, y))\n",
        "plt.title(\"Visualizing Word Embeddings after reducing dimensions with PCA\")\n",
        "plt.xlabel(\"PCA-1\")\n",
        "plt.ylabel(\"PCA-2\")\n",
        "plt.show()"
      ],
      "metadata": {
        "colab": {
          "base_uri": "https://localhost:8080/",
          "height": 892
        },
        "id": "nRyhokXxSrVj",
        "outputId": "34625237-0df0-4b0c-e076-cb4c1b737f1a"
      },
      "execution_count": 126,
      "outputs": [
        {
          "output_type": "display_data",
          "data": {
            "text/plain": [
              "<Figure size 1000x1000 with 1 Axes>"
            ],
            "image/png": "[encoded data removed]"
          },
          "metadata": {}
        }
      ]
    },
    {
      "cell_type": "code",
      "source": [],
      "metadata": {
        "id": "33JsaABsxf96"
      },
      "execution_count": null,
      "outputs": []
    },
    {
      "cell_type": "code",
      "source": [],
      "metadata": {
        "id": "Fz1yhaacC22z"
      },
      "execution_count": null,
      "outputs": []
    }
  ]
}